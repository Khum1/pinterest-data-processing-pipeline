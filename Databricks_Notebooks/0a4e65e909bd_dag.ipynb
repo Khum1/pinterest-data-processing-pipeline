{
 "cells": [
  {
   "cell_type": "code",
   "execution_count": 0,
   "metadata": {
    "application/vnd.databricks.v1+cell": {
     "cellMetadata": {},
     "inputWidgets": {},
     "nuid": "e2cf6eec-24da-4162-b8b2-59c2400586df",
     "showTitle": false,
     "title": ""
    }
   },
   "outputs": [],
   "source": [
    "from airflow import DAG\n",
    "from airflow.providers.databricks.operators.databricks import DatabricksSubmitRunOperator, DatabricksRunNowOperator\n",
    "from datetime import datetime, timedelta \n",
    "\n",
    "\n",
    "#Define params for Submit Run Operator\n",
    "notebook_task = {\n",
    "    'notebook_path': '/Users/katy.humphries96@gmail.com/Pinterest-S3-setup',\n",
    "}\n",
    "\n",
    "\n",
    "#Define params for Run Now Operator\n",
    "notebook_params = {\n",
    "    \"Variable\":5\n",
    "}\n",
    "\n",
    "\n",
    "default_args = {\n",
    "    'owner': 'Katy Humphries',\n",
    "    'depends_on_past': False,\n",
    "    'email_on_failure': False,\n",
    "    'email_on_retry': False,\n",
    "    'retries': 2,\n",
    "    'retry_delay': timedelta(minutes=2)\n",
    "}\n",
    "\n",
    "\n",
    "with DAG('databricks_dag',\n",
    "    # should be a datetime format\n",
    "    start_date= datetime(2023, 6, 8, 10, 00),\n",
    "    # check out possible intervals, should be a string\n",
    "    schedule_interval='@hourly',\n",
    "    catchup=False,\n",
    "    default_args=default_args\n",
    "    ) as dag:\n",
    "\n",
    "\n",
    "    opr_submit_run = DatabricksSubmitRunOperator(\n",
    "        task_id='submit_run',\n",
    "        # the connection we set-up previously\n",
    "        databricks_conn_id='databricks_default',\n",
    "        existing_cluster_id='mwaa-dags-bucket',\n",
    "        notebook_task=notebook_task\n",
    "    )\n",
    "    opr_submit_run\n"
   ]
  }
 ],
 "metadata": {
  "application/vnd.databricks.v1+notebook": {
   "dashboards": [],
   "language": "python",
   "notebookMetadata": {
    "pythonIndentUnit": 4
   },
   "notebookName": "0a4e65e909bd_dag",
   "widgets": {}
  }
 },
 "nbformat": 4,
 "nbformat_minor": 0
}
