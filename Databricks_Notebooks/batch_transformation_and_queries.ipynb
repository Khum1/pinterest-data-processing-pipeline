{
 "cells": [
  {
   "cell_type": "code",
   "execution_count": 0,
   "metadata": {
    "application/vnd.databricks.v1+cell": {
     "cellMetadata": {
      "byteLimit": 2048000,
      "rowLimit": 10000
     },
     "inputWidgets": {},
     "nuid": "d0280eac-d907-42d7-a510-441b07fbd3a8",
     "showTitle": false,
     "title": ""
    }
   },
   "outputs": [
    {
     "output_type": "display_data",
     "data": {
      "text/html": [
       "<style scoped>\n",
       "  .ansiout {\n",
       "    display: block;\n",
       "    unicode-bidi: embed;\n",
       "    white-space: pre-wrap;\n",
       "    word-wrap: break-word;\n",
       "    word-break: break-all;\n",
       "    font-family: \"Source Code Pro\", \"Menlo\", monospace;;\n",
       "    font-size: 13px;\n",
       "    color: #555;\n",
       "    margin-left: 4px;\n",
       "    line-height: 19px;\n",
       "  }\n",
       "</style>\n",
       "<div class=\"ansiout\">Out[3]: [FileInfo(path=&#39;dbfs:/FileStore/tables/authentication_credentials.csv&#39;, name=&#39;authentication_credentials.csv&#39;, size=202, modificationTime=1674066475000)]</div>"
      ]
     },
     "metadata": {
      "application/vnd.databricks.v1+output": {
       "addedWidgets": {},
       "arguments": {},
       "data": "<div class=\"ansiout\">Out[3]: [FileInfo(path=&#39;dbfs:/FileStore/tables/authentication_credentials.csv&#39;, name=&#39;authentication_credentials.csv&#39;, size=202, modificationTime=1674066475000)]</div>",
       "datasetInfos": [],
       "metadata": {},
       "removedWidgets": [],
       "type": "html"
      }
     },
     "output_type": "display_data"
    }
   ],
   "source": [
    "dbutils.fs.ls(\"/FileStore/tables\")"
   ]
  },
  {
   "cell_type": "code",
   "execution_count": 0,
   "metadata": {
    "application/vnd.databricks.v1+cell": {
     "cellMetadata": {
      "byteLimit": 2048000,
      "rowLimit": 10000
     },
     "inputWidgets": {},
     "nuid": "8d734823-29a6-4519-98bf-640da03f1d2a",
     "showTitle": false,
     "title": ""
    }
   },
   "outputs": [
    {
     "output_type": "display_data",
     "data": {
      "text/html": [
       "<style scoped>\n",
       "  .ansiout {\n",
       "    display: block;\n",
       "    unicode-bidi: embed;\n",
       "    white-space: pre-wrap;\n",
       "    word-wrap: break-word;\n",
       "    word-break: break-all;\n",
       "    font-family: \"Source Code Pro\", \"Menlo\", monospace;;\n",
       "    font-size: 13px;\n",
       "    color: #555;\n",
       "    margin-left: 4px;\n",
       "    line-height: 19px;\n",
       "  }\n",
       "</style>\n",
       "<div class=\"ansiout\"></div>"
      ]
     },
     "metadata": {
      "application/vnd.databricks.v1+output": {
       "addedWidgets": {},
       "arguments": {},
       "data": "<div class=\"ansiout\"></div>",
       "datasetInfos": [],
       "metadata": {},
       "removedWidgets": [],
       "type": "html"
      }
     },
     "output_type": "display_data"
    }
   ],
   "source": [
    "from pyspark.sql.functions import *\n",
    "# import urllib\n",
    "\n",
    "# # Specify file type to be csv\n",
    "# file_type = \"csv\"\n",
    "# # Indicates file has first row as the header\n",
    "# first_row_is_header = \"true\"\n",
    "# # Indicates file has comma as the delimeter\n",
    "# delimiter = \",\"\n",
    "# # Read the CSV file to spark dataframe\n",
    "# aws_keys_df = spark.read.format(file_type)\\\n",
    "# .option(\"header\", first_row_is_header)\\\n",
    "# .option(\"sep\", delimiter)\\\n",
    "# .load(\"/FileStore/tables/authentication_credentials.csv\")\n",
    "\n",
    "# # Get the AWS access key and secret key from the spark dataframe\n",
    "# ACCESS_KEY = aws_keys_df.where(col('User name')=='databricks-user').select('Access key ID').collect()[0]['Access key ID']\n",
    "# SECRET_KEY = aws_keys_df.where(col('User name')=='databricks-user').select('Secret access key').collect()[0]['Secret access key']\n",
    "# # Encode the secrete key\n",
    "# ENCODED_SECRET_KEY = urllib.parse.quote(string=SECRET_KEY, safe=\"\")\n",
    "\n",
    "# # AWS S3 bucket name\n",
    "# AWS_S3_BUCKET = \"user-0a4e65e909bd-bucket\"\n",
    "# # Mount name for the bucket\n",
    "# MOUNT_NAME = \"/mnt/pinterest_pipeline\"\n",
    "# # Source url\n",
    "# SOURCE_URL = \"s3n://{0}:{1}@{2}\".format(ACCESS_KEY, ENCODED_SECRET_KEY, AWS_S3_BUCKET)\n",
    "# # Mount the drive\n",
    "# dbutils.fs.mount(SOURCE_URL, MOUNT_NAME)"
   ]
  },
  {
   "cell_type": "code",
   "execution_count": 0,
   "metadata": {
    "application/vnd.databricks.v1+cell": {
     "cellMetadata": {
      "byteLimit": 2048000,
      "rowLimit": 10000
     },
     "inputWidgets": {},
     "nuid": "b5461444-78d4-4e0b-98ac-f874eaee1a36",
     "showTitle": false,
     "title": ""
    }
   },
   "outputs": [
    {
     "output_type": "display_data",
     "data": {
      "text/html": [
       "<style scoped>\n",
       "  .table-result-container {\n",
       "    max-height: 300px;\n",
       "    overflow: auto;\n",
       "  }\n",
       "  table, th, td {\n",
       "    border: 1px solid black;\n",
       "    border-collapse: collapse;\n",
       "  }\n",
       "  th, td {\n",
       "    padding: 5px;\n",
       "  }\n",
       "  th {\n",
       "    text-align: left;\n",
       "  }\n",
       "</style><div class='table-result-container'><table class='table-result'><thead style='background-color: white'><tr><th>country</th><th>ind</th><th>latitude</th><th>longitude</th><th>timestamp</th></tr></thead><tbody><tr><td>Cocos (Keeling) Islands</td><td>10794</td><td>-89.5236</td><td>-154.567</td><td>2022-01-01 02:26:50</td></tr><tr><td>Cocos (Keeling) Islands</td><td>10794</td><td>-89.5236</td><td>-154.567</td><td>2022-01-01 02:26:50</td></tr><tr><td>Cote d'Ivoire</td><td>2923</td><td>-84.6302</td><td>-164.507</td><td>2019-09-08 22:53:09</td></tr><tr><td>French Guiana</td><td>8304</td><td>-28.8852</td><td>-164.87</td><td>2019-09-13 04:50:29</td></tr><tr><td>French Guiana</td><td>8304</td><td>-28.8852</td><td>-164.87</td><td>2019-09-13 04:50:29</td></tr><tr><td>Cote d'Ivoire</td><td>4315</td><td>-45.8508</td><td>66.1003</td><td>2019-12-15 03:51:28</td></tr><tr><td>French Guiana</td><td>8304</td><td>-28.8852</td><td>-164.87</td><td>2019-09-13 04:50:29</td></tr><tr><td>Cote d'Ivoire</td><td>4315</td><td>-45.8508</td><td>66.1003</td><td>2019-12-15 03:51:28</td></tr><tr><td>Azerbaijan</td><td>5069</td><td>-63.0063</td><td>-157.474</td><td>2021-03-20 09:32:44</td></tr><tr><td>Mozambique</td><td>6145</td><td>-65.9079</td><td>-143.845</td><td>2019-12-05 02:09:44</td></tr><tr><td>Montenegro</td><td>2386</td><td>21.6023</td><td>-153.293</td><td>2019-02-22 20:21:06</td></tr><tr><td>Montenegro</td><td>2386</td><td>21.6023</td><td>-153.293</td><td>2019-02-22 20:21:06</td></tr><tr><td>Montenegro</td><td>2386</td><td>21.6023</td><td>-153.293</td><td>2019-02-22 20:21:06</td></tr><tr><td>Montenegro</td><td>2386</td><td>21.6023</td><td>-153.293</td><td>2019-02-22 20:21:06</td></tr><tr><td>Montenegro</td><td>2386</td><td>21.6023</td><td>-153.293</td><td>2019-02-22 20:21:06</td></tr><tr><td>Montenegro</td><td>2386</td><td>21.6023</td><td>-153.293</td><td>2019-02-22 20:21:06</td></tr><tr><td>Montenegro</td><td>2386</td><td>21.6023</td><td>-153.293</td><td>2019-02-22 20:21:06</td></tr><tr><td>Bulgaria</td><td>5494</td><td>-82.6768</td><td>-129.202</td><td>2021-07-21 02:02:35</td></tr><tr><td>Anguilla</td><td>6063</td><td>-89.1797</td><td>-174.015</td><td>2021-07-20 09:02:47</td></tr><tr><td>Cambodia</td><td>3454</td><td>-0.375174</td><td>49.8106</td><td>2021-07-25 02:20:29</td></tr><tr><td>Jamaica</td><td>10625</td><td>-84.4944</td><td>-81.0613</td><td>2018-07-13 11:51:15</td></tr><tr><td>Albania</td><td>7528</td><td>-89.9787</td><td>-173.293</td><td>2020-08-28 03:52:47</td></tr><tr><td>Armenia</td><td>2863</td><td>-5.34445</td><td>-177.924</td><td>2020-04-27 13:34:16</td></tr><tr><td>Colombia</td><td>5730</td><td>-77.015</td><td>-101.437</td><td>2021-04-19 17:37:03</td></tr><tr><td>Albania</td><td>7528</td><td>-89.9787</td><td>-173.293</td><td>2020-08-28 03:52:47</td></tr><tr><td>Armenia</td><td>2863</td><td>-5.34445</td><td>-177.924</td><td>2020-04-27 13:34:16</td></tr><tr><td>Albania</td><td>7528</td><td>-89.9787</td><td>-173.293</td><td>2020-08-28 03:52:47</td></tr><tr><td>Armenia</td><td>2863</td><td>-5.34445</td><td>-177.924</td><td>2020-04-27 13:34:16</td></tr><tr><td>Colombia</td><td>5730</td><td>-77.015</td><td>-101.437</td><td>2021-04-19 17:37:03</td></tr><tr><td>Albania</td><td>7528</td><td>-89.9787</td><td>-173.293</td><td>2020-08-28 03:52:47</td></tr><tr><td>Armenia</td><td>2863</td><td>-5.34445</td><td>-177.924</td><td>2020-04-27 13:34:16</td></tr><tr><td>Albania</td><td>7528</td><td>-89.9787</td><td>-173.293</td><td>2020-08-28 03:52:47</td></tr><tr><td>Albania</td><td>7528</td><td>-89.9787</td><td>-173.293</td><td>2020-08-28 03:52:47</td></tr><tr><td>Armenia</td><td>2863</td><td>-5.34445</td><td>-177.924</td><td>2020-04-27 13:34:16</td></tr><tr><td>Albania</td><td>7528</td><td>-89.9787</td><td>-173.293</td><td>2020-08-28 03:52:47</td></tr><tr><td>Albania</td><td>7528</td><td>-89.9787</td><td>-173.293</td><td>2020-08-28 03:52:47</td></tr><tr><td>Armenia</td><td>2863</td><td>-5.34445</td><td>-177.924</td><td>2020-04-27 13:34:16</td></tr><tr><td>Albania</td><td>7528</td><td>-89.9787</td><td>-173.293</td><td>2020-08-28 03:52:47</td></tr><tr><td>Armenia</td><td>2863</td><td>-5.34445</td><td>-177.924</td><td>2020-04-27 13:34:16</td></tr><tr><td>Colombia</td><td>5730</td><td>-77.015</td><td>-101.437</td><td>2021-04-19 17:37:03</td></tr><tr><td>Albania</td><td>7528</td><td>-89.9787</td><td>-173.293</td><td>2020-08-28 03:52:47</td></tr><tr><td>Armenia</td><td>2863</td><td>-5.34445</td><td>-177.924</td><td>2020-04-27 13:34:16</td></tr><tr><td>Colombia</td><td>5730</td><td>-77.015</td><td>-101.437</td><td>2021-04-19 17:37:03</td></tr><tr><td>Albania</td><td>3089</td><td>-89.9787</td><td>-173.293</td><td>2018-02-28 05:31:29</td></tr><tr><td>Maldives</td><td>1313</td><td>77.0447</td><td>61.9119</td><td>2018-06-26 02:39:25</td></tr><tr><td>Maldives</td><td>1313</td><td>77.0447</td><td>61.9119</td><td>2018-06-26 02:39:25</td></tr><tr><td>Maldives</td><td>1313</td><td>77.0447</td><td>61.9119</td><td>2018-06-26 02:39:25</td></tr><tr><td>Sudan</td><td>7554</td><td>-51.2172</td><td>-77.9768</td><td>2019-03-20 03:15:07</td></tr><tr><td>Aruba</td><td>8731</td><td>-83.104</td><td>-171.302</td><td>2020-07-17 04:39:09</td></tr><tr><td>Aruba</td><td>8731</td><td>-83.104</td><td>-171.302</td><td>2020-07-17 04:39:09</td></tr><tr><td>Aruba</td><td>8731</td><td>-83.104</td><td>-171.302</td><td>2020-07-17 04:39:09</td></tr></tbody></table></div>"
      ]
     },
     "metadata": {
      "application/vnd.databricks.v1+output": {
       "addedWidgets": {},
       "aggData": [],
       "aggError": "",
       "aggOverflow": false,
       "aggSchema": [],
       "aggSeriesLimitReached": false,
       "aggType": "",
       "arguments": {},
       "columnCustomDisplayInfos": {},
       "data": [
        [
         "Cocos (Keeling) Islands",
         10794,
         -89.5236,
         -154.567,
         "2022-01-01 02:26:50"
        ],
        [
         "Cocos (Keeling) Islands",
         10794,
         -89.5236,
         -154.567,
         "2022-01-01 02:26:50"
        ],
        [
         "Cote d'Ivoire",
         2923,
         -84.6302,
         -164.507,
         "2019-09-08 22:53:09"
        ],
        [
         "French Guiana",
         8304,
         -28.8852,
         -164.87,
         "2019-09-13 04:50:29"
        ],
        [
         "French Guiana",
         8304,
         -28.8852,
         -164.87,
         "2019-09-13 04:50:29"
        ],
        [
         "Cote d'Ivoire",
         4315,
         -45.8508,
         66.1003,
         "2019-12-15 03:51:28"
        ],
        [
         "French Guiana",
         8304,
         -28.8852,
         -164.87,
         "2019-09-13 04:50:29"
        ],
        [
         "Cote d'Ivoire",
         4315,
         -45.8508,
         66.1003,
         "2019-12-15 03:51:28"
        ],
        [
         "Azerbaijan",
         5069,
         -63.0063,
         -157.474,
         "2021-03-20 09:32:44"
        ],
        [
         "Mozambique",
         6145,
         -65.9079,
         -143.845,
         "2019-12-05 02:09:44"
        ],
        [
         "Montenegro",
         2386,
         21.6023,
         -153.293,
         "2019-02-22 20:21:06"
        ],
        [
         "Montenegro",
         2386,
         21.6023,
         -153.293,
         "2019-02-22 20:21:06"
        ],
        [
         "Montenegro",
         2386,
         21.6023,
         -153.293,
         "2019-02-22 20:21:06"
        ],
        [
         "Montenegro",
         2386,
         21.6023,
         -153.293,
         "2019-02-22 20:21:06"
        ],
        [
         "Montenegro",
         2386,
         21.6023,
         -153.293,
         "2019-02-22 20:21:06"
        ],
        [
         "Montenegro",
         2386,
         21.6023,
         -153.293,
         "2019-02-22 20:21:06"
        ],
        [
         "Montenegro",
         2386,
         21.6023,
         -153.293,
         "2019-02-22 20:21:06"
        ],
        [
         "Bulgaria",
         5494,
         -82.6768,
         -129.202,
         "2021-07-21 02:02:35"
        ],
        [
         "Anguilla",
         6063,
         -89.1797,
         -174.015,
         "2021-07-20 09:02:47"
        ],
        [
         "Cambodia",
         3454,
         -0.375174,
         49.8106,
         "2021-07-25 02:20:29"
        ],
        [
         "Jamaica",
         10625,
         -84.4944,
         -81.0613,
         "2018-07-13 11:51:15"
        ],
        [
         "Albania",
         7528,
         -89.9787,
         -173.293,
         "2020-08-28 03:52:47"
        ],
        [
         "Armenia",
         2863,
         -5.34445,
         -177.924,
         "2020-04-27 13:34:16"
        ],
        [
         "Colombia",
         5730,
         -77.015,
         -101.437,
         "2021-04-19 17:37:03"
        ],
        [
         "Albania",
         7528,
         -89.9787,
         -173.293,
         "2020-08-28 03:52:47"
        ],
        [
         "Armenia",
         2863,
         -5.34445,
         -177.924,
         "2020-04-27 13:34:16"
        ],
        [
         "Albania",
         7528,
         -89.9787,
         -173.293,
         "2020-08-28 03:52:47"
        ],
        [
         "Armenia",
         2863,
         -5.34445,
         -177.924,
         "2020-04-27 13:34:16"
        ],
        [
         "Colombia",
         5730,
         -77.015,
         -101.437,
         "2021-04-19 17:37:03"
        ],
        [
         "Albania",
         7528,
         -89.9787,
         -173.293,
         "2020-08-28 03:52:47"
        ],
        [
         "Armenia",
         2863,
         -5.34445,
         -177.924,
         "2020-04-27 13:34:16"
        ],
        [
         "Albania",
         7528,
         -89.9787,
         -173.293,
         "2020-08-28 03:52:47"
        ],
        [
         "Albania",
         7528,
         -89.9787,
         -173.293,
         "2020-08-28 03:52:47"
        ],
        [
         "Armenia",
         2863,
         -5.34445,
         -177.924,
         "2020-04-27 13:34:16"
        ],
        [
         "Albania",
         7528,
         -89.9787,
         -173.293,
         "2020-08-28 03:52:47"
        ],
        [
         "Albania",
         7528,
         -89.9787,
         -173.293,
         "2020-08-28 03:52:47"
        ],
        [
         "Armenia",
         2863,
         -5.34445,
         -177.924,
         "2020-04-27 13:34:16"
        ],
        [
         "Albania",
         7528,
         -89.9787,
         -173.293,
         "2020-08-28 03:52:47"
        ],
        [
         "Armenia",
         2863,
         -5.34445,
         -177.924,
         "2020-04-27 13:34:16"
        ],
        [
         "Colombia",
         5730,
         -77.015,
         -101.437,
         "2021-04-19 17:37:03"
        ],
        [
         "Albania",
         7528,
         -89.9787,
         -173.293,
         "2020-08-28 03:52:47"
        ],
        [
         "Armenia",
         2863,
         -5.34445,
         -177.924,
         "2020-04-27 13:34:16"
        ],
        [
         "Colombia",
         5730,
         -77.015,
         -101.437,
         "2021-04-19 17:37:03"
        ],
        [
         "Albania",
         3089,
         -89.9787,
         -173.293,
         "2018-02-28 05:31:29"
        ],
        [
         "Maldives",
         1313,
         77.0447,
         61.9119,
         "2018-06-26 02:39:25"
        ],
        [
         "Maldives",
         1313,
         77.0447,
         61.9119,
         "2018-06-26 02:39:25"
        ],
        [
         "Maldives",
         1313,
         77.0447,
         61.9119,
         "2018-06-26 02:39:25"
        ],
        [
         "Sudan",
         7554,
         -51.2172,
         -77.9768,
         "2019-03-20 03:15:07"
        ],
        [
         "Aruba",
         8731,
         -83.104,
         -171.302,
         "2020-07-17 04:39:09"
        ],
        [
         "Aruba",
         8731,
         -83.104,
         -171.302,
         "2020-07-17 04:39:09"
        ],
        [
         "Aruba",
         8731,
         -83.104,
         -171.302,
         "2020-07-17 04:39:09"
        ]
       ],
       "datasetInfos": [],
       "dbfsResultPath": null,
       "isJsonSchema": true,
       "metadata": {},
       "overflow": false,
       "plotOptions": {
        "customPlotOptions": {},
        "displayType": "table",
        "pivotAggregation": null,
        "pivotColumns": null,
        "xColumns": null,
        "yColumns": null
       },
       "removedWidgets": [],
       "schema": [
        {
         "metadata": "{}",
         "name": "country",
         "type": "\"string\""
        },
        {
         "metadata": "{}",
         "name": "ind",
         "type": "\"long\""
        },
        {
         "metadata": "{}",
         "name": "latitude",
         "type": "\"double\""
        },
        {
         "metadata": "{}",
         "name": "longitude",
         "type": "\"double\""
        },
        {
         "metadata": "{}",
         "name": "timestamp",
         "type": "\"string\""
        }
       ],
       "type": "table"
      }
     },
     "output_type": "display_data"
    },
    {
     "output_type": "display_data",
     "data": {
      "text/html": [
       "<style scoped>\n",
       "  .table-result-container {\n",
       "    max-height: 300px;\n",
       "    overflow: auto;\n",
       "  }\n",
       "  table, th, td {\n",
       "    border: 1px solid black;\n",
       "    border-collapse: collapse;\n",
       "  }\n",
       "  th, td {\n",
       "    padding: 5px;\n",
       "  }\n",
       "  th {\n",
       "    text-align: left;\n",
       "  }\n",
       "</style><div class='table-result-container'><table class='table-result'><thead style='background-color: white'><tr><th>ind</th><th>country</th><th>coordinates</th><th>timestamp</th></tr></thead><tbody><tr><td>10794</td><td>Cocos (Keeling) Islands</td><td>List(-154.567, -89.5236)</td><td>2022-01-01T02:26:50.000+0000</td></tr><tr><td>10794</td><td>Cocos (Keeling) Islands</td><td>List(-154.567, -89.5236)</td><td>2022-01-01T02:26:50.000+0000</td></tr><tr><td>2923</td><td>Cote d'Ivoire</td><td>List(-164.507, -84.6302)</td><td>2019-09-08T22:53:09.000+0000</td></tr><tr><td>8304</td><td>French Guiana</td><td>List(-164.87, -28.8852)</td><td>2019-09-13T04:50:29.000+0000</td></tr><tr><td>8304</td><td>French Guiana</td><td>List(-164.87, -28.8852)</td><td>2019-09-13T04:50:29.000+0000</td></tr><tr><td>4315</td><td>Cote d'Ivoire</td><td>List(66.1003, -45.8508)</td><td>2019-12-15T03:51:28.000+0000</td></tr><tr><td>8304</td><td>French Guiana</td><td>List(-164.87, -28.8852)</td><td>2019-09-13T04:50:29.000+0000</td></tr><tr><td>4315</td><td>Cote d'Ivoire</td><td>List(66.1003, -45.8508)</td><td>2019-12-15T03:51:28.000+0000</td></tr><tr><td>5069</td><td>Azerbaijan</td><td>List(-157.474, -63.0063)</td><td>2021-03-20T09:32:44.000+0000</td></tr><tr><td>6145</td><td>Mozambique</td><td>List(-143.845, -65.9079)</td><td>2019-12-05T02:09:44.000+0000</td></tr><tr><td>2386</td><td>Montenegro</td><td>List(-153.293, 21.6023)</td><td>2019-02-22T20:21:06.000+0000</td></tr><tr><td>2386</td><td>Montenegro</td><td>List(-153.293, 21.6023)</td><td>2019-02-22T20:21:06.000+0000</td></tr><tr><td>2386</td><td>Montenegro</td><td>List(-153.293, 21.6023)</td><td>2019-02-22T20:21:06.000+0000</td></tr><tr><td>2386</td><td>Montenegro</td><td>List(-153.293, 21.6023)</td><td>2019-02-22T20:21:06.000+0000</td></tr><tr><td>2386</td><td>Montenegro</td><td>List(-153.293, 21.6023)</td><td>2019-02-22T20:21:06.000+0000</td></tr><tr><td>2386</td><td>Montenegro</td><td>List(-153.293, 21.6023)</td><td>2019-02-22T20:21:06.000+0000</td></tr><tr><td>2386</td><td>Montenegro</td><td>List(-153.293, 21.6023)</td><td>2019-02-22T20:21:06.000+0000</td></tr><tr><td>5494</td><td>Bulgaria</td><td>List(-129.202, -82.6768)</td><td>2021-07-21T02:02:35.000+0000</td></tr><tr><td>6063</td><td>Anguilla</td><td>List(-174.015, -89.1797)</td><td>2021-07-20T09:02:47.000+0000</td></tr><tr><td>3454</td><td>Cambodia</td><td>List(49.8106, -0.375174)</td><td>2021-07-25T02:20:29.000+0000</td></tr><tr><td>10625</td><td>Jamaica</td><td>List(-81.0613, -84.4944)</td><td>2018-07-13T11:51:15.000+0000</td></tr><tr><td>7528</td><td>Albania</td><td>List(-173.293, -89.9787)</td><td>2020-08-28T03:52:47.000+0000</td></tr><tr><td>2863</td><td>Armenia</td><td>List(-177.924, -5.34445)</td><td>2020-04-27T13:34:16.000+0000</td></tr><tr><td>5730</td><td>Colombia</td><td>List(-101.437, -77.015)</td><td>2021-04-19T17:37:03.000+0000</td></tr><tr><td>7528</td><td>Albania</td><td>List(-173.293, -89.9787)</td><td>2020-08-28T03:52:47.000+0000</td></tr><tr><td>2863</td><td>Armenia</td><td>List(-177.924, -5.34445)</td><td>2020-04-27T13:34:16.000+0000</td></tr><tr><td>7528</td><td>Albania</td><td>List(-173.293, -89.9787)</td><td>2020-08-28T03:52:47.000+0000</td></tr><tr><td>2863</td><td>Armenia</td><td>List(-177.924, -5.34445)</td><td>2020-04-27T13:34:16.000+0000</td></tr><tr><td>5730</td><td>Colombia</td><td>List(-101.437, -77.015)</td><td>2021-04-19T17:37:03.000+0000</td></tr><tr><td>7528</td><td>Albania</td><td>List(-173.293, -89.9787)</td><td>2020-08-28T03:52:47.000+0000</td></tr><tr><td>2863</td><td>Armenia</td><td>List(-177.924, -5.34445)</td><td>2020-04-27T13:34:16.000+0000</td></tr><tr><td>7528</td><td>Albania</td><td>List(-173.293, -89.9787)</td><td>2020-08-28T03:52:47.000+0000</td></tr><tr><td>7528</td><td>Albania</td><td>List(-173.293, -89.9787)</td><td>2020-08-28T03:52:47.000+0000</td></tr><tr><td>2863</td><td>Armenia</td><td>List(-177.924, -5.34445)</td><td>2020-04-27T13:34:16.000+0000</td></tr><tr><td>7528</td><td>Albania</td><td>List(-173.293, -89.9787)</td><td>2020-08-28T03:52:47.000+0000</td></tr><tr><td>7528</td><td>Albania</td><td>List(-173.293, -89.9787)</td><td>2020-08-28T03:52:47.000+0000</td></tr><tr><td>2863</td><td>Armenia</td><td>List(-177.924, -5.34445)</td><td>2020-04-27T13:34:16.000+0000</td></tr><tr><td>7528</td><td>Albania</td><td>List(-173.293, -89.9787)</td><td>2020-08-28T03:52:47.000+0000</td></tr><tr><td>2863</td><td>Armenia</td><td>List(-177.924, -5.34445)</td><td>2020-04-27T13:34:16.000+0000</td></tr><tr><td>5730</td><td>Colombia</td><td>List(-101.437, -77.015)</td><td>2021-04-19T17:37:03.000+0000</td></tr><tr><td>7528</td><td>Albania</td><td>List(-173.293, -89.9787)</td><td>2020-08-28T03:52:47.000+0000</td></tr><tr><td>2863</td><td>Armenia</td><td>List(-177.924, -5.34445)</td><td>2020-04-27T13:34:16.000+0000</td></tr><tr><td>5730</td><td>Colombia</td><td>List(-101.437, -77.015)</td><td>2021-04-19T17:37:03.000+0000</td></tr><tr><td>3089</td><td>Albania</td><td>List(-173.293, -89.9787)</td><td>2018-02-28T05:31:29.000+0000</td></tr><tr><td>1313</td><td>Maldives</td><td>List(61.9119, 77.0447)</td><td>2018-06-26T02:39:25.000+0000</td></tr><tr><td>1313</td><td>Maldives</td><td>List(61.9119, 77.0447)</td><td>2018-06-26T02:39:25.000+0000</td></tr><tr><td>1313</td><td>Maldives</td><td>List(61.9119, 77.0447)</td><td>2018-06-26T02:39:25.000+0000</td></tr><tr><td>7554</td><td>Sudan</td><td>List(-77.9768, -51.2172)</td><td>2019-03-20T03:15:07.000+0000</td></tr><tr><td>8731</td><td>Aruba</td><td>List(-171.302, -83.104)</td><td>2020-07-17T04:39:09.000+0000</td></tr><tr><td>8731</td><td>Aruba</td><td>List(-171.302, -83.104)</td><td>2020-07-17T04:39:09.000+0000</td></tr><tr><td>8731</td><td>Aruba</td><td>List(-171.302, -83.104)</td><td>2020-07-17T04:39:09.000+0000</td></tr></tbody></table></div>"
      ]
     },
     "metadata": {
      "application/vnd.databricks.v1+output": {
       "addedWidgets": {},
       "aggData": [],
       "aggError": "",
       "aggOverflow": false,
       "aggSchema": [],
       "aggSeriesLimitReached": false,
       "aggType": "",
       "arguments": {},
       "columnCustomDisplayInfos": {},
       "data": [
        [
         10794,
         "Cocos (Keeling) Islands",
         [
          -154.567,
          -89.5236
         ],
         "2022-01-01T02:26:50.000+0000"
        ],
        [
         10794,
         "Cocos (Keeling) Islands",
         [
          -154.567,
          -89.5236
         ],
         "2022-01-01T02:26:50.000+0000"
        ],
        [
         2923,
         "Cote d'Ivoire",
         [
          -164.507,
          -84.6302
         ],
         "2019-09-08T22:53:09.000+0000"
        ],
        [
         8304,
         "French Guiana",
         [
          -164.87,
          -28.8852
         ],
         "2019-09-13T04:50:29.000+0000"
        ],
        [
         8304,
         "French Guiana",
         [
          -164.87,
          -28.8852
         ],
         "2019-09-13T04:50:29.000+0000"
        ],
        [
         4315,
         "Cote d'Ivoire",
         [
          66.1003,
          -45.8508
         ],
         "2019-12-15T03:51:28.000+0000"
        ],
        [
         8304,
         "French Guiana",
         [
          -164.87,
          -28.8852
         ],
         "2019-09-13T04:50:29.000+0000"
        ],
        [
         4315,
         "Cote d'Ivoire",
         [
          66.1003,
          -45.8508
         ],
         "2019-12-15T03:51:28.000+0000"
        ],
        [
         5069,
         "Azerbaijan",
         [
          -157.474,
          -63.0063
         ],
         "2021-03-20T09:32:44.000+0000"
        ],
        [
         6145,
         "Mozambique",
         [
          -143.845,
          -65.9079
         ],
         "2019-12-05T02:09:44.000+0000"
        ],
        [
         2386,
         "Montenegro",
         [
          -153.293,
          21.6023
         ],
         "2019-02-22T20:21:06.000+0000"
        ],
        [
         2386,
         "Montenegro",
         [
          -153.293,
          21.6023
         ],
         "2019-02-22T20:21:06.000+0000"
        ],
        [
         2386,
         "Montenegro",
         [
          -153.293,
          21.6023
         ],
         "2019-02-22T20:21:06.000+0000"
        ],
        [
         2386,
         "Montenegro",
         [
          -153.293,
          21.6023
         ],
         "2019-02-22T20:21:06.000+0000"
        ],
        [
         2386,
         "Montenegro",
         [
          -153.293,
          21.6023
         ],
         "2019-02-22T20:21:06.000+0000"
        ],
        [
         2386,
         "Montenegro",
         [
          -153.293,
          21.6023
         ],
         "2019-02-22T20:21:06.000+0000"
        ],
        [
         2386,
         "Montenegro",
         [
          -153.293,
          21.6023
         ],
         "2019-02-22T20:21:06.000+0000"
        ],
        [
         5494,
         "Bulgaria",
         [
          -129.202,
          -82.6768
         ],
         "2021-07-21T02:02:35.000+0000"
        ],
        [
         6063,
         "Anguilla",
         [
          -174.015,
          -89.1797
         ],
         "2021-07-20T09:02:47.000+0000"
        ],
        [
         3454,
         "Cambodia",
         [
          49.8106,
          -0.375174
         ],
         "2021-07-25T02:20:29.000+0000"
        ],
        [
         10625,
         "Jamaica",
         [
          -81.0613,
          -84.4944
         ],
         "2018-07-13T11:51:15.000+0000"
        ],
        [
         7528,
         "Albania",
         [
          -173.293,
          -89.9787
         ],
         "2020-08-28T03:52:47.000+0000"
        ],
        [
         2863,
         "Armenia",
         [
          -177.924,
          -5.34445
         ],
         "2020-04-27T13:34:16.000+0000"
        ],
        [
         5730,
         "Colombia",
         [
          -101.437,
          -77.015
         ],
         "2021-04-19T17:37:03.000+0000"
        ],
        [
         7528,
         "Albania",
         [
          -173.293,
          -89.9787
         ],
         "2020-08-28T03:52:47.000+0000"
        ],
        [
         2863,
         "Armenia",
         [
          -177.924,
          -5.34445
         ],
         "2020-04-27T13:34:16.000+0000"
        ],
        [
         7528,
         "Albania",
         [
          -173.293,
          -89.9787
         ],
         "2020-08-28T03:52:47.000+0000"
        ],
        [
         2863,
         "Armenia",
         [
          -177.924,
          -5.34445
         ],
         "2020-04-27T13:34:16.000+0000"
        ],
        [
         5730,
         "Colombia",
         [
          -101.437,
          -77.015
         ],
         "2021-04-19T17:37:03.000+0000"
        ],
        [
         7528,
         "Albania",
         [
          -173.293,
          -89.9787
         ],
         "2020-08-28T03:52:47.000+0000"
        ],
        [
         2863,
         "Armenia",
         [
          -177.924,
          -5.34445
         ],
         "2020-04-27T13:34:16.000+0000"
        ],
        [
         7528,
         "Albania",
         [
          -173.293,
          -89.9787
         ],
         "2020-08-28T03:52:47.000+0000"
        ],
        [
         7528,
         "Albania",
         [
          -173.293,
          -89.9787
         ],
         "2020-08-28T03:52:47.000+0000"
        ],
        [
         2863,
         "Armenia",
         [
          -177.924,
          -5.34445
         ],
         "2020-04-27T13:34:16.000+0000"
        ],
        [
         7528,
         "Albania",
         [
          -173.293,
          -89.9787
         ],
         "2020-08-28T03:52:47.000+0000"
        ],
        [
         7528,
         "Albania",
         [
          -173.293,
          -89.9787
         ],
         "2020-08-28T03:52:47.000+0000"
        ],
        [
         2863,
         "Armenia",
         [
          -177.924,
          -5.34445
         ],
         "2020-04-27T13:34:16.000+0000"
        ],
        [
         7528,
         "Albania",
         [
          -173.293,
          -89.9787
         ],
         "2020-08-28T03:52:47.000+0000"
        ],
        [
         2863,
         "Armenia",
         [
          -177.924,
          -5.34445
         ],
         "2020-04-27T13:34:16.000+0000"
        ],
        [
         5730,
         "Colombia",
         [
          -101.437,
          -77.015
         ],
         "2021-04-19T17:37:03.000+0000"
        ],
        [
         7528,
         "Albania",
         [
          -173.293,
          -89.9787
         ],
         "2020-08-28T03:52:47.000+0000"
        ],
        [
         2863,
         "Armenia",
         [
          -177.924,
          -5.34445
         ],
         "2020-04-27T13:34:16.000+0000"
        ],
        [
         5730,
         "Colombia",
         [
          -101.437,
          -77.015
         ],
         "2021-04-19T17:37:03.000+0000"
        ],
        [
         3089,
         "Albania",
         [
          -173.293,
          -89.9787
         ],
         "2018-02-28T05:31:29.000+0000"
        ],
        [
         1313,
         "Maldives",
         [
          61.9119,
          77.0447
         ],
         "2018-06-26T02:39:25.000+0000"
        ],
        [
         1313,
         "Maldives",
         [
          61.9119,
          77.0447
         ],
         "2018-06-26T02:39:25.000+0000"
        ],
        [
         1313,
         "Maldives",
         [
          61.9119,
          77.0447
         ],
         "2018-06-26T02:39:25.000+0000"
        ],
        [
         7554,
         "Sudan",
         [
          -77.9768,
          -51.2172
         ],
         "2019-03-20T03:15:07.000+0000"
        ],
        [
         8731,
         "Aruba",
         [
          -171.302,
          -83.104
         ],
         "2020-07-17T04:39:09.000+0000"
        ],
        [
         8731,
         "Aruba",
         [
          -171.302,
          -83.104
         ],
         "2020-07-17T04:39:09.000+0000"
        ],
        [
         8731,
         "Aruba",
         [
          -171.302,
          -83.104
         ],
         "2020-07-17T04:39:09.000+0000"
        ]
       ],
       "datasetInfos": [],
       "dbfsResultPath": null,
       "isJsonSchema": true,
       "metadata": {},
       "overflow": false,
       "plotOptions": {
        "customPlotOptions": {},
        "displayType": "table",
        "pivotAggregation": null,
        "pivotColumns": null,
        "xColumns": null,
        "yColumns": null
       },
       "removedWidgets": [],
       "schema": [
        {
         "metadata": "{}",
         "name": "ind",
         "type": "\"long\""
        },
        {
         "metadata": "{}",
         "name": "country",
         "type": "\"string\""
        },
        {
         "metadata": "{}",
         "name": "coordinates",
         "type": "{\"type\":\"array\",\"elementType\":\"double\",\"containsNull\":true}"
        },
        {
         "metadata": "{}",
         "name": "timestamp",
         "type": "\"timestamp\""
        }
       ],
       "type": "table"
      }
     },
     "output_type": "display_data"
    }
   ],
   "source": [
    "# File location and type\n",
    "# Asterisk(*) indicates reading all the content of the specified file that have .json extension\n",
    "file_location = \"/mnt/pinterest_pipeline/topics/0a4e65e909bd.geo/partition=0/*.json\"\n",
    "file_type = \"json\"\n",
    "# Ask Spark to infer the schema\n",
    "infer_schema = \"true\"\n",
    "# Read in JSONs from mounted S3 bucket\n",
    "geo_df = spark.read.format(file_type) \\\n",
    ".option(\"inferSchema\", infer_schema) \\\n",
    ".load(file_location)\n",
    "\n",
    "display(geo_df)\n",
    "\n",
    "geo_df = geo_df.withColumn(\"coordinates\", array(col(\"longitude\"), col(\"latitude\")))\n",
    "\n",
    "geo_df = geo_df.withColumn(\"timestamp\", col(\"timestamp\").cast(\"timestamp\"))\n",
    "\n",
    "column_structure = [\"ind\", \"country\", \"coordinates\", \"timestamp\"]\n",
    "geo_df = geo_df.select(column_structure)\n",
    "\n",
    "# Display Spark dataframe to check its content\n",
    "\n",
    "display(geo_df)"
   ]
  },
  {
   "cell_type": "code",
   "execution_count": 0,
   "metadata": {
    "application/vnd.databricks.v1+cell": {
     "cellMetadata": {
      "byteLimit": 2048000,
      "rowLimit": 10000
     },
     "inputWidgets": {},
     "nuid": "39529ca0-c6b5-436a-95ce-227331577a27",
     "showTitle": false,
     "title": ""
    }
   },
   "outputs": [
    {
     "output_type": "display_data",
     "data": {
      "text/html": [
       "<style scoped>\n",
       "  .ansiout {\n",
       "    display: block;\n",
       "    unicode-bidi: embed;\n",
       "    white-space: pre-wrap;\n",
       "    word-wrap: break-word;\n",
       "    word-break: break-all;\n",
       "    font-family: \"Source Code Pro\", \"Menlo\", monospace;;\n",
       "    font-size: 13px;\n",
       "    color: #555;\n",
       "    margin-left: 4px;\n",
       "    line-height: 19px;\n",
       "  }\n",
       "</style>\n",
       "<div class=\"ansiout\">[(&#39;ind&#39;, &#39;bigint&#39;), (&#39;unique_id&#39;, &#39;string&#39;), (&#39;title&#39;, &#39;string&#39;), (&#39;description&#39;, &#39;string&#39;), (&#39;follower_count&#39;, &#39;int&#39;), (&#39;poster_name&#39;, &#39;string&#39;), (&#39;tag_list&#39;, &#39;string&#39;), (&#39;is_image_or_video&#39;, &#39;string&#39;), (&#39;image_src&#39;, &#39;string&#39;), (&#39;save_location&#39;, &#39;string&#39;), (&#39;category&#39;, &#39;string&#39;)]\n",
       "</div>"
      ]
     },
     "metadata": {
      "application/vnd.databricks.v1+output": {
       "addedWidgets": {},
       "arguments": {},
       "data": "<div class=\"ansiout\">[(&#39;ind&#39;, &#39;bigint&#39;), (&#39;unique_id&#39;, &#39;string&#39;), (&#39;title&#39;, &#39;string&#39;), (&#39;description&#39;, &#39;string&#39;), (&#39;follower_count&#39;, &#39;int&#39;), (&#39;poster_name&#39;, &#39;string&#39;), (&#39;tag_list&#39;, &#39;string&#39;), (&#39;is_image_or_video&#39;, &#39;string&#39;), (&#39;image_src&#39;, &#39;string&#39;), (&#39;save_location&#39;, &#39;string&#39;), (&#39;category&#39;, &#39;string&#39;)]\n</div>",
       "datasetInfos": [],
       "metadata": {},
       "removedWidgets": [],
       "type": "html"
      }
     },
     "output_type": "display_data"
    },
    {
     "output_type": "display_data",
     "data": {
      "text/html": [
       "<style scoped>\n",
       "  .table-result-container {\n",
       "    max-height: 300px;\n",
       "    overflow: auto;\n",
       "  }\n",
       "  table, th, td {\n",
       "    border: 1px solid black;\n",
       "    border-collapse: collapse;\n",
       "  }\n",
       "  th, td {\n",
       "    padding: 5px;\n",
       "  }\n",
       "  th {\n",
       "    text-align: left;\n",
       "  }\n",
       "</style><div class='table-result-container'><table class='table-result'><thead style='background-color: white'><tr><th>ind</th><th>unique_id</th><th>title</th><th>description</th><th>follower_count</th><th>poster_name</th><th>tag_list</th><th>is_image_or_video</th><th>image_src</th><th>save_location</th><th>category</th></tr></thead><tbody><tr><td>5494</td><td>8fb2af68-543b-4639-8119-de33d28706ed</td><td>Dave Ramsey's 7 Baby Steps: What Are They And Will They Work For You</td><td>If you love budgeting, make sure to give Dave Ramsey's 7 Baby Steps a try. Follow these steps to begin your debt snowball, build an emergency fund, invest and reach riches. I ca… </td><td>26000</td><td>Living Low Key | Save Money, Make Money, & Frugal Living</td><td>Financial Peace,Financial Tips,Saving Money Quotes,Total Money Makeover,Budgeting Finances,Money Management,Wealth Management,Personal Finance,Making Ideas</td><td>image</td><td>https://i.pinimg.com/originals/1e/9d/90/1e9d906e4e150e3b95187f3b76ea7c71.png</td><td>/data/finance</td><td>finance</td></tr><tr><td>6145</td><td>82e13a07-db99-43a3-b1c0-89a4b75821da</td><td>HOLIDAY MANTLE DECOR - @AMAZON & @TARGET FINDS</td><td>Holiday mantle decor, Christmas decor, metallic mercury glass style Christmas trees, eucalyptus vine, evergreen pine branches, white neutral holiday decor, cozy mantle for the h… </td><td>83000</td><td>Stylin by Aylin</td><td>Winter Home Decor,Christmas Living Room Decor,Living Room Decor Cozy,Christmas Decor,Cozy Fireplace,Rustic Fireplace Decor,Fireplace Decorations,Rustic Room,House Decorations</td><td>image</td><td>https://i.pinimg.com/originals/9d/82/1a/9d821a80acd8f90c16454e978bd9b115.jpg</td><td>/data/home-decor</td><td>home-decor</td></tr><tr><td>4315</td><td>21b59ba9-829d-4c33-8c27-4cd4c56d26b8</td><td>Podcasts for Teachers or Parents of Teenagers</td><td>Podcasts for Teachers or Parents of Teenagers: Teaching teens middle school and high school can feel joyful and rewarding most days, but can also frustrate you with one challeng… </td><td>25000</td><td>Math Giraffe</td><td>Middle School Classroom,High School Students,High School Teachers,Middle School Tips,High School Counseling,Ela Classroom,High School Science,Future Classroom,Google Classroom</td><td>image</td><td>https://i.pinimg.com/originals/50/19/31/501931a27ee4d076658980851b995b2c.jpg</td><td>/data/education</td><td>education</td></tr><tr><td>4315</td><td>21b59ba9-829d-4c33-8c27-4cd4c56d26b8</td><td>Podcasts for Teachers or Parents of Teenagers</td><td>Podcasts for Teachers or Parents of Teenagers: Teaching teens middle school and high school can feel joyful and rewarding most days, but can also frustrate you with one challeng… </td><td>25000</td><td>Math Giraffe</td><td>Middle School Classroom,High School Students,High School Teachers,Middle School Tips,High School Counseling,Ela Classroom,High School Science,Future Classroom,Google Classroom</td><td>image</td><td>https://i.pinimg.com/originals/50/19/31/501931a27ee4d076658980851b995b2c.jpg</td><td>/data/education</td><td>education</td></tr><tr><td>5069</td><td>b75b6f87-deb3-444f-b29e-ce9161b2df49</td><td>The Vault: Curated & Refined Wedding Inspiration</td><td>Sacramento California Wedding 2 Chic Events & Design Jodi Yorston Photography Wilson Vineyards Barn Miosa Couture Yellow Barn Vineyard Outdoor Candles DIY</td><td>null</td><td>Style Me Pretty</td><td>60th Anniversary Parties,Anniversary Decorations,Golden Anniversary,25th Wedding Anniversary,Anniversary Pictures,Anniversary Ideas,Birthday Decorations,Event Planning Design,Event Design</td><td>image</td><td>https://i.pinimg.com/originals/7e/45/90/7e45905fefa36347e83333fd6d091140.jpg</td><td>/data/event-planning</td><td>event-planning</td></tr><tr><td>6063</td><td>60693727-4927-4bd6-a8c5-096a392d63e6</td><td>41 Gorgeous Fall Decor Ideas For Your Home - Chaylor & Mads</td><td>Beautiful and easy ways to update every room in your home with fall decor. Plus, my favorite finds in fall decor for 2020!</td><td>92000</td><td>Kristen | Lifestyle, Mom Tips & Teacher Stuff Blog</td><td>Fall Home Decor,Autumn Home,Fall Decor Outdoor,Front Porch Fall Decor,Home Decor Ideas,Porch Ideas For Fall,Fall Outdoor Decorating,Decorating Ideas For Fall,Fall Front Doors</td><td>image</td><td>https://i.pinimg.com/originals/e5/ae/dc/e5aedc14ce557e3a69f672e0f8c88f6e.png</td><td>/data/home-decor</td><td>home-decor</td></tr><tr><td>2386</td><td>38c3e021-527e-4da6-8d43-c0aa07500d12</td><td>Christmas Five Senses Book</td><td>The sights, sounds and smells of Christmas stay with many of us for a lifetime. Perhaps cinnamon in your nasal cavity automatically takes you back to Grandma’s kitchen. Or at th… </td><td>79000</td><td>Life Over C's</td><td>Christmas Books,Christmas Themes,Kids Christmas,Xmas,Christmas Projects,Preschool Christmas Crafts,Christmas Activities,Kindergarten Christmas,Winter Activities</td><td>image</td><td>https://i.pinimg.com/originals/3f/f7/54/3ff754d879c31507d1dc78104af06a63.jpg</td><td>/data/christmas</td><td>christmas</td></tr><tr><td>2386</td><td>38c3e021-527e-4da6-8d43-c0aa07500d12</td><td>Christmas Five Senses Book</td><td>The sights, sounds and smells of Christmas stay with many of us for a lifetime. Perhaps cinnamon in your nasal cavity automatically takes you back to Grandma’s kitchen. Or at th… </td><td>79000</td><td>Life Over C's</td><td>Christmas Books,Christmas Themes,Kids Christmas,Xmas,Christmas Projects,Preschool Christmas Crafts,Christmas Activities,Kindergarten Christmas,Winter Activities</td><td>image</td><td>https://i.pinimg.com/originals/3f/f7/54/3ff754d879c31507d1dc78104af06a63.jpg</td><td>/data/christmas</td><td>christmas</td></tr><tr><td>2386</td><td>38c3e021-527e-4da6-8d43-c0aa07500d12</td><td>Christmas Five Senses Book</td><td>The sights, sounds and smells of Christmas stay with many of us for a lifetime. Perhaps cinnamon in your nasal cavity automatically takes you back to Grandma’s kitchen. Or at th… </td><td>79000</td><td>Life Over C's</td><td>Christmas Books,Christmas Themes,Kids Christmas,Xmas,Christmas Projects,Preschool Christmas Crafts,Christmas Activities,Kindergarten Christmas,Winter Activities</td><td>image</td><td>https://i.pinimg.com/originals/3f/f7/54/3ff754d879c31507d1dc78104af06a63.jpg</td><td>/data/christmas</td><td>christmas</td></tr><tr><td>2386</td><td>38c3e021-527e-4da6-8d43-c0aa07500d12</td><td>Christmas Five Senses Book</td><td>The sights, sounds and smells of Christmas stay with many of us for a lifetime. Perhaps cinnamon in your nasal cavity automatically takes you back to Grandma’s kitchen. Or at th… </td><td>79000</td><td>Life Over C's</td><td>Christmas Books,Christmas Themes,Kids Christmas,Xmas,Christmas Projects,Preschool Christmas Crafts,Christmas Activities,Kindergarten Christmas,Winter Activities</td><td>image</td><td>https://i.pinimg.com/originals/3f/f7/54/3ff754d879c31507d1dc78104af06a63.jpg</td><td>/data/christmas</td><td>christmas</td></tr><tr><td>2386</td><td>38c3e021-527e-4da6-8d43-c0aa07500d12</td><td>Christmas Five Senses Book</td><td>The sights, sounds and smells of Christmas stay with many of us for a lifetime. Perhaps cinnamon in your nasal cavity automatically takes you back to Grandma’s kitchen. Or at th… </td><td>79000</td><td>Life Over C's</td><td>Christmas Books,Christmas Themes,Kids Christmas,Xmas,Christmas Projects,Preschool Christmas Crafts,Christmas Activities,Kindergarten Christmas,Winter Activities</td><td>image</td><td>https://i.pinimg.com/originals/3f/f7/54/3ff754d879c31507d1dc78104af06a63.jpg</td><td>/data/christmas</td><td>christmas</td></tr><tr><td>2386</td><td>38c3e021-527e-4da6-8d43-c0aa07500d12</td><td>Christmas Five Senses Book</td><td>The sights, sounds and smells of Christmas stay with many of us for a lifetime. Perhaps cinnamon in your nasal cavity automatically takes you back to Grandma’s kitchen. Or at th… </td><td>79000</td><td>Life Over C's</td><td>Christmas Books,Christmas Themes,Kids Christmas,Xmas,Christmas Projects,Preschool Christmas Crafts,Christmas Activities,Kindergarten Christmas,Winter Activities</td><td>image</td><td>https://i.pinimg.com/originals/3f/f7/54/3ff754d879c31507d1dc78104af06a63.jpg</td><td>/data/christmas</td><td>christmas</td></tr><tr><td>2386</td><td>38c3e021-527e-4da6-8d43-c0aa07500d12</td><td>Christmas Five Senses Book</td><td>The sights, sounds and smells of Christmas stay with many of us for a lifetime. Perhaps cinnamon in your nasal cavity automatically takes you back to Grandma’s kitchen. Or at th… </td><td>79000</td><td>Life Over C's</td><td>Christmas Books,Christmas Themes,Kids Christmas,Xmas,Christmas Projects,Preschool Christmas Crafts,Christmas Activities,Kindergarten Christmas,Winter Activities</td><td>image</td><td>https://i.pinimg.com/originals/3f/f7/54/3ff754d879c31507d1dc78104af06a63.jpg</td><td>/data/christmas</td><td>christmas</td></tr><tr><td>3454</td><td>46bd3f86-b09d-4e29-9033-7ff2df595e51</td><td>What can you use to color resin?</td><td>HELPFUL RESOURCES – Check out my resin colorants resources page here with links to all the products mentioned in this article (and more). Let me know if you have any that you lo… </td><td>6000</td><td>Mixed Media Crafts</td><td>Epoxy Resin Art,Diy Resin Art,Diy Resin Crafts,Resin Molds,Ice Resin,Resin Pour,Diy Epoxy,Diy Resin Painting,Diy Resin Dice</td><td>image</td><td>https://i.pinimg.com/originals/d4/12/78/d4127833023ca32600571ddca16f1556.jpg</td><td>/data/diy-and-crafts</td><td>diy-and-crafts</td></tr><tr><td>5730</td><td>1e1f0c8b-9fcf-460b-9154-c775827206eb</td><td>Island Oasis Coupon Organizer</td><td>Description Coupon Organizer in a fun colorful fabric -island oasis, Great Size for the \"basic\" couponer - holds up to 500 coupons with ease, and is made long enough so that you… </td><td>0</td><td>Consuelo Aguirre</td><td>Grocery Items,Grocery Coupons,Care Organization,Coupon Organization,Extreme Couponing,Couponing 101,Life Binder,Save My Money,Love Coupons</td><td>image</td><td>https://i.pinimg.com/originals/65/bb/ea/65bbeaf458907bb079317d8303c4fa0e.jpg</td><td>/data/finance</td><td>finance</td></tr><tr><td>5730</td><td>1e1f0c8b-9fcf-460b-9154-c775827206eb</td><td>Island Oasis Coupon Organizer</td><td>Description Coupon Organizer in a fun colorful fabric -island oasis, Great Size for the \"basic\" couponer - holds up to 500 coupons with ease, and is made long enough so that you… </td><td>0</td><td>Consuelo Aguirre</td><td>Grocery Items,Grocery Coupons,Care Organization,Coupon Organization,Extreme Couponing,Couponing 101,Life Binder,Save My Money,Love Coupons</td><td>image</td><td>https://i.pinimg.com/originals/65/bb/ea/65bbeaf458907bb079317d8303c4fa0e.jpg</td><td>/data/finance</td><td>finance</td></tr><tr><td>5730</td><td>1e1f0c8b-9fcf-460b-9154-c775827206eb</td><td>Island Oasis Coupon Organizer</td><td>Description Coupon Organizer in a fun colorful fabric -island oasis, Great Size for the \"basic\" couponer - holds up to 500 coupons with ease, and is made long enough so that you… </td><td>0</td><td>Consuelo Aguirre</td><td>Grocery Items,Grocery Coupons,Care Organization,Coupon Organization,Extreme Couponing,Couponing 101,Life Binder,Save My Money,Love Coupons</td><td>image</td><td>https://i.pinimg.com/originals/65/bb/ea/65bbeaf458907bb079317d8303c4fa0e.jpg</td><td>/data/finance</td><td>finance</td></tr><tr><td>2863</td><td>9bf39437-42a6-4f02-99a0-9a0383d8cd70</td><td>25 Super Fun Summer Crafts for Kids - Of Life and Lisa</td><td>Keep the kids busy this summer with these easy diy crafts and projects. Creative and…</td><td>124000</td><td>Of Life & Lisa | Lifestyle Blog</td><td>Summer Crafts For Kids,Fun Crafts For Kids,Summer Kids,Toddler Crafts,Crafts To Do,Diy For Kids,Summer Snow,Diys For Summer,Craft Ideas For Girls</td><td>image</td><td>https://i.pinimg.com/originals/b3/bc/e2/b3bce2964e8c8975387b39660eed5f16.jpg</td><td>/data/diy-and-crafts</td><td>diy-and-crafts</td></tr><tr><td>2863</td><td>9bf39437-42a6-4f02-99a0-9a0383d8cd70</td><td>25 Super Fun Summer Crafts for Kids - Of Life and Lisa</td><td>Keep the kids busy this summer with these easy diy crafts and projects. Creative and…</td><td>124000</td><td>Of Life & Lisa | Lifestyle Blog</td><td>Summer Crafts For Kids,Fun Crafts For Kids,Summer Kids,Toddler Crafts,Crafts To Do,Diy For Kids,Summer Snow,Diys For Summer,Craft Ideas For Girls</td><td>image</td><td>https://i.pinimg.com/originals/b3/bc/e2/b3bce2964e8c8975387b39660eed5f16.jpg</td><td>/data/diy-and-crafts</td><td>diy-and-crafts</td></tr><tr><td>2863</td><td>9bf39437-42a6-4f02-99a0-9a0383d8cd70</td><td>25 Super Fun Summer Crafts for Kids - Of Life and Lisa</td><td>Keep the kids busy this summer with these easy diy crafts and projects. Creative and…</td><td>124000</td><td>Of Life & Lisa | Lifestyle Blog</td><td>Summer Crafts For Kids,Fun Crafts For Kids,Summer Kids,Toddler Crafts,Crafts To Do,Diy For Kids,Summer Snow,Diys For Summer,Craft Ideas For Girls</td><td>image</td><td>https://i.pinimg.com/originals/b3/bc/e2/b3bce2964e8c8975387b39660eed5f16.jpg</td><td>/data/diy-and-crafts</td><td>diy-and-crafts</td></tr><tr><td>2863</td><td>9bf39437-42a6-4f02-99a0-9a0383d8cd70</td><td>25 Super Fun Summer Crafts for Kids - Of Life and Lisa</td><td>Keep the kids busy this summer with these easy diy crafts and projects. Creative and…</td><td>124000</td><td>Of Life & Lisa | Lifestyle Blog</td><td>Summer Crafts For Kids,Fun Crafts For Kids,Summer Kids,Toddler Crafts,Crafts To Do,Diy For Kids,Summer Snow,Diys For Summer,Craft Ideas For Girls</td><td>image</td><td>https://i.pinimg.com/originals/b3/bc/e2/b3bce2964e8c8975387b39660eed5f16.jpg</td><td>/data/diy-and-crafts</td><td>diy-and-crafts</td></tr><tr><td>2863</td><td>9bf39437-42a6-4f02-99a0-9a0383d8cd70</td><td>25 Super Fun Summer Crafts for Kids - Of Life and Lisa</td><td>Keep the kids busy this summer with these easy diy crafts and projects. Creative and…</td><td>124000</td><td>Of Life & Lisa | Lifestyle Blog</td><td>Summer Crafts For Kids,Fun Crafts For Kids,Summer Kids,Toddler Crafts,Crafts To Do,Diy For Kids,Summer Snow,Diys For Summer,Craft Ideas For Girls</td><td>image</td><td>https://i.pinimg.com/originals/b3/bc/e2/b3bce2964e8c8975387b39660eed5f16.jpg</td><td>/data/diy-and-crafts</td><td>diy-and-crafts</td></tr><tr><td>2923</td><td>52fa3af5-24a4-4ccb-8f17-9c3eb12327ee</td><td>UFO Paper Plate Craft</td><td>A fun space activity for kids. Preshoolers and kindergartners will love making their own alien spacecraft!</td><td>192000</td><td>The Crafting Chicks</td><td>Paper Plate Crafts For Kids,Fun Crafts For Kids,Summer Crafts,Toddler Crafts,Art For Kids,Outer Space Crafts For Kids,Kid Crafts,Space Kids,Back To School Crafts For Kids</td><td>image</td><td>https://i.pinimg.com/originals/6f/e8/aa/6fe8aa405513c6d2f77b5f47d17cdce8.jpg</td><td>/data/diy-and-crafts</td><td>diy-and-crafts</td></tr><tr><td>8731</td><td>ea760f71-febf-4023-b592-d17396659039</td><td>20 Koi Fish Tattoos For Lucky Men</td><td>Koi fish tattoos are a popular choice for men who want to make a statement, thanks to their rich symbolism and bold design.</td><td>211000</td><td>TheTrendSpotter</td><td>Dr Tattoo,Wörter Tattoos,Pisces Tattoos,Tatoo Art,Dream Tattoos,Dope Tattoos,Mini Tattoos,Finger Tattoos,Body Art Tattoos</td><td>image</td><td>https://i.pinimg.com/originals/8a/0c/0a/8a0c0a7b6236565c519acd41ad1a52c0.jpg</td><td>/data/tattoos</td><td>tattoos</td></tr><tr><td>8731</td><td>ea760f71-febf-4023-b592-d17396659039</td><td>20 Koi Fish Tattoos For Lucky Men</td><td>Koi fish tattoos are a popular choice for men who want to make a statement, thanks to their rich symbolism and bold design.</td><td>211000</td><td>TheTrendSpotter</td><td>Dr Tattoo,Wörter Tattoos,Pisces Tattoos,Tatoo Art,Dream Tattoos,Dope Tattoos,Mini Tattoos,Finger Tattoos,Body Art Tattoos</td><td>image</td><td>https://i.pinimg.com/originals/8a/0c/0a/8a0c0a7b6236565c519acd41ad1a52c0.jpg</td><td>/data/tattoos</td><td>tattoos</td></tr><tr><td>8304</td><td>5b6d0913-25e4-43ab-839d-85d5516f78a4</td><td>The #1 Reason You’re Not His Priority Anymore - Matthew Coast</td><td>#lovequotes #matchmaker #matchmadeinheaven #loveyourself #respectyourself</td><td>51000</td><td>Commitment Connection</td><td>Wise Quotes,Quotable Quotes,Words Quotes,Wise Words,Quotes To Live By,Great Quotes,Motivational Quotes,Inspirational Quotes,Funny Quotes</td><td>image</td><td>https://i.pinimg.com/originals/c6/64/ee/c664ee71524fb5a6e7b7b49233f93b43.png</td><td>/data/quotes</td><td>quotes</td></tr><tr><td>8304</td><td>5b6d0913-25e4-43ab-839d-85d5516f78a4</td><td>The #1 Reason You’re Not His Priority Anymore - Matthew Coast</td><td>#lovequotes #matchmaker #matchmadeinheaven #loveyourself #respectyourself</td><td>51000</td><td>Commitment Connection</td><td>Wise Quotes,Quotable Quotes,Words Quotes,Wise Words,Quotes To Live By,Great Quotes,Motivational Quotes,Inspirational Quotes,Funny Quotes</td><td>image</td><td>https://i.pinimg.com/originals/c6/64/ee/c664ee71524fb5a6e7b7b49233f93b43.png</td><td>/data/quotes</td><td>quotes</td></tr><tr><td>7554</td><td>c6fa12f4-0d4a-4b07-a335-5bf9f37f8281</td><td>Craig Style</td><td>imgentleboss: “ - More about men’s fashion at @Gentleboss - GB’s Facebook - ”</td><td>940</td><td>iElylike ..✿◕‿◕✿ஐ✿◕‿◕✿</td><td>Mens Fashion Blog,Look Fashion,Autumn Fashion,Fashion News,Fashion Sale,80s Fashion,Paris Fashion,Runway Fashion,Fashion Trends</td><td>image</td><td>https://i.pinimg.com/originals/e7/6e/8e/e76e8ed6cc838b84a934c6948a5caff7.jpg</td><td>/data/mens-fashion</td><td>mens-fashion</td></tr><tr><td>1313</td><td>44662045-e891-4821-8a19-ebe7eedd371a</td><td>Liquid Lash Extensions Mascara</td><td>Instantly create the look of lash extensions with this award-winning, best-selling mascara that won't clump, flake or smudge. Available in 3 shades!</td><td>43000</td><td>Thrive Causemetics</td><td>null</td><td>video</td><td>https://i.pinimg.com/videos/thumbnails/originals/69/84/e2/6984e20f3e262098fa9c0614c3453254.0000001.jpg</td><td>/data/beauty</td><td>beauty</td></tr><tr><td>1313</td><td>44662045-e891-4821-8a19-ebe7eedd371a</td><td>Liquid Lash Extensions Mascara</td><td>Instantly create the look of lash extensions with this award-winning, best-selling mascara that won't clump, flake or smudge. Available in 3 shades!</td><td>43000</td><td>Thrive Causemetics</td><td>null</td><td>video</td><td>https://i.pinimg.com/videos/thumbnails/originals/69/84/e2/6984e20f3e262098fa9c0614c3453254.0000001.jpg</td><td>/data/beauty</td><td>beauty</td></tr><tr><td>10625</td><td>d31885b7-742a-4e2a-bbb7-ac5f9d334340</td><td>Jaguar Type E</td><td>1937 Jaguar SS100 - 2 1/2 Litre Roadster, one of the most sought after pre-war sports cars</td><td>8000</td><td>hobbyDB</td><td>Jaguar Type E,Jaguar Xk,Jaguar Cars,Jaguar Roadster,Jaguar Sport,Retro Cars,Vintage Cars,Antique Cars,British Sports Cars</td><td>image</td><td>https://i.pinimg.com/originals/26/81/a7/2681a71bd0c8f7fd0ab79c455338a49a.jpg</td><td>/data/vehicles</td><td>vehicles</td></tr><tr><td>10794</td><td>c4bd2577-a7bb-4409-bb7a-17d5ed7e1cf1</td><td>TireBuyer</td><td>Nissan GT-R. Sick.</td><td>437</td><td>Ray Uyemura</td><td>Lowrider,Old Vintage Cars,Antique Cars,Austin Martin,Nissan Gtr Black,Jaguar,1959 Cadillac,Cadillac Ct6,Old School Cars</td><td>image</td><td>https://i.pinimg.com/originals/0d/29/9f/0d299f3df020395aa7ce8387f40fbeed.jpg</td><td>/data/vehicles</td><td>vehicles</td></tr><tr><td>10794</td><td>c4bd2577-a7bb-4409-bb7a-17d5ed7e1cf1</td><td>TireBuyer</td><td>Nissan GT-R. Sick.</td><td>437</td><td>Ray Uyemura</td><td>Lowrider,Old Vintage Cars,Antique Cars,Austin Martin,Nissan Gtr Black,Jaguar,1959 Cadillac,Cadillac Ct6,Old School Cars</td><td>image</td><td>https://i.pinimg.com/originals/0d/29/9f/0d299f3df020395aa7ce8387f40fbeed.jpg</td><td>/data/vehicles</td><td>vehicles</td></tr><tr><td>3089</td><td>88f9227e-88d0-4b1c-b0be-bcfc3028b8e2</td><td>null</td><td>null</td><td>null</td><td>null</td><td>null</td><td>multi-video(story page format)</td><td>null</td><td>/data/diy-and-crafts</td><td>diy-and-crafts</td></tr><tr><td>7528</td><td>fbe53c66-3442-4773-b19e-d3ec6f54dddf</td><td>null</td><td>null</td><td>null</td><td>null</td><td>null</td><td>multi-video(story page format)</td><td>null</td><td>/data/mens-fashion</td><td>mens-fashion</td></tr><tr><td>7528</td><td>fbe53c66-3442-4773-b19e-d3ec6f54dddf</td><td>null</td><td>null</td><td>null</td><td>null</td><td>null</td><td>multi-video(story page format)</td><td>null</td><td>/data/mens-fashion</td><td>mens-fashion</td></tr><tr><td>7528</td><td>fbe53c66-3442-4773-b19e-d3ec6f54dddf</td><td>null</td><td>null</td><td>null</td><td>null</td><td>null</td><td>multi-video(story page format)</td><td>null</td><td>/data/mens-fashion</td><td>mens-fashion</td></tr><tr><td>7528</td><td>fbe53c66-3442-4773-b19e-d3ec6f54dddf</td><td>null</td><td>null</td><td>null</td><td>null</td><td>null</td><td>multi-video(story page format)</td><td>null</td><td>/data/mens-fashion</td><td>mens-fashion</td></tr><tr><td>7528</td><td>fbe53c66-3442-4773-b19e-d3ec6f54dddf</td><td>null</td><td>null</td><td>null</td><td>null</td><td>null</td><td>multi-video(story page format)</td><td>null</td><td>/data/mens-fashion</td><td>mens-fashion</td></tr><tr><td>7528</td><td>null</td><td>null</td><td>null</td><td>null</td><td>null</td><td>null</td><td>null</td><td>null</td><td>null</td><td>null</td></tr><tr><td>2863</td><td>null</td><td>null</td><td>null</td><td>null</td><td>null</td><td>null</td><td>null</td><td>null</td><td>null</td><td>null</td></tr></tbody></table></div>"
      ]
     },
     "metadata": {
      "application/vnd.databricks.v1+output": {
       "addedWidgets": {},
       "aggData": [],
       "aggError": "",
       "aggOverflow": false,
       "aggSchema": [],
       "aggSeriesLimitReached": false,
       "aggType": "",
       "arguments": {},
       "columnCustomDisplayInfos": {},
       "data": [
        [
         5494,
         "8fb2af68-543b-4639-8119-de33d28706ed",
         "Dave Ramsey's 7 Baby Steps: What Are They And Will They Work For You",
         "If you love budgeting, make sure to give Dave Ramsey's 7 Baby Steps a try. Follow these steps to begin your debt snowball, build an emergency fund, invest and reach riches. I ca… ",
         26000,
         "Living Low Key | Save Money, Make Money, & Frugal Living",
         "Financial Peace,Financial Tips,Saving Money Quotes,Total Money Makeover,Budgeting Finances,Money Management,Wealth Management,Personal Finance,Making Ideas",
         "image",
         "https://i.pinimg.com/originals/1e/9d/90/1e9d906e4e150e3b95187f3b76ea7c71.png",
         "/data/finance",
         "finance"
        ],
        [
         6145,
         "82e13a07-db99-43a3-b1c0-89a4b75821da",
         "HOLIDAY MANTLE DECOR - @AMAZON & @TARGET FINDS",
         "Holiday mantle decor, Christmas decor, metallic mercury glass style Christmas trees, eucalyptus vine, evergreen pine branches, white neutral holiday decor, cozy mantle for the h… ",
         83000,
         "Stylin by Aylin",
         "Winter Home Decor,Christmas Living Room Decor,Living Room Decor Cozy,Christmas Decor,Cozy Fireplace,Rustic Fireplace Decor,Fireplace Decorations,Rustic Room,House Decorations",
         "image",
         "https://i.pinimg.com/originals/9d/82/1a/9d821a80acd8f90c16454e978bd9b115.jpg",
         "/data/home-decor",
         "home-decor"
        ],
        [
         4315,
         "21b59ba9-829d-4c33-8c27-4cd4c56d26b8",
         "Podcasts for Teachers or Parents of Teenagers",
         "Podcasts for Teachers or Parents of Teenagers: Teaching teens middle school and high school can feel joyful and rewarding most days, but can also frustrate you with one challeng… ",
         25000,
         "Math Giraffe",
         "Middle School Classroom,High School Students,High School Teachers,Middle School Tips,High School Counseling,Ela Classroom,High School Science,Future Classroom,Google Classroom",
         "image",
         "https://i.pinimg.com/originals/50/19/31/501931a27ee4d076658980851b995b2c.jpg",
         "/data/education",
         "education"
        ],
        [
         4315,
         "21b59ba9-829d-4c33-8c27-4cd4c56d26b8",
         "Podcasts for Teachers or Parents of Teenagers",
         "Podcasts for Teachers or Parents of Teenagers: Teaching teens middle school and high school can feel joyful and rewarding most days, but can also frustrate you with one challeng… ",
         25000,
         "Math Giraffe",
         "Middle School Classroom,High School Students,High School Teachers,Middle School Tips,High School Counseling,Ela Classroom,High School Science,Future Classroom,Google Classroom",
         "image",
         "https://i.pinimg.com/originals/50/19/31/501931a27ee4d076658980851b995b2c.jpg",
         "/data/education",
         "education"
        ],
        [
         5069,
         "b75b6f87-deb3-444f-b29e-ce9161b2df49",
         "The Vault: Curated & Refined Wedding Inspiration",
         "Sacramento California Wedding 2 Chic Events & Design Jodi Yorston Photography Wilson Vineyards Barn Miosa Couture Yellow Barn Vineyard Outdoor Candles DIY",
         null,
         "Style Me Pretty",
         "60th Anniversary Parties,Anniversary Decorations,Golden Anniversary,25th Wedding Anniversary,Anniversary Pictures,Anniversary Ideas,Birthday Decorations,Event Planning Design,Event Design",
         "image",
         "https://i.pinimg.com/originals/7e/45/90/7e45905fefa36347e83333fd6d091140.jpg",
         "/data/event-planning",
         "event-planning"
        ],
        [
         6063,
         "60693727-4927-4bd6-a8c5-096a392d63e6",
         "41 Gorgeous Fall Decor Ideas For Your Home - Chaylor & Mads",
         "Beautiful and easy ways to update every room in your home with fall decor. Plus, my favorite finds in fall decor for 2020!",
         92000,
         "Kristen | Lifestyle, Mom Tips & Teacher Stuff Blog",
         "Fall Home Decor,Autumn Home,Fall Decor Outdoor,Front Porch Fall Decor,Home Decor Ideas,Porch Ideas For Fall,Fall Outdoor Decorating,Decorating Ideas For Fall,Fall Front Doors",
         "image",
         "https://i.pinimg.com/originals/e5/ae/dc/e5aedc14ce557e3a69f672e0f8c88f6e.png",
         "/data/home-decor",
         "home-decor"
        ],
        [
         2386,
         "38c3e021-527e-4da6-8d43-c0aa07500d12",
         "Christmas Five Senses Book",
         "The sights, sounds and smells of Christmas stay with many of us for a lifetime. Perhaps cinnamon in your nasal cavity automatically takes you back to Grandma’s kitchen. Or at th… ",
         79000,
         "Life Over C's",
         "Christmas Books,Christmas Themes,Kids Christmas,Xmas,Christmas Projects,Preschool Christmas Crafts,Christmas Activities,Kindergarten Christmas,Winter Activities",
         "image",
         "https://i.pinimg.com/originals/3f/f7/54/3ff754d879c31507d1dc78104af06a63.jpg",
         "/data/christmas",
         "christmas"
        ],
        [
         2386,
         "38c3e021-527e-4da6-8d43-c0aa07500d12",
         "Christmas Five Senses Book",
         "The sights, sounds and smells of Christmas stay with many of us for a lifetime. Perhaps cinnamon in your nasal cavity automatically takes you back to Grandma’s kitchen. Or at th… ",
         79000,
         "Life Over C's",
         "Christmas Books,Christmas Themes,Kids Christmas,Xmas,Christmas Projects,Preschool Christmas Crafts,Christmas Activities,Kindergarten Christmas,Winter Activities",
         "image",
         "https://i.pinimg.com/originals/3f/f7/54/3ff754d879c31507d1dc78104af06a63.jpg",
         "/data/christmas",
         "christmas"
        ],
        [
         2386,
         "38c3e021-527e-4da6-8d43-c0aa07500d12",
         "Christmas Five Senses Book",
         "The sights, sounds and smells of Christmas stay with many of us for a lifetime. Perhaps cinnamon in your nasal cavity automatically takes you back to Grandma’s kitchen. Or at th… ",
         79000,
         "Life Over C's",
         "Christmas Books,Christmas Themes,Kids Christmas,Xmas,Christmas Projects,Preschool Christmas Crafts,Christmas Activities,Kindergarten Christmas,Winter Activities",
         "image",
         "https://i.pinimg.com/originals/3f/f7/54/3ff754d879c31507d1dc78104af06a63.jpg",
         "/data/christmas",
         "christmas"
        ],
        [
         2386,
         "38c3e021-527e-4da6-8d43-c0aa07500d12",
         "Christmas Five Senses Book",
         "The sights, sounds and smells of Christmas stay with many of us for a lifetime. Perhaps cinnamon in your nasal cavity automatically takes you back to Grandma’s kitchen. Or at th… ",
         79000,
         "Life Over C's",
         "Christmas Books,Christmas Themes,Kids Christmas,Xmas,Christmas Projects,Preschool Christmas Crafts,Christmas Activities,Kindergarten Christmas,Winter Activities",
         "image",
         "https://i.pinimg.com/originals/3f/f7/54/3ff754d879c31507d1dc78104af06a63.jpg",
         "/data/christmas",
         "christmas"
        ],
        [
         2386,
         "38c3e021-527e-4da6-8d43-c0aa07500d12",
         "Christmas Five Senses Book",
         "The sights, sounds and smells of Christmas stay with many of us for a lifetime. Perhaps cinnamon in your nasal cavity automatically takes you back to Grandma’s kitchen. Or at th… ",
         79000,
         "Life Over C's",
         "Christmas Books,Christmas Themes,Kids Christmas,Xmas,Christmas Projects,Preschool Christmas Crafts,Christmas Activities,Kindergarten Christmas,Winter Activities",
         "image",
         "https://i.pinimg.com/originals/3f/f7/54/3ff754d879c31507d1dc78104af06a63.jpg",
         "/data/christmas",
         "christmas"
        ],
        [
         2386,
         "38c3e021-527e-4da6-8d43-c0aa07500d12",
         "Christmas Five Senses Book",
         "The sights, sounds and smells of Christmas stay with many of us for a lifetime. Perhaps cinnamon in your nasal cavity automatically takes you back to Grandma’s kitchen. Or at th… ",
         79000,
         "Life Over C's",
         "Christmas Books,Christmas Themes,Kids Christmas,Xmas,Christmas Projects,Preschool Christmas Crafts,Christmas Activities,Kindergarten Christmas,Winter Activities",
         "image",
         "https://i.pinimg.com/originals/3f/f7/54/3ff754d879c31507d1dc78104af06a63.jpg",
         "/data/christmas",
         "christmas"
        ],
        [
         2386,
         "38c3e021-527e-4da6-8d43-c0aa07500d12",
         "Christmas Five Senses Book",
         "The sights, sounds and smells of Christmas stay with many of us for a lifetime. Perhaps cinnamon in your nasal cavity automatically takes you back to Grandma’s kitchen. Or at th… ",
         79000,
         "Life Over C's",
         "Christmas Books,Christmas Themes,Kids Christmas,Xmas,Christmas Projects,Preschool Christmas Crafts,Christmas Activities,Kindergarten Christmas,Winter Activities",
         "image",
         "https://i.pinimg.com/originals/3f/f7/54/3ff754d879c31507d1dc78104af06a63.jpg",
         "/data/christmas",
         "christmas"
        ],
        [
         3454,
         "46bd3f86-b09d-4e29-9033-7ff2df595e51",
         "What can you use to color resin?",
         "HELPFUL RESOURCES – Check out my resin colorants resources page here with links to all the products mentioned in this article (and more). Let me know if you have any that you lo… ",
         6000,
         "Mixed Media Crafts",
         "Epoxy Resin Art,Diy Resin Art,Diy Resin Crafts,Resin Molds,Ice Resin,Resin Pour,Diy Epoxy,Diy Resin Painting,Diy Resin Dice",
         "image",
         "https://i.pinimg.com/originals/d4/12/78/d4127833023ca32600571ddca16f1556.jpg",
         "/data/diy-and-crafts",
         "diy-and-crafts"
        ],
        [
         5730,
         "1e1f0c8b-9fcf-460b-9154-c775827206eb",
         "Island Oasis Coupon Organizer",
         "Description Coupon Organizer in a fun colorful fabric -island oasis, Great Size for the \"basic\" couponer - holds up to 500 coupons with ease, and is made long enough so that you… ",
         0,
         "Consuelo Aguirre",
         "Grocery Items,Grocery Coupons,Care Organization,Coupon Organization,Extreme Couponing,Couponing 101,Life Binder,Save My Money,Love Coupons",
         "image",
         "https://i.pinimg.com/originals/65/bb/ea/65bbeaf458907bb079317d8303c4fa0e.jpg",
         "/data/finance",
         "finance"
        ],
        [
         5730,
         "1e1f0c8b-9fcf-460b-9154-c775827206eb",
         "Island Oasis Coupon Organizer",
         "Description Coupon Organizer in a fun colorful fabric -island oasis, Great Size for the \"basic\" couponer - holds up to 500 coupons with ease, and is made long enough so that you… ",
         0,
         "Consuelo Aguirre",
         "Grocery Items,Grocery Coupons,Care Organization,Coupon Organization,Extreme Couponing,Couponing 101,Life Binder,Save My Money,Love Coupons",
         "image",
         "https://i.pinimg.com/originals/65/bb/ea/65bbeaf458907bb079317d8303c4fa0e.jpg",
         "/data/finance",
         "finance"
        ],
        [
         5730,
         "1e1f0c8b-9fcf-460b-9154-c775827206eb",
         "Island Oasis Coupon Organizer",
         "Description Coupon Organizer in a fun colorful fabric -island oasis, Great Size for the \"basic\" couponer - holds up to 500 coupons with ease, and is made long enough so that you… ",
         0,
         "Consuelo Aguirre",
         "Grocery Items,Grocery Coupons,Care Organization,Coupon Organization,Extreme Couponing,Couponing 101,Life Binder,Save My Money,Love Coupons",
         "image",
         "https://i.pinimg.com/originals/65/bb/ea/65bbeaf458907bb079317d8303c4fa0e.jpg",
         "/data/finance",
         "finance"
        ],
        [
         2863,
         "9bf39437-42a6-4f02-99a0-9a0383d8cd70",
         "25 Super Fun Summer Crafts for Kids - Of Life and Lisa",
         "Keep the kids busy this summer with these easy diy crafts and projects. Creative and…",
         124000,
         "Of Life & Lisa | Lifestyle Blog",
         "Summer Crafts For Kids,Fun Crafts For Kids,Summer Kids,Toddler Crafts,Crafts To Do,Diy For Kids,Summer Snow,Diys For Summer,Craft Ideas For Girls",
         "image",
         "https://i.pinimg.com/originals/b3/bc/e2/b3bce2964e8c8975387b39660eed5f16.jpg",
         "/data/diy-and-crafts",
         "diy-and-crafts"
        ],
        [
         2863,
         "9bf39437-42a6-4f02-99a0-9a0383d8cd70",
         "25 Super Fun Summer Crafts for Kids - Of Life and Lisa",
         "Keep the kids busy this summer with these easy diy crafts and projects. Creative and…",
         124000,
         "Of Life & Lisa | Lifestyle Blog",
         "Summer Crafts For Kids,Fun Crafts For Kids,Summer Kids,Toddler Crafts,Crafts To Do,Diy For Kids,Summer Snow,Diys For Summer,Craft Ideas For Girls",
         "image",
         "https://i.pinimg.com/originals/b3/bc/e2/b3bce2964e8c8975387b39660eed5f16.jpg",
         "/data/diy-and-crafts",
         "diy-and-crafts"
        ],
        [
         2863,
         "9bf39437-42a6-4f02-99a0-9a0383d8cd70",
         "25 Super Fun Summer Crafts for Kids - Of Life and Lisa",
         "Keep the kids busy this summer with these easy diy crafts and projects. Creative and…",
         124000,
         "Of Life & Lisa | Lifestyle Blog",
         "Summer Crafts For Kids,Fun Crafts For Kids,Summer Kids,Toddler Crafts,Crafts To Do,Diy For Kids,Summer Snow,Diys For Summer,Craft Ideas For Girls",
         "image",
         "https://i.pinimg.com/originals/b3/bc/e2/b3bce2964e8c8975387b39660eed5f16.jpg",
         "/data/diy-and-crafts",
         "diy-and-crafts"
        ],
        [
         2863,
         "9bf39437-42a6-4f02-99a0-9a0383d8cd70",
         "25 Super Fun Summer Crafts for Kids - Of Life and Lisa",
         "Keep the kids busy this summer with these easy diy crafts and projects. Creative and…",
         124000,
         "Of Life & Lisa | Lifestyle Blog",
         "Summer Crafts For Kids,Fun Crafts For Kids,Summer Kids,Toddler Crafts,Crafts To Do,Diy For Kids,Summer Snow,Diys For Summer,Craft Ideas For Girls",
         "image",
         "https://i.pinimg.com/originals/b3/bc/e2/b3bce2964e8c8975387b39660eed5f16.jpg",
         "/data/diy-and-crafts",
         "diy-and-crafts"
        ],
        [
         2863,
         "9bf39437-42a6-4f02-99a0-9a0383d8cd70",
         "25 Super Fun Summer Crafts for Kids - Of Life and Lisa",
         "Keep the kids busy this summer with these easy diy crafts and projects. Creative and…",
         124000,
         "Of Life & Lisa | Lifestyle Blog",
         "Summer Crafts For Kids,Fun Crafts For Kids,Summer Kids,Toddler Crafts,Crafts To Do,Diy For Kids,Summer Snow,Diys For Summer,Craft Ideas For Girls",
         "image",
         "https://i.pinimg.com/originals/b3/bc/e2/b3bce2964e8c8975387b39660eed5f16.jpg",
         "/data/diy-and-crafts",
         "diy-and-crafts"
        ],
        [
         2923,
         "52fa3af5-24a4-4ccb-8f17-9c3eb12327ee",
         "UFO Paper Plate Craft",
         "A fun space activity for kids. Preshoolers and kindergartners will love making their own alien spacecraft!",
         192000,
         "The Crafting Chicks",
         "Paper Plate Crafts For Kids,Fun Crafts For Kids,Summer Crafts,Toddler Crafts,Art For Kids,Outer Space Crafts For Kids,Kid Crafts,Space Kids,Back To School Crafts For Kids",
         "image",
         "https://i.pinimg.com/originals/6f/e8/aa/6fe8aa405513c6d2f77b5f47d17cdce8.jpg",
         "/data/diy-and-crafts",
         "diy-and-crafts"
        ],
        [
         8731,
         "ea760f71-febf-4023-b592-d17396659039",
         "20 Koi Fish Tattoos For Lucky Men",
         "Koi fish tattoos are a popular choice for men who want to make a statement, thanks to their rich symbolism and bold design.",
         211000,
         "TheTrendSpotter",
         "Dr Tattoo,Wörter Tattoos,Pisces Tattoos,Tatoo Art,Dream Tattoos,Dope Tattoos,Mini Tattoos,Finger Tattoos,Body Art Tattoos",
         "image",
         "https://i.pinimg.com/originals/8a/0c/0a/8a0c0a7b6236565c519acd41ad1a52c0.jpg",
         "/data/tattoos",
         "tattoos"
        ],
        [
         8731,
         "ea760f71-febf-4023-b592-d17396659039",
         "20 Koi Fish Tattoos For Lucky Men",
         "Koi fish tattoos are a popular choice for men who want to make a statement, thanks to their rich symbolism and bold design.",
         211000,
         "TheTrendSpotter",
         "Dr Tattoo,Wörter Tattoos,Pisces Tattoos,Tatoo Art,Dream Tattoos,Dope Tattoos,Mini Tattoos,Finger Tattoos,Body Art Tattoos",
         "image",
         "https://i.pinimg.com/originals/8a/0c/0a/8a0c0a7b6236565c519acd41ad1a52c0.jpg",
         "/data/tattoos",
         "tattoos"
        ],
        [
         8304,
         "5b6d0913-25e4-43ab-839d-85d5516f78a4",
         "The #1 Reason You’re Not His Priority Anymore - Matthew Coast",
         "#lovequotes #matchmaker #matchmadeinheaven #loveyourself #respectyourself",
         51000,
         "Commitment Connection",
         "Wise Quotes,Quotable Quotes,Words Quotes,Wise Words,Quotes To Live By,Great Quotes,Motivational Quotes,Inspirational Quotes,Funny Quotes",
         "image",
         "https://i.pinimg.com/originals/c6/64/ee/c664ee71524fb5a6e7b7b49233f93b43.png",
         "/data/quotes",
         "quotes"
        ],
        [
         8304,
         "5b6d0913-25e4-43ab-839d-85d5516f78a4",
         "The #1 Reason You’re Not His Priority Anymore - Matthew Coast",
         "#lovequotes #matchmaker #matchmadeinheaven #loveyourself #respectyourself",
         51000,
         "Commitment Connection",
         "Wise Quotes,Quotable Quotes,Words Quotes,Wise Words,Quotes To Live By,Great Quotes,Motivational Quotes,Inspirational Quotes,Funny Quotes",
         "image",
         "https://i.pinimg.com/originals/c6/64/ee/c664ee71524fb5a6e7b7b49233f93b43.png",
         "/data/quotes",
         "quotes"
        ],
        [
         7554,
         "c6fa12f4-0d4a-4b07-a335-5bf9f37f8281",
         "Craig Style",
         "imgentleboss: “ - More about men’s fashion at @Gentleboss - GB’s Facebook - ”",
         940,
         "iElylike ..✿◕‿◕✿ஐ✿◕‿◕✿",
         "Mens Fashion Blog,Look Fashion,Autumn Fashion,Fashion News,Fashion Sale,80s Fashion,Paris Fashion,Runway Fashion,Fashion Trends",
         "image",
         "https://i.pinimg.com/originals/e7/6e/8e/e76e8ed6cc838b84a934c6948a5caff7.jpg",
         "/data/mens-fashion",
         "mens-fashion"
        ],
        [
         1313,
         "44662045-e891-4821-8a19-ebe7eedd371a",
         "Liquid Lash Extensions Mascara",
         "Instantly create the look of lash extensions with this award-winning, best-selling mascara that won't clump, flake or smudge. Available in 3 shades!",
         43000,
         "Thrive Causemetics",
         null,
         "video",
         "https://i.pinimg.com/videos/thumbnails/originals/69/84/e2/6984e20f3e262098fa9c0614c3453254.0000001.jpg",
         "/data/beauty",
         "beauty"
        ],
        [
         1313,
         "44662045-e891-4821-8a19-ebe7eedd371a",
         "Liquid Lash Extensions Mascara",
         "Instantly create the look of lash extensions with this award-winning, best-selling mascara that won't clump, flake or smudge. Available in 3 shades!",
         43000,
         "Thrive Causemetics",
         null,
         "video",
         "https://i.pinimg.com/videos/thumbnails/originals/69/84/e2/6984e20f3e262098fa9c0614c3453254.0000001.jpg",
         "/data/beauty",
         "beauty"
        ],
        [
         10625,
         "d31885b7-742a-4e2a-bbb7-ac5f9d334340",
         "Jaguar Type E",
         "1937 Jaguar SS100 - 2 1/2 Litre Roadster, one of the most sought after pre-war sports cars",
         8000,
         "hobbyDB",
         "Jaguar Type E,Jaguar Xk,Jaguar Cars,Jaguar Roadster,Jaguar Sport,Retro Cars,Vintage Cars,Antique Cars,British Sports Cars",
         "image",
         "https://i.pinimg.com/originals/26/81/a7/2681a71bd0c8f7fd0ab79c455338a49a.jpg",
         "/data/vehicles",
         "vehicles"
        ],
        [
         10794,
         "c4bd2577-a7bb-4409-bb7a-17d5ed7e1cf1",
         "TireBuyer",
         "Nissan GT-R. Sick.",
         437,
         "Ray Uyemura",
         "Lowrider,Old Vintage Cars,Antique Cars,Austin Martin,Nissan Gtr Black,Jaguar,1959 Cadillac,Cadillac Ct6,Old School Cars",
         "image",
         "https://i.pinimg.com/originals/0d/29/9f/0d299f3df020395aa7ce8387f40fbeed.jpg",
         "/data/vehicles",
         "vehicles"
        ],
        [
         10794,
         "c4bd2577-a7bb-4409-bb7a-17d5ed7e1cf1",
         "TireBuyer",
         "Nissan GT-R. Sick.",
         437,
         "Ray Uyemura",
         "Lowrider,Old Vintage Cars,Antique Cars,Austin Martin,Nissan Gtr Black,Jaguar,1959 Cadillac,Cadillac Ct6,Old School Cars",
         "image",
         "https://i.pinimg.com/originals/0d/29/9f/0d299f3df020395aa7ce8387f40fbeed.jpg",
         "/data/vehicles",
         "vehicles"
        ],
        [
         3089,
         "88f9227e-88d0-4b1c-b0be-bcfc3028b8e2",
         null,
         null,
         null,
         null,
         null,
         "multi-video(story page format)",
         null,
         "/data/diy-and-crafts",
         "diy-and-crafts"
        ],
        [
         7528,
         "fbe53c66-3442-4773-b19e-d3ec6f54dddf",
         null,
         null,
         null,
         null,
         null,
         "multi-video(story page format)",
         null,
         "/data/mens-fashion",
         "mens-fashion"
        ],
        [
         7528,
         "fbe53c66-3442-4773-b19e-d3ec6f54dddf",
         null,
         null,
         null,
         null,
         null,
         "multi-video(story page format)",
         null,
         "/data/mens-fashion",
         "mens-fashion"
        ],
        [
         7528,
         "fbe53c66-3442-4773-b19e-d3ec6f54dddf",
         null,
         null,
         null,
         null,
         null,
         "multi-video(story page format)",
         null,
         "/data/mens-fashion",
         "mens-fashion"
        ],
        [
         7528,
         "fbe53c66-3442-4773-b19e-d3ec6f54dddf",
         null,
         null,
         null,
         null,
         null,
         "multi-video(story page format)",
         null,
         "/data/mens-fashion",
         "mens-fashion"
        ],
        [
         7528,
         "fbe53c66-3442-4773-b19e-d3ec6f54dddf",
         null,
         null,
         null,
         null,
         null,
         "multi-video(story page format)",
         null,
         "/data/mens-fashion",
         "mens-fashion"
        ],
        [
         7528,
         null,
         null,
         null,
         null,
         null,
         null,
         null,
         null,
         null,
         null
        ],
        [
         2863,
         null,
         null,
         null,
         null,
         null,
         null,
         null,
         null,
         null,
         null
        ]
       ],
       "datasetInfos": [],
       "dbfsResultPath": null,
       "isJsonSchema": true,
       "metadata": {},
       "overflow": false,
       "plotOptions": {
        "customPlotOptions": {},
        "displayType": "table",
        "pivotAggregation": null,
        "pivotColumns": null,
        "xColumns": null,
        "yColumns": null
       },
       "removedWidgets": [],
       "schema": [
        {
         "metadata": "{}",
         "name": "ind",
         "type": "\"long\""
        },
        {
         "metadata": "{}",
         "name": "unique_id",
         "type": "\"string\""
        },
        {
         "metadata": "{}",
         "name": "title",
         "type": "\"string\""
        },
        {
         "metadata": "{}",
         "name": "description",
         "type": "\"string\""
        },
        {
         "metadata": "{}",
         "name": "follower_count",
         "type": "\"integer\""
        },
        {
         "metadata": "{}",
         "name": "poster_name",
         "type": "\"string\""
        },
        {
         "metadata": "{}",
         "name": "tag_list",
         "type": "\"string\""
        },
        {
         "metadata": "{}",
         "name": "is_image_or_video",
         "type": "\"string\""
        },
        {
         "metadata": "{}",
         "name": "image_src",
         "type": "\"string\""
        },
        {
         "metadata": "{}",
         "name": "save_location",
         "type": "\"string\""
        },
        {
         "metadata": "{}",
         "name": "category",
         "type": "\"string\""
        }
       ],
       "type": "table"
      }
     },
     "output_type": "display_data"
    }
   ],
   "source": [
    "# File location and type\n",
    "# Asterisk(*) indicates reading all the content of the specified file that have .json extension\n",
    "file_location = \"/mnt/pinterest_pipeline/topics/0a4e65e909bd.pin/partition=0/*.json\"\n",
    "file_type = \"json\"\n",
    "# Ask Spark to infer the schema\n",
    "infer_schema = \"true\"\n",
    "# Read in JSONs from mounted S3 bucket\n",
    "pin_df = spark.read.format(file_type) \\\n",
    ".option(\"inferSchema\", infer_schema) \\\n",
    ".load(file_location)\n",
    "\n",
    "pin_df = pin_df.replace(\"No description available Story format\", None)\n",
    "pin_df = pin_df.replace(\"null\", None)\n",
    "pin_df = pin_df.replace(\"User Info Error\", None)\n",
    "pin_df = pin_df.replace(\"Image src error.\", None)\n",
    "pin_df = pin_df.replace(\"No Title Data Available\", None)\n",
    "pin_df = pin_df.replace(\"N,o, ,T,a,g,s, ,A,v,a,i,l,a,b,l,e\", None)\n",
    "\n",
    "pin_df = pin_df.withColumn(\"follower_count\", when(\n",
    "    col(\"follower_count\").rlike(\"\\\\d+k\"), #checks if the value matches a pattern of one or more digits plus the letter k\n",
    "    (regexp_extract(col(\"follower_count\"), \"(\\\\d+)\", 1).cast(\"integer\") * 1000) #extracts the integer from the cells containing k and * 1000\n",
    ").otherwise(col(\"follower_count\").cast(\"integer\"))) #if it doesn't contain a k, it leaves the integer value\n",
    "\n",
    "pin_df = pin_df.withColumn(\"save_location\", regexp_extract(col(\"save_location\"), \"(/data/).*\", 0)) #extracts the save location of the column \n",
    "\n",
    "pin_df = pin_df.withColumnRenamed(\"index\", \"ind\")\n",
    "\n",
    "column_structure = [\"ind\", \"unique_id\", \"title\", \"description\", \"follower_count\", \"poster_name\", \"tag_list\", \"is_image_or_video\", \"image_src\", \"save_location\", \"category\"]\n",
    "pin_df = pin_df.select(column_structure)\n",
    "\n",
    "print(pin_df.dtypes)\n",
    "# Display Spark dataframe to check its content\n",
    "display(pin_df)"
   ]
  },
  {
   "cell_type": "code",
   "execution_count": 0,
   "metadata": {
    "application/vnd.databricks.v1+cell": {
     "cellMetadata": {
      "byteLimit": 2048000,
      "rowLimit": 10000
     },
     "inputWidgets": {},
     "nuid": "d2017016-a5d0-4be5-8021-3724acbc07ea",
     "showTitle": false,
     "title": ""
    }
   },
   "outputs": [
    {
     "output_type": "display_data",
     "data": {
      "text/html": [
       "<style scoped>\n",
       "  .table-result-container {\n",
       "    max-height: 300px;\n",
       "    overflow: auto;\n",
       "  }\n",
       "  table, th, td {\n",
       "    border: 1px solid black;\n",
       "    border-collapse: collapse;\n",
       "  }\n",
       "  th, td {\n",
       "    padding: 5px;\n",
       "  }\n",
       "  th {\n",
       "    text-align: left;\n",
       "  }\n",
       "</style><div class='table-result-container'><table class='table-result'><thead style='background-color: white'><tr><th>ind</th><th>user_name</th><th>age</th><th>date_joined</th></tr></thead><tbody><tr><td>8731</td><td>AndreaAlexander</td><td>21</td><td>2015-11-10T09:27:42.000+0000</td></tr><tr><td>8731</td><td>AndreaAlexander</td><td>21</td><td>2015-11-10T09:27:42.000+0000</td></tr><tr><td>4315</td><td>MichellePrince</td><td>36</td><td>2015-12-20T16:38:13.000+0000</td></tr><tr><td>4315</td><td>MichellePrince</td><td>36</td><td>2015-12-20T16:38:13.000+0000</td></tr><tr><td>10625</td><td>ChristianLang</td><td>32</td><td>2017-10-10T20:09:33.000+0000</td></tr><tr><td>1313</td><td>BrittanyJones</td><td>32</td><td>2016-04-02T03:51:23.000+0000</td></tr><tr><td>10794</td><td>ThomasTurner</td><td>34</td><td>2016-12-22T00:02:02.000+0000</td></tr><tr><td>1313</td><td>BrittanyJones</td><td>32</td><td>2016-04-02T03:51:23.000+0000</td></tr><tr><td>10794</td><td>ThomasTurner</td><td>34</td><td>2016-12-22T00:02:02.000+0000</td></tr><tr><td>2386</td><td>MichelleLloyd</td><td>25</td><td>2017-06-09T01:37:22.000+0000</td></tr><tr><td>2386</td><td>MichelleLloyd</td><td>25</td><td>2017-06-09T01:37:22.000+0000</td></tr><tr><td>2386</td><td>MichelleLloyd</td><td>25</td><td>2017-06-09T01:37:22.000+0000</td></tr><tr><td>2386</td><td>MichelleLloyd</td><td>25</td><td>2017-06-09T01:37:22.000+0000</td></tr><tr><td>2386</td><td>MichelleLloyd</td><td>25</td><td>2017-06-09T01:37:22.000+0000</td></tr><tr><td>2386</td><td>MichelleLloyd</td><td>25</td><td>2017-06-09T01:37:22.000+0000</td></tr><tr><td>2386</td><td>MichelleLloyd</td><td>25</td><td>2017-06-09T01:37:22.000+0000</td></tr><tr><td>8304</td><td>CharlesBerry</td><td>25</td><td>2015-12-28T04:21:39.000+0000</td></tr><tr><td>8304</td><td>CharlesBerry</td><td>25</td><td>2015-12-28T04:21:39.000+0000</td></tr><tr><td>6063</td><td>CoreyAndrews</td><td>23</td><td>2015-11-25T13:36:22.000+0000</td></tr><tr><td>3454</td><td>RobertMurphy</td><td>48</td><td>2017-09-26T16:31:56.000+0000</td></tr><tr><td>7554</td><td>CherylHuerta</td><td>20</td><td>2017-04-11T16:35:33.000+0000</td></tr><tr><td>6145</td><td>EmilyHawkins</td><td>30</td><td>2015-12-25T20:24:37.000+0000</td></tr><tr><td>2863</td><td>DylanHolmes</td><td>32</td><td>2016-10-23T14:06:51.000+0000</td></tr><tr><td>5730</td><td>RachelDavis</td><td>36</td><td>2015-12-08T20:02:43.000+0000</td></tr><tr><td>2863</td><td>DylanHolmes</td><td>32</td><td>2016-10-23T14:06:51.000+0000</td></tr><tr><td>2863</td><td>DylanHolmes</td><td>32</td><td>2016-10-23T14:06:51.000+0000</td></tr><tr><td>2863</td><td>DylanHolmes</td><td>32</td><td>2016-10-23T14:06:51.000+0000</td></tr><tr><td>2863</td><td>DylanHolmes</td><td>32</td><td>2016-10-23T14:06:51.000+0000</td></tr><tr><td>2863</td><td>DylanHolmes</td><td>32</td><td>2016-10-23T14:06:51.000+0000</td></tr><tr><td>5730</td><td>RachelDavis</td><td>36</td><td>2015-12-08T20:02:43.000+0000</td></tr><tr><td>2863</td><td>DylanHolmes</td><td>32</td><td>2016-10-23T14:06:51.000+0000</td></tr><tr><td>5730</td><td>RachelDavis</td><td>36</td><td>2015-12-08T20:02:43.000+0000</td></tr><tr><td>2923</td><td>BrianNelson</td><td>26</td><td>2015-11-11T03:20:57.000+0000</td></tr><tr><td>7528</td><td>AbigailAli</td><td>20</td><td>2015-10-24T11:23:51.000+0000</td></tr><tr><td>7528</td><td>AbigailAli</td><td>20</td><td>2015-10-24T11:23:51.000+0000</td></tr><tr><td>7528</td><td>AbigailAli</td><td>20</td><td>2015-10-24T11:23:51.000+0000</td></tr><tr><td>7528</td><td>AbigailAli</td><td>20</td><td>2015-10-24T11:23:51.000+0000</td></tr><tr><td>7528</td><td>AbigailAli</td><td>20</td><td>2015-10-24T11:23:51.000+0000</td></tr><tr><td>7528</td><td>AbigailAli</td><td>20</td><td>2015-10-24T11:23:51.000+0000</td></tr><tr><td>7528</td><td>AbigailAli</td><td>20</td><td>2015-10-24T11:23:51.000+0000</td></tr><tr><td>7528</td><td>AbigailAli</td><td>20</td><td>2015-10-24T11:23:51.000+0000</td></tr><tr><td>7528</td><td>AbigailAli</td><td>20</td><td>2015-10-24T11:23:51.000+0000</td></tr><tr><td>5069</td><td>AmandaBall</td><td>25</td><td>2016-01-13T17:36:30.000+0000</td></tr><tr><td>3089</td><td>AbigailAli</td><td>20</td><td>2015-10-24T11:23:51.000+0000</td></tr><tr><td>5494</td><td>AnneAllen</td><td>27</td><td>2015-12-16T15:20:05.000+0000</td></tr></tbody></table></div>"
      ]
     },
     "metadata": {
      "application/vnd.databricks.v1+output": {
       "addedWidgets": {},
       "aggData": [],
       "aggError": "",
       "aggOverflow": false,
       "aggSchema": [],
       "aggSeriesLimitReached": false,
       "aggType": "",
       "arguments": {},
       "columnCustomDisplayInfos": {},
       "data": [
        [
         8731,
         "AndreaAlexander",
         21,
         "2015-11-10T09:27:42.000+0000"
        ],
        [
         8731,
         "AndreaAlexander",
         21,
         "2015-11-10T09:27:42.000+0000"
        ],
        [
         4315,
         "MichellePrince",
         36,
         "2015-12-20T16:38:13.000+0000"
        ],
        [
         4315,
         "MichellePrince",
         36,
         "2015-12-20T16:38:13.000+0000"
        ],
        [
         10625,
         "ChristianLang",
         32,
         "2017-10-10T20:09:33.000+0000"
        ],
        [
         1313,
         "BrittanyJones",
         32,
         "2016-04-02T03:51:23.000+0000"
        ],
        [
         10794,
         "ThomasTurner",
         34,
         "2016-12-22T00:02:02.000+0000"
        ],
        [
         1313,
         "BrittanyJones",
         32,
         "2016-04-02T03:51:23.000+0000"
        ],
        [
         10794,
         "ThomasTurner",
         34,
         "2016-12-22T00:02:02.000+0000"
        ],
        [
         2386,
         "MichelleLloyd",
         25,
         "2017-06-09T01:37:22.000+0000"
        ],
        [
         2386,
         "MichelleLloyd",
         25,
         "2017-06-09T01:37:22.000+0000"
        ],
        [
         2386,
         "MichelleLloyd",
         25,
         "2017-06-09T01:37:22.000+0000"
        ],
        [
         2386,
         "MichelleLloyd",
         25,
         "2017-06-09T01:37:22.000+0000"
        ],
        [
         2386,
         "MichelleLloyd",
         25,
         "2017-06-09T01:37:22.000+0000"
        ],
        [
         2386,
         "MichelleLloyd",
         25,
         "2017-06-09T01:37:22.000+0000"
        ],
        [
         2386,
         "MichelleLloyd",
         25,
         "2017-06-09T01:37:22.000+0000"
        ],
        [
         8304,
         "CharlesBerry",
         25,
         "2015-12-28T04:21:39.000+0000"
        ],
        [
         8304,
         "CharlesBerry",
         25,
         "2015-12-28T04:21:39.000+0000"
        ],
        [
         6063,
         "CoreyAndrews",
         23,
         "2015-11-25T13:36:22.000+0000"
        ],
        [
         3454,
         "RobertMurphy",
         48,
         "2017-09-26T16:31:56.000+0000"
        ],
        [
         7554,
         "CherylHuerta",
         20,
         "2017-04-11T16:35:33.000+0000"
        ],
        [
         6145,
         "EmilyHawkins",
         30,
         "2015-12-25T20:24:37.000+0000"
        ],
        [
         2863,
         "DylanHolmes",
         32,
         "2016-10-23T14:06:51.000+0000"
        ],
        [
         5730,
         "RachelDavis",
         36,
         "2015-12-08T20:02:43.000+0000"
        ],
        [
         2863,
         "DylanHolmes",
         32,
         "2016-10-23T14:06:51.000+0000"
        ],
        [
         2863,
         "DylanHolmes",
         32,
         "2016-10-23T14:06:51.000+0000"
        ],
        [
         2863,
         "DylanHolmes",
         32,
         "2016-10-23T14:06:51.000+0000"
        ],
        [
         2863,
         "DylanHolmes",
         32,
         "2016-10-23T14:06:51.000+0000"
        ],
        [
         2863,
         "DylanHolmes",
         32,
         "2016-10-23T14:06:51.000+0000"
        ],
        [
         5730,
         "RachelDavis",
         36,
         "2015-12-08T20:02:43.000+0000"
        ],
        [
         2863,
         "DylanHolmes",
         32,
         "2016-10-23T14:06:51.000+0000"
        ],
        [
         5730,
         "RachelDavis",
         36,
         "2015-12-08T20:02:43.000+0000"
        ],
        [
         2923,
         "BrianNelson",
         26,
         "2015-11-11T03:20:57.000+0000"
        ],
        [
         7528,
         "AbigailAli",
         20,
         "2015-10-24T11:23:51.000+0000"
        ],
        [
         7528,
         "AbigailAli",
         20,
         "2015-10-24T11:23:51.000+0000"
        ],
        [
         7528,
         "AbigailAli",
         20,
         "2015-10-24T11:23:51.000+0000"
        ],
        [
         7528,
         "AbigailAli",
         20,
         "2015-10-24T11:23:51.000+0000"
        ],
        [
         7528,
         "AbigailAli",
         20,
         "2015-10-24T11:23:51.000+0000"
        ],
        [
         7528,
         "AbigailAli",
         20,
         "2015-10-24T11:23:51.000+0000"
        ],
        [
         7528,
         "AbigailAli",
         20,
         "2015-10-24T11:23:51.000+0000"
        ],
        [
         7528,
         "AbigailAli",
         20,
         "2015-10-24T11:23:51.000+0000"
        ],
        [
         7528,
         "AbigailAli",
         20,
         "2015-10-24T11:23:51.000+0000"
        ],
        [
         5069,
         "AmandaBall",
         25,
         "2016-01-13T17:36:30.000+0000"
        ],
        [
         3089,
         "AbigailAli",
         20,
         "2015-10-24T11:23:51.000+0000"
        ],
        [
         5494,
         "AnneAllen",
         27,
         "2015-12-16T15:20:05.000+0000"
        ]
       ],
       "datasetInfos": [],
       "dbfsResultPath": null,
       "isJsonSchema": true,
       "metadata": {},
       "overflow": false,
       "plotOptions": {
        "customPlotOptions": {},
        "displayType": "table",
        "pivotAggregation": null,
        "pivotColumns": null,
        "xColumns": null,
        "yColumns": null
       },
       "removedWidgets": [],
       "schema": [
        {
         "metadata": "{}",
         "name": "ind",
         "type": "\"long\""
        },
        {
         "metadata": "{}",
         "name": "user_name",
         "type": "\"string\""
        },
        {
         "metadata": "{}",
         "name": "age",
         "type": "\"long\""
        },
        {
         "metadata": "{}",
         "name": "date_joined",
         "type": "\"timestamp\""
        }
       ],
       "type": "table"
      }
     },
     "output_type": "display_data"
    }
   ],
   "source": [
    "# File location and type\n",
    "# Asterisk(*) indicates reading all the content of the specified file that have .json extension\n",
    "file_location = \"/mnt/pinterest_pipeline/topics/0a4e65e909bd.user/partition=0/*.json\"\n",
    "file_type = \"json\"\n",
    "# Ask Spark to infer the schema\n",
    "infer_schema = \"true\"\n",
    "# Read in JSONs from mounted S3 bucket\n",
    "user_df = spark.read.format(file_type) \\\n",
    ".option(\"inferSchema\", infer_schema) \\\n",
    ".load(file_location)\n",
    "\n",
    "user_df = user_df.withColumn(\"user_name\", concat(col(\"first_name\"),col(\"last_name\")))\n",
    "user_df = user_df.drop(\"first_name\", \"last_name\")\n",
    "user_df = user_df.withColumn(\"date_joined\", col(\"date_joined\").cast(\"timestamp\"))\n",
    "\n",
    "column_structure = [\"ind\", \"user_name\", \"age\", \"date_joined\"]\n",
    "user_df = user_df.select(column_structure)\n",
    "# Display Spark dataframe to check its content\n",
    "display(user_df)\n"
   ]
  },
  {
   "cell_type": "code",
   "execution_count": 0,
   "metadata": {
    "application/vnd.databricks.v1+cell": {
     "cellMetadata": {
      "byteLimit": 2048000,
      "rowLimit": 10000
     },
     "inputWidgets": {},
     "nuid": "97d5b16f-6dae-41a7-8211-bf8134e7fd82",
     "showTitle": false,
     "title": ""
    }
   },
   "outputs": [
    {
     "output_type": "display_data",
     "data": {
      "text/html": [
       "<style scoped>\n",
       "  .ansiout {\n",
       "    display: block;\n",
       "    unicode-bidi: embed;\n",
       "    white-space: pre-wrap;\n",
       "    word-wrap: break-word;\n",
       "    word-break: break-all;\n",
       "    font-family: \"Source Code Pro\", \"Menlo\", monospace;;\n",
       "    font-size: 13px;\n",
       "    color: #555;\n",
       "    margin-left: 4px;\n",
       "    line-height: 19px;\n",
       "  }\n",
       "</style>\n",
       "<div class=\"ansiout\"></div>"
      ]
     },
     "metadata": {
      "application/vnd.databricks.v1+output": {
       "addedWidgets": {},
       "arguments": {},
       "data": "<div class=\"ansiout\"></div>",
       "datasetInfos": [],
       "metadata": {},
       "removedWidgets": [],
       "type": "html"
      }
     },
     "output_type": "display_data"
    }
   ],
   "source": [
    "def join_df(df1, df2):\n",
    "    joined_df = df1.join(df2, df1.ind == df2.ind, \"inner\")\n",
    "    return joined_df\n",
    "\n",
    "def create_post_year(df, column):\n",
    "    '''\n",
    "\n",
    "\n",
    "    Parameters\n",
    "    ----------\n",
    "    df\n",
    "\n",
    "    column : str\n",
    "        the column that is to be changed to post_year\n",
    "    '''\n",
    "    df = df.withColumn(f\"{column}\", df[column].substr(1,4))\n",
    "    df = df.withColumnRenamed(f\"{column}\", \"post_year\")\n",
    "    df = df.withColumn(\"post_year\", col(\"post_year\").cast(\"Integer\"))\n",
    "    return df\n",
    "\n",
    "def create_age_groups(df):\n",
    "    df = df.withColumn(\"age_group\", when((df.age >= 18) & (df.age <= 24), \"18-24\")\n",
    "                                             .when((df.age >= 25) & (df.age <= 35), \"25-35\")\n",
    "                                             .when((df.age >=36) & (df.age <= 50), \"36-50\")\n",
    "                                             .when(df.age > 50, \"50+\")\n",
    "                                             .otherwise(\"Unknown\"))\n",
    "    return df\n",
    "\n",
    "def find_most_popular_category(df, column):\n",
    "    df = df.groupBy(column, \"category\").count().withColumnRenamed(\"count\", \"category_count\")\n",
    "    sorted_df = df.orderBy(col(\"category_count\").desc())\n",
    "    df = sorted_df.groupBy(column).agg( #sorting by each country\n",
    "    first(\"category\").alias(\"most_popular_category\"), #gets the data frame from the first/most popular category\n",
    "    first(\"category_count\").alias(\"category_count\"))\n",
    "    return df"
   ]
  },
  {
   "cell_type": "code",
   "execution_count": 0,
   "metadata": {
    "application/vnd.databricks.v1+cell": {
     "cellMetadata": {
      "byteLimit": 2048000,
      "rowLimit": 10000
     },
     "inputWidgets": {},
     "nuid": "6f3611f8-e052-4542-be86-81b009c569bd",
     "showTitle": false,
     "title": ""
    }
   },
   "outputs": [
    {
     "output_type": "display_data",
     "data": {
      "text/html": [
       "<style scoped>\n",
       "  .table-result-container {\n",
       "    max-height: 300px;\n",
       "    overflow: auto;\n",
       "  }\n",
       "  table, th, td {\n",
       "    border: 1px solid black;\n",
       "    border-collapse: collapse;\n",
       "  }\n",
       "  th, td {\n",
       "    padding: 5px;\n",
       "  }\n",
       "  th {\n",
       "    text-align: left;\n",
       "  }\n",
       "</style><div class='table-result-container'><table class='table-result'><thead style='background-color: white'><tr><th>country</th><th>most_popular_category</th><th>category_count</th></tr></thead><tbody><tr><td>Albania</td><td>mens-fashion</td><td>50</td></tr><tr><td>Anguilla</td><td>home-decor</td><td>1</td></tr><tr><td>Armenia</td><td>diy-and-crafts</td><td>40</td></tr><tr><td>Aruba</td><td>tattoos</td><td>6</td></tr><tr><td>Azerbaijan</td><td>event-planning</td><td>1</td></tr><tr><td>Bulgaria</td><td>finance</td><td>1</td></tr><tr><td>Cambodia</td><td>diy-and-crafts</td><td>1</td></tr><tr><td>Cocos (Keeling) Islands</td><td>vehicles</td><td>4</td></tr><tr><td>Colombia</td><td>finance</td><td>12</td></tr><tr><td>Cote d'Ivoire</td><td>education</td><td>4</td></tr><tr><td>French Guiana</td><td>quotes</td><td>6</td></tr><tr><td>Jamaica</td><td>vehicles</td><td>1</td></tr><tr><td>Maldives</td><td>beauty</td><td>6</td></tr><tr><td>Montenegro</td><td>christmas</td><td>4</td></tr><tr><td>Mozambique</td><td>home-decor</td><td>1</td></tr><tr><td>Sudan</td><td>mens-fashion</td><td>1</td></tr></tbody></table></div>"
      ]
     },
     "metadata": {
      "application/vnd.databricks.v1+output": {
       "addedWidgets": {},
       "aggData": [],
       "aggError": "",
       "aggOverflow": false,
       "aggSchema": [],
       "aggSeriesLimitReached": false,
       "aggType": "",
       "arguments": {},
       "columnCustomDisplayInfos": {},
       "data": [
        [
         "Albania",
         "mens-fashion",
         50
        ],
        [
         "Anguilla",
         "home-decor",
         1
        ],
        [
         "Armenia",
         "diy-and-crafts",
         40
        ],
        [
         "Aruba",
         "tattoos",
         6
        ],
        [
         "Azerbaijan",
         "event-planning",
         1
        ],
        [
         "Bulgaria",
         "finance",
         1
        ],
        [
         "Cambodia",
         "diy-and-crafts",
         1
        ],
        [
         "Cocos (Keeling) Islands",
         "vehicles",
         4
        ],
        [
         "Colombia",
         "finance",
         12
        ],
        [
         "Cote d'Ivoire",
         "education",
         4
        ],
        [
         "French Guiana",
         "quotes",
         6
        ],
        [
         "Jamaica",
         "vehicles",
         1
        ],
        [
         "Maldives",
         "beauty",
         6
        ],
        [
         "Montenegro",
         "christmas",
         4
        ],
        [
         "Mozambique",
         "home-decor",
         1
        ],
        [
         "Sudan",
         "mens-fashion",
         1
        ]
       ],
       "datasetInfos": [],
       "dbfsResultPath": null,
       "isJsonSchema": true,
       "metadata": {},
       "overflow": false,
       "plotOptions": {
        "customPlotOptions": {},
        "displayType": "table",
        "pivotAggregation": null,
        "pivotColumns": null,
        "xColumns": null,
        "yColumns": null
       },
       "removedWidgets": [],
       "schema": [
        {
         "metadata": "{}",
         "name": "country",
         "type": "\"string\""
        },
        {
         "metadata": "{}",
         "name": "most_popular_category",
         "type": "\"string\""
        },
        {
         "metadata": "{}",
         "name": "category_count",
         "type": "\"long\""
        }
       ],
       "type": "table"
      }
     },
     "output_type": "display_data"
    }
   ],
   "source": [
    "#Most popular category in each country\n",
    "category_country_df = join_df(pin_df, geo_df)\n",
    "most_popular_category_df = find_most_popular_category(category_country_df, \"country\")\n",
    "\n",
    "display(most_popular_category_df)"
   ]
  },
  {
   "cell_type": "code",
   "execution_count": 0,
   "metadata": {
    "application/vnd.databricks.v1+cell": {
     "cellMetadata": {
      "byteLimit": 2048000,
      "rowLimit": 10000
     },
     "inputWidgets": {},
     "nuid": "fcde89b0-8c9b-48e9-8eb3-2e3ce1afecd8",
     "showTitle": false,
     "title": ""
    }
   },
   "outputs": [
    {
     "output_type": "display_data",
     "data": {
      "text/html": [
       "<style scoped>\n",
       "  .table-result-container {\n",
       "    max-height: 300px;\n",
       "    overflow: auto;\n",
       "  }\n",
       "  table, th, td {\n",
       "    border: 1px solid black;\n",
       "    border-collapse: collapse;\n",
       "  }\n",
       "  th, td {\n",
       "    padding: 5px;\n",
       "  }\n",
       "  th {\n",
       "    text-align: left;\n",
       "  }\n",
       "</style><div class='table-result-container'><table class='table-result'><thead style='background-color: white'><tr><th>post_year</th><th>most_popular_category</th><th>category_count</th></tr></thead><tbody><tr><td>2022</td><td>vehicles</td><td>4</td></tr><tr><td>2021</td><td>finance</td><td>13</td></tr><tr><td>2020</td><td>mens-fashion</td><td>50</td></tr><tr><td>2019</td><td>christmas</td><td>49</td></tr><tr><td>2018</td><td>beauty</td><td>6</td></tr></tbody></table></div>"
      ]
     },
     "metadata": {
      "application/vnd.databricks.v1+output": {
       "addedWidgets": {},
       "aggData": [],
       "aggError": "",
       "aggOverflow": false,
       "aggSchema": [],
       "aggSeriesLimitReached": false,
       "aggType": "",
       "arguments": {},
       "columnCustomDisplayInfos": {},
       "data": [
        [
         2022,
         "vehicles",
         4
        ],
        [
         2021,
         "finance",
         13
        ],
        [
         2020,
         "mens-fashion",
         50
        ],
        [
         2019,
         "christmas",
         49
        ],
        [
         2018,
         "beauty",
         6
        ]
       ],
       "datasetInfos": [],
       "dbfsResultPath": null,
       "isJsonSchema": true,
       "metadata": {},
       "overflow": false,
       "plotOptions": {
        "customPlotOptions": {},
        "displayType": "table",
        "pivotAggregation": null,
        "pivotColumns": null,
        "xColumns": null,
        "yColumns": null
       },
       "removedWidgets": [],
       "schema": [
        {
         "metadata": "{}",
         "name": "post_year",
         "type": "\"integer\""
        },
        {
         "metadata": "{}",
         "name": "most_popular_category",
         "type": "\"string\""
        },
        {
         "metadata": "{}",
         "name": "category_count",
         "type": "\"long\""
        }
       ],
       "type": "table"
      }
     },
     "output_type": "display_data"
    }
   ],
   "source": [
    "#Most popular category each year \n",
    "post_year_geo_df = create_post_year(geo_df, \"timestamp\")\n",
    "post_year_category_df = join_df(post_year_geo_df, pin_df)\n",
    "post_year_category_df = find_most_popular_category(post_year_category_df, \"post_year\")\n",
    "post_year_category_filtered_df = post_year_category_df.filter((col(\"post_year\") >= 2018) & (col(\"post_year\")<= 2022))\n",
    "most_popualr_category_by_year_df = post_year_category_filtered_df.orderBy(col(\"post_year\").desc())\n",
    "\n",
    "display(most_popualr_category_by_year_df)"
   ]
  },
  {
   "cell_type": "code",
   "execution_count": 0,
   "metadata": {
    "application/vnd.databricks.v1+cell": {
     "cellMetadata": {
      "byteLimit": 2048000,
      "rowLimit": 10000
     },
     "inputWidgets": {},
     "nuid": "1fb5d342-3daa-4a48-9996-707eb2b17507",
     "showTitle": false,
     "title": ""
    }
   },
   "outputs": [
    {
     "output_type": "display_data",
     "data": {
      "text/html": [
       "<style scoped>\n",
       "  .table-result-container {\n",
       "    max-height: 300px;\n",
       "    overflow: auto;\n",
       "  }\n",
       "  table, th, td {\n",
       "    border: 1px solid black;\n",
       "    border-collapse: collapse;\n",
       "  }\n",
       "  th, td {\n",
       "    padding: 5px;\n",
       "  }\n",
       "  th {\n",
       "    text-align: left;\n",
       "  }\n",
       "</style><div class='table-result-container'><table class='table-result'><thead style='background-color: white'><tr><th>country</th><th>follower_count</th><th>poster_name</th></tr></thead><tbody><tr><td>Albania</td><td>null</td><td>null</td></tr><tr><td>Anguilla</td><td>92000</td><td>Kristen | Lifestyle, Mom Tips & Teacher Stuff Blog</td></tr><tr><td>Armenia</td><td>124000</td><td>Of Life & Lisa | Lifestyle Blog</td></tr><tr><td>Aruba</td><td>211000</td><td>TheTrendSpotter</td></tr><tr><td>Azerbaijan</td><td>null</td><td>Style Me Pretty</td></tr><tr><td>Bulgaria</td><td>26000</td><td>Living Low Key | Save Money, Make Money, & Frugal Living</td></tr><tr><td>Cambodia</td><td>6000</td><td>Mixed Media Crafts</td></tr><tr><td>Cocos (Keeling) Islands</td><td>437</td><td>Ray Uyemura</td></tr><tr><td>Colombia</td><td>0</td><td>Consuelo Aguirre</td></tr><tr><td>Cote d'Ivoire</td><td>192000</td><td>The Crafting Chicks</td></tr><tr><td>French Guiana</td><td>51000</td><td>Commitment Connection</td></tr><tr><td>Jamaica</td><td>8000</td><td>hobbyDB</td></tr><tr><td>Maldives</td><td>43000</td><td>Thrive Causemetics</td></tr><tr><td>Montenegro</td><td>79000</td><td>Life Over C's</td></tr><tr><td>Mozambique</td><td>83000</td><td>Stylin by Aylin</td></tr><tr><td>Sudan</td><td>940</td><td>iElylike ..✿◕‿◕✿ஐ✿◕‿◕✿</td></tr></tbody></table></div>"
      ]
     },
     "metadata": {
      "application/vnd.databricks.v1+output": {
       "addedWidgets": {},
       "aggData": [],
       "aggError": "",
       "aggOverflow": false,
       "aggSchema": [],
       "aggSeriesLimitReached": false,
       "aggType": "",
       "arguments": {},
       "columnCustomDisplayInfos": {},
       "data": [
        [
         "Albania",
         null,
         null
        ],
        [
         "Anguilla",
         92000,
         "Kristen | Lifestyle, Mom Tips & Teacher Stuff Blog"
        ],
        [
         "Armenia",
         124000,
         "Of Life & Lisa | Lifestyle Blog"
        ],
        [
         "Aruba",
         211000,
         "TheTrendSpotter"
        ],
        [
         "Azerbaijan",
         null,
         "Style Me Pretty"
        ],
        [
         "Bulgaria",
         26000,
         "Living Low Key | Save Money, Make Money, & Frugal Living"
        ],
        [
         "Cambodia",
         6000,
         "Mixed Media Crafts"
        ],
        [
         "Cocos (Keeling) Islands",
         437,
         "Ray Uyemura"
        ],
        [
         "Colombia",
         0,
         "Consuelo Aguirre"
        ],
        [
         "Cote d'Ivoire",
         192000,
         "The Crafting Chicks"
        ],
        [
         "French Guiana",
         51000,
         "Commitment Connection"
        ],
        [
         "Jamaica",
         8000,
         "hobbyDB"
        ],
        [
         "Maldives",
         43000,
         "Thrive Causemetics"
        ],
        [
         "Montenegro",
         79000,
         "Life Over C's"
        ],
        [
         "Mozambique",
         83000,
         "Stylin by Aylin"
        ],
        [
         "Sudan",
         940,
         "iElylike ..✿◕‿◕✿ஐ✿◕‿◕✿"
        ]
       ],
       "datasetInfos": [],
       "dbfsResultPath": null,
       "isJsonSchema": true,
       "metadata": {},
       "overflow": false,
       "plotOptions": {
        "customPlotOptions": {},
        "displayType": "table",
        "pivotAggregation": null,
        "pivotColumns": null,
        "xColumns": null,
        "yColumns": null
       },
       "removedWidgets": [],
       "schema": [
        {
         "metadata": "{}",
         "name": "country",
         "type": "\"string\""
        },
        {
         "metadata": "{}",
         "name": "follower_count",
         "type": "\"integer\""
        },
        {
         "metadata": "{}",
         "name": "poster_name",
         "type": "\"string\""
        }
       ],
       "type": "table"
      }
     },
     "output_type": "display_data"
    }
   ],
   "source": [
    "# User with most followers in each country\n",
    "country_poster_name_follower_df = join_df(pin_df, geo_df)\n",
    "country_poster_name_follower_df = country_poster_name_follower_df.dropDuplicates([\"country\", \"poster_name\", \"follower_count\"])\n",
    "country_poster_name_follower_df = country_poster_name_follower_df.select(\"country\", \"poster_name\", \"follower_count\")\n",
    "\n",
    "country_poster_name_follower_df = country_poster_name_follower_df.orderBy(col(\"follower_count\").desc())\n",
    "most_followers_by_country_df = country_poster_name_follower_df.groupBy(\"country\").agg(\n",
    "    first(\"follower_count\").alias(\"follower_count\"),\n",
    "    first(\"poster_name\").alias(\"poster_name\")\n",
    ")\n",
    "\n",
    "display(most_followers_by_country_df)"
   ]
  },
  {
   "cell_type": "code",
   "execution_count": 0,
   "metadata": {
    "application/vnd.databricks.v1+cell": {
     "cellMetadata": {
      "byteLimit": 2048000,
      "rowLimit": 10000
     },
     "inputWidgets": {},
     "nuid": "d97dd6a4-9257-4882-bb92-bd9c4f2c79f1",
     "showTitle": false,
     "title": ""
    }
   },
   "outputs": [
    {
     "output_type": "display_data",
     "data": {
      "text/html": [
       "<style scoped>\n",
       "  .table-result-container {\n",
       "    max-height: 300px;\n",
       "    overflow: auto;\n",
       "  }\n",
       "  table, th, td {\n",
       "    border: 1px solid black;\n",
       "    border-collapse: collapse;\n",
       "  }\n",
       "  th, td {\n",
       "    padding: 5px;\n",
       "  }\n",
       "  th {\n",
       "    text-align: left;\n",
       "  }\n",
       "</style><div class='table-result-container'><table class='table-result'><thead style='background-color: white'><tr><th>country</th><th>follower_count</th></tr></thead><tbody><tr><td>Aruba</td><td>211000</td></tr></tbody></table></div>"
      ]
     },
     "metadata": {
      "application/vnd.databricks.v1+output": {
       "addedWidgets": {},
       "aggData": [],
       "aggError": "",
       "aggOverflow": false,
       "aggSchema": [],
       "aggSeriesLimitReached": false,
       "aggType": "",
       "arguments": {},
       "columnCustomDisplayInfos": {},
       "data": [
        [
         "Aruba",
         211000
        ]
       ],
       "datasetInfos": [],
       "dbfsResultPath": null,
       "isJsonSchema": true,
       "metadata": {},
       "overflow": false,
       "plotOptions": {
        "customPlotOptions": {},
        "displayType": "table",
        "pivotAggregation": null,
        "pivotColumns": null,
        "xColumns": null,
        "yColumns": null
       },
       "removedWidgets": [],
       "schema": [
        {
         "metadata": "{}",
         "name": "country",
         "type": "\"string\""
        },
        {
         "metadata": "{}",
         "name": "follower_count",
         "type": "\"long\""
        }
       ],
       "type": "table"
      }
     },
     "output_type": "display_data"
    }
   ],
   "source": [
    "# User with most followers overall\n",
    "most_followers_country_df = country_poster_name_follower_df.orderBy(col(\"follower_count\").desc())\n",
    "most_followers_country_df = most_followers_country_df.drop(\"poster_name\")\n",
    "most_followers_overall_df = most_followers_country_df.head(1)\n",
    "\n",
    "display(most_followers_overall_df)"
   ]
  },
  {
   "cell_type": "code",
   "execution_count": 0,
   "metadata": {
    "application/vnd.databricks.v1+cell": {
     "cellMetadata": {
      "byteLimit": 2048000,
      "rowLimit": 10000
     },
     "inputWidgets": {},
     "nuid": "4bb5a94e-1f15-4041-95f0-eba06eb684f6",
     "showTitle": false,
     "title": ""
    }
   },
   "outputs": [
    {
     "output_type": "display_data",
     "data": {
      "text/html": [
       "<style scoped>\n",
       "  .table-result-container {\n",
       "    max-height: 300px;\n",
       "    overflow: auto;\n",
       "  }\n",
       "  table, th, td {\n",
       "    border: 1px solid black;\n",
       "    border-collapse: collapse;\n",
       "  }\n",
       "  th, td {\n",
       "    padding: 5px;\n",
       "  }\n",
       "  th {\n",
       "    text-align: left;\n",
       "  }\n",
       "</style><div class='table-result-container'><table class='table-result'><thead style='background-color: white'><tr><th>age_group</th><th>category</th><th>category_count</th></tr></thead><tbody><tr><td>18-24</td><td>mens-fashion</td><td>46</td></tr><tr><td>25-35</td><td>diy-and-crafts</td><td>36</td></tr><tr><td>36-50</td><td>finance</td><td>9</td></tr></tbody></table></div>"
      ]
     },
     "metadata": {
      "application/vnd.databricks.v1+output": {
       "addedWidgets": {},
       "aggData": [],
       "aggError": "",
       "aggOverflow": false,
       "aggSchema": [],
       "aggSeriesLimitReached": false,
       "aggType": "",
       "arguments": {},
       "columnCustomDisplayInfos": {},
       "data": [
        [
         "18-24",
         "mens-fashion",
         46
        ],
        [
         "25-35",
         "diy-and-crafts",
         36
        ],
        [
         "36-50",
         "finance",
         9
        ]
       ],
       "datasetInfos": [],
       "dbfsResultPath": null,
       "isJsonSchema": true,
       "metadata": {},
       "overflow": false,
       "plotOptions": {
        "customPlotOptions": {},
        "displayType": "table",
        "pivotAggregation": null,
        "pivotColumns": null,
        "xColumns": null,
        "yColumns": null
       },
       "removedWidgets": [],
       "schema": [
        {
         "metadata": "{}",
         "name": "age_group",
         "type": "\"string\""
        },
        {
         "metadata": "{}",
         "name": "category",
         "type": "\"string\""
        },
        {
         "metadata": "{}",
         "name": "category_count",
         "type": "\"long\""
        }
       ],
       "type": "table"
      }
     },
     "output_type": "display_data"
    }
   ],
   "source": [
    "# Most popular category for each age group\n",
    "joined_pin_user_df = join_df(pin_df, user_df)\n",
    "category_age_df = joined_pin_user_df.select(\"category\", \"age\")\n",
    "category_age_df = create_age_groups(category_age_df)\n",
    "grouped_category_age_df = category_age_df.groupBy(\"category\", \"age_group\").count().withColumnRenamed(\"count\", \"category_count\")\n",
    "grouped_category_age_df = grouped_category_age_df.orderBy(col(\"category_count\").desc())\n",
    "most_popular_category_by_age_group_df = grouped_category_age_df.groupBy(\"age_group\").agg(\n",
    "    first(\"category\").alias(\"category\"),\n",
    "    first(\"category_count\").alias(\"category_count\")\n",
    ")\n",
    "\n",
    "display(most_popular_category_by_age_group_df)"
   ]
  },
  {
   "cell_type": "code",
   "execution_count": 0,
   "metadata": {
    "application/vnd.databricks.v1+cell": {
     "cellMetadata": {
      "byteLimit": 2048000,
      "rowLimit": 10000
     },
     "inputWidgets": {},
     "nuid": "c8a7b786-8cb4-4e19-b53d-ae4fd4124198",
     "showTitle": false,
     "title": ""
    }
   },
   "outputs": [
    {
     "output_type": "display_data",
     "data": {
      "text/html": [
       "<style scoped>\n",
       "  .table-result-container {\n",
       "    max-height: 300px;\n",
       "    overflow: auto;\n",
       "  }\n",
       "  table, th, td {\n",
       "    border: 1px solid black;\n",
       "    border-collapse: collapse;\n",
       "  }\n",
       "  th, td {\n",
       "    padding: 5px;\n",
       "  }\n",
       "  th {\n",
       "    text-align: left;\n",
       "  }\n",
       "</style><div class='table-result-container'><table class='table-result'><thead style='background-color: white'><tr><th>age_group</th><th>median_follower_count</th></tr></thead><tbody><tr><td>18-24</td><td>211000</td></tr><tr><td>25-35</td><td>79000</td></tr><tr><td>36-50</td><td>0</td></tr></tbody></table></div>"
      ]
     },
     "metadata": {
      "application/vnd.databricks.v1+output": {
       "addedWidgets": {},
       "aggData": [],
       "aggError": "",
       "aggOverflow": false,
       "aggSchema": [],
       "aggSeriesLimitReached": false,
       "aggType": "",
       "arguments": {},
       "columnCustomDisplayInfos": {},
       "data": [
        [
         "18-24",
         211000
        ],
        [
         "25-35",
         79000
        ],
        [
         "36-50",
         0
        ]
       ],
       "datasetInfos": [],
       "dbfsResultPath": null,
       "isJsonSchema": true,
       "metadata": {},
       "overflow": false,
       "plotOptions": {
        "customPlotOptions": {},
        "displayType": "table",
        "pivotAggregation": null,
        "pivotColumns": null,
        "xColumns": null,
        "yColumns": null
       },
       "removedWidgets": [],
       "schema": [
        {
         "metadata": "{}",
         "name": "age_group",
         "type": "\"string\""
        },
        {
         "metadata": "{}",
         "name": "median_follower_count",
         "type": "\"integer\""
        }
       ],
       "type": "table"
      }
     },
     "output_type": "display_data"
    }
   ],
   "source": [
    "# Median follower count for each age group\n",
    "joined_pin_user_df = pin_df.join(user_df, pin_df.ind == user_df.ind, \"inner\")\n",
    "follower_age_df = joined_pin_user_df.select(\"follower_count\", \"age\")\n",
    "follower_age_df = create_age_groups(follower_age_df)\n",
    "\n",
    "age_group_median_df = follower_age_df.groupBy(\"age_group\").agg(expr(\"percentile_approx(follower_count, 0.5)\").alias(\"median_follower_count\"))\n",
    "age_group_median_df = age_group_median_df.orderBy(col(\"age_group\").asc())\n",
    "\n",
    "display(age_group_median_df) "
   ]
  },
  {
   "cell_type": "code",
   "execution_count": 0,
   "metadata": {
    "application/vnd.databricks.v1+cell": {
     "cellMetadata": {
      "byteLimit": 2048000,
      "rowLimit": 10000
     },
     "inputWidgets": {},
     "nuid": "52ca6d87-18ed-4469-bf71-56aff5004144",
     "showTitle": false,
     "title": ""
    }
   },
   "outputs": [
    {
     "output_type": "display_data",
     "data": {
      "text/html": [
       "<style scoped>\n",
       "  .table-result-container {\n",
       "    max-height: 300px;\n",
       "    overflow: auto;\n",
       "  }\n",
       "  table, th, td {\n",
       "    border: 1px solid black;\n",
       "    border-collapse: collapse;\n",
       "  }\n",
       "  th, td {\n",
       "    padding: 5px;\n",
       "  }\n",
       "  th {\n",
       "    text-align: left;\n",
       "  }\n",
       "</style><div class='table-result-container'><table class='table-result'><thead style='background-color: white'><tr><th>post_year</th><th>number_users_joined</th></tr></thead><tbody><tr><td>2015</td><td>23</td></tr><tr><td>2016</td><td>12</td></tr><tr><td>2017</td><td>10</td></tr></tbody></table></div>"
      ]
     },
     "metadata": {
      "application/vnd.databricks.v1+output": {
       "addedWidgets": {},
       "aggData": [],
       "aggError": "",
       "aggOverflow": false,
       "aggSchema": [],
       "aggSeriesLimitReached": false,
       "aggType": "",
       "arguments": {},
       "columnCustomDisplayInfos": {},
       "data": [
        [
         2015,
         23
        ],
        [
         2016,
         12
        ],
        [
         2017,
         10
        ]
       ],
       "datasetInfos": [],
       "dbfsResultPath": null,
       "isJsonSchema": true,
       "metadata": {},
       "overflow": false,
       "plotOptions": {
        "customPlotOptions": {},
        "displayType": "table",
        "pivotAggregation": null,
        "pivotColumns": null,
        "xColumns": null,
        "yColumns": null
       },
       "removedWidgets": [],
       "schema": [
        {
         "metadata": "{}",
         "name": "post_year",
         "type": "\"integer\""
        },
        {
         "metadata": "{}",
         "name": "number_users_joined",
         "type": "\"long\""
        }
       ],
       "type": "table"
      }
     },
     "output_type": "display_data"
    }
   ],
   "source": [
    "#Number of users joined each year\n",
    "users_joined_2015_2020 = create_post_year(user_df, \"date_joined\")\n",
    "users_joined_2015_2020 = users_joined_2015_2020.groupBy(\"post_year\").count().withColumnRenamed(\"count\",\"number_users_joined\")\n",
    "users_joined_2015_2020 = users_joined_2015_2020.orderBy(col(\"post_year\").asc())\n",
    "\n",
    "display(users_joined_2015_2020)"
   ]
  },
  {
   "cell_type": "code",
   "execution_count": 0,
   "metadata": {
    "application/vnd.databricks.v1+cell": {
     "cellMetadata": {
      "byteLimit": 2048000,
      "rowLimit": 10000
     },
     "inputWidgets": {},
     "nuid": "9734df42-717c-48bf-ac11-b32d764fa375",
     "showTitle": false,
     "title": ""
    }
   },
   "outputs": [
    {
     "output_type": "display_data",
     "data": {
      "text/html": [
       "<style scoped>\n",
       "  .table-result-container {\n",
       "    max-height: 300px;\n",
       "    overflow: auto;\n",
       "  }\n",
       "  table, th, td {\n",
       "    border: 1px solid black;\n",
       "    border-collapse: collapse;\n",
       "  }\n",
       "  th, td {\n",
       "    padding: 5px;\n",
       "  }\n",
       "  th {\n",
       "    text-align: left;\n",
       "  }\n",
       "</style><div class='table-result-container'><table class='table-result'><thead style='background-color: white'><tr><th>post_year</th><th>median_follower_count</th></tr></thead><tbody><tr><td>2015</td><td>25000</td></tr><tr><td>2016</td><td>124000</td></tr><tr><td>2017</td><td>79000</td></tr></tbody></table></div>"
      ]
     },
     "metadata": {
      "application/vnd.databricks.v1+output": {
       "addedWidgets": {},
       "aggData": [],
       "aggError": "",
       "aggOverflow": false,
       "aggSchema": [],
       "aggSeriesLimitReached": false,
       "aggType": "",
       "arguments": {},
       "columnCustomDisplayInfos": {},
       "data": [
        [
         2015,
         25000
        ],
        [
         2016,
         124000
        ],
        [
         2017,
         79000
        ]
       ],
       "datasetInfos": [],
       "dbfsResultPath": null,
       "isJsonSchema": true,
       "metadata": {},
       "overflow": false,
       "plotOptions": {
        "customPlotOptions": {},
        "displayType": "table",
        "pivotAggregation": null,
        "pivotColumns": null,
        "xColumns": null,
        "yColumns": null
       },
       "removedWidgets": [],
       "schema": [
        {
         "metadata": "{}",
         "name": "post_year",
         "type": "\"integer\""
        },
        {
         "metadata": "{}",
         "name": "median_follower_count",
         "type": "\"integer\""
        }
       ],
       "type": "table"
      }
     },
     "output_type": "display_data"
    }
   ],
   "source": [
    "# Median follower count for users based on their join year\n",
    "pin_user_df = join_df(pin_df, user_df)\n",
    "post_date_follower_df = pin_user_df.select(\"date_joined\", \"follower_count\")\n",
    "post_year_follower_df = create_post_year(post_date_follower_df, \"date_joined\")\n",
    "\n",
    "year_follower_median_df = post_year_follower_df.groupBy(\"post_year\").agg(expr(\"percentile_approx(follower_count, 0.5)\").alias(\"median_follower_count\"))\n",
    "\n",
    "display(year_follower_median_df)"
   ]
  },
  {
   "cell_type": "code",
   "execution_count": 0,
   "metadata": {
    "application/vnd.databricks.v1+cell": {
     "cellMetadata": {
      "byteLimit": 2048000,
      "rowLimit": 10000
     },
     "inputWidgets": {},
     "nuid": "f27857f5-2fc1-41c2-974a-4146fb9a381b",
     "showTitle": false,
     "title": ""
    }
   },
   "outputs": [
    {
     "output_type": "display_data",
     "data": {
      "text/html": [
       "<style scoped>\n",
       "  .table-result-container {\n",
       "    max-height: 300px;\n",
       "    overflow: auto;\n",
       "  }\n",
       "  table, th, td {\n",
       "    border: 1px solid black;\n",
       "    border-collapse: collapse;\n",
       "  }\n",
       "  th, td {\n",
       "    padding: 5px;\n",
       "  }\n",
       "  th {\n",
       "    text-align: left;\n",
       "  }\n",
       "</style><div class='table-result-container'><table class='table-result'><thead style='background-color: white'><tr><th>age_group</th><th>post_year</th><th>median_follower_count</th></tr></thead><tbody><tr><td>25-35</td><td>2017</td><td>79000</td></tr><tr><td>18-24</td><td>2015</td><td>211000</td></tr><tr><td>25-35</td><td>2016</td><td>124000</td></tr><tr><td>36-50</td><td>2015</td><td>0</td></tr><tr><td>25-35</td><td>2015</td><td>51000</td></tr><tr><td>36-50</td><td>2017</td><td>6000</td></tr><tr><td>18-24</td><td>2017</td><td>940</td></tr></tbody></table></div>"
      ]
     },
     "metadata": {
      "application/vnd.databricks.v1+output": {
       "addedWidgets": {},
       "aggData": [],
       "aggError": "",
       "aggOverflow": false,
       "aggSchema": [],
       "aggSeriesLimitReached": false,
       "aggType": "",
       "arguments": {},
       "columnCustomDisplayInfos": {},
       "data": [
        [
         "25-35",
         2017,
         79000
        ],
        [
         "18-24",
         2015,
         211000
        ],
        [
         "25-35",
         2016,
         124000
        ],
        [
         "36-50",
         2015,
         0
        ],
        [
         "25-35",
         2015,
         51000
        ],
        [
         "36-50",
         2017,
         6000
        ],
        [
         "18-24",
         2017,
         940
        ]
       ],
       "datasetInfos": [],
       "dbfsResultPath": null,
       "isJsonSchema": true,
       "metadata": {},
       "overflow": false,
       "plotOptions": {
        "customPlotOptions": {},
        "displayType": "table",
        "pivotAggregation": null,
        "pivotColumns": null,
        "xColumns": null,
        "yColumns": null
       },
       "removedWidgets": [],
       "schema": [
        {
         "metadata": "{}",
         "name": "age_group",
         "type": "\"string\""
        },
        {
         "metadata": "{}",
         "name": "post_year",
         "type": "\"integer\""
        },
        {
         "metadata": "{}",
         "name": "median_follower_count",
         "type": "\"integer\""
        }
       ],
       "type": "table"
      }
     },
     "output_type": "display_data"
    }
   ],
   "source": [
    "#Median follower count based on age group and join year\n",
    "pin_user_df = join_df(pin_df, user_df)\n",
    "follower_age_date_df = joined_pin_user_df.select(\"follower_count\", \"age\", \"date_joined\")\n",
    "follower_age_date_df = create_age_groups(follower_age_date_df)\n",
    "follower_age_year_df = follower_age_date_df.drop(\"age\")\n",
    "follower_age_year_df = create_post_year(follower_age_date_df, \"date_joined\")\n",
    "\n",
    "follower_age_year_median_df = follower_age_year_df.groupBy(\"age_group\", \"post_year\").agg(expr(\"percentile_approx(follower_count, 0.5)\").alias(\"median_follower_count\"))\n",
    "\n",
    "display(follower_age_year_median_df)\n"
   ]
  },
  {
   "cell_type": "code",
   "execution_count": 0,
   "metadata": {
    "application/vnd.databricks.v1+cell": {
     "cellMetadata": {},
     "inputWidgets": {},
     "nuid": "47b7c68c-cc70-4dd7-b683-271c67e90506",
     "showTitle": false,
     "title": ""
    }
   },
   "outputs": [],
   "source": []
  }
 ],
 "metadata": {
  "application/vnd.databricks.v1+notebook": {
   "dashboards": [],
   "language": "python",
   "notebookMetadata": {
    "pythonIndentUnit": 4
   },
   "notebookName": "batch_transformation_and_queries",
   "widgets": {}
  }
 },
 "nbformat": 4,
 "nbformat_minor": 0
}
