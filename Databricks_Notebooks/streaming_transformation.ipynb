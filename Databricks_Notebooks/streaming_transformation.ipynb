{
 "cells": [
  {
   "cell_type": "code",
   "execution_count": 0,
   "metadata": {
    "application/vnd.databricks.v1+cell": {
     "cellMetadata": {
      "byteLimit": 2048000,
      "rowLimit": 10000
     },
     "inputWidgets": {},
     "nuid": "8aa93cd6-875d-4757-8a32-2f4ec9687b07",
     "showTitle": false,
     "title": ""
    }
   },
   "outputs": [
    {
     "output_type": "display_data",
     "data": {
      "text/html": [
       "<style scoped>\n",
       "  .ansiout {\n",
       "    display: block;\n",
       "    unicode-bidi: embed;\n",
       "    white-space: pre-wrap;\n",
       "    word-wrap: break-word;\n",
       "    word-break: break-all;\n",
       "    font-family: \"Source Code Pro\", \"Menlo\", monospace;;\n",
       "    font-size: 13px;\n",
       "    color: #555;\n",
       "    margin-left: 4px;\n",
       "    line-height: 19px;\n",
       "  }\n",
       "</style>\n",
       "<div class=\"ansiout\">Out[1]: [FileInfo(path=&#39;dbfs:/FileStore/tables/authentication_credentials.csv&#39;, name=&#39;authentication_credentials.csv&#39;, size=202, modificationTime=1674066475000)]</div>"
      ]
     },
     "metadata": {
      "application/vnd.databricks.v1+output": {
       "addedWidgets": {},
       "arguments": {},
       "data": "<div class=\"ansiout\">Out[1]: [FileInfo(path=&#39;dbfs:/FileStore/tables/authentication_credentials.csv&#39;, name=&#39;authentication_credentials.csv&#39;, size=202, modificationTime=1674066475000)]</div>",
       "datasetInfos": [],
       "metadata": {},
       "removedWidgets": [],
       "type": "html"
      }
     },
     "output_type": "display_data"
    }
   ],
   "source": [
    "dbutils.fs.ls(\"/FileStore/tables\")"
   ]
  },
  {
   "cell_type": "code",
   "execution_count": 0,
   "metadata": {
    "application/vnd.databricks.v1+cell": {
     "cellMetadata": {
      "byteLimit": 2048000,
      "rowLimit": 10000
     },
     "inputWidgets": {},
     "nuid": "685d8a76-44dc-427d-972d-da3a45fdb240",
     "showTitle": false,
     "title": ""
    }
   },
   "outputs": [
    {
     "output_type": "display_data",
     "data": {
      "text/html": [
       "<style scoped>\n",
       "  .ansiout {\n",
       "    display: block;\n",
       "    unicode-bidi: embed;\n",
       "    white-space: pre-wrap;\n",
       "    word-wrap: break-word;\n",
       "    word-break: break-all;\n",
       "    font-family: \"Source Code Pro\", \"Menlo\", monospace;;\n",
       "    font-size: 13px;\n",
       "    color: #555;\n",
       "    margin-left: 4px;\n",
       "    line-height: 19px;\n",
       "  }\n",
       "</style>\n",
       "<div class=\"ansiout\"></div>"
      ]
     },
     "metadata": {
      "application/vnd.databricks.v1+output": {
       "addedWidgets": {},
       "arguments": {},
       "data": "<div class=\"ansiout\"></div>",
       "datasetInfos": [],
       "metadata": {},
       "removedWidgets": [],
       "type": "html"
      }
     },
     "output_type": "display_data"
    }
   ],
   "source": [
    "from pyspark.sql.functions import *\n",
    "import urllib\n",
    "\n",
    "file_type = \"csv\"\n",
    "first_row_is_header = \"true\"\n",
    "delimiter = \",\"\n",
    "aws_keys_df = spark.read.format(file_type)\\\n",
    ".option(\"header\", first_row_is_header)\\\n",
    ".option(\"sep\", delimiter)\\\n",
    ".load(\"/FileStore/tables/authentication_credentials.csv\")\n",
    "\n",
    "# Get the AWS access key and secret key from the spark dataframe\n",
    "ACCESS_KEY = aws_keys_df.where(col('User name')=='databricks-user').select('Access key ID').collect()[0]['Access key ID']\n",
    "SECRET_KEY = aws_keys_df.where(col('User name')=='databricks-user').select('Secret access key').collect()[0]['Secret access key']\n",
    "# Encode the secret key\n",
    "ENCODED_SECRET_KEY = urllib.parse.quote(string=SECRET_KEY, safe=\"\")"
   ]
  },
  {
   "cell_type": "code",
   "execution_count": 0,
   "metadata": {
    "application/vnd.databricks.v1+cell": {
     "cellMetadata": {
      "byteLimit": 2048000,
      "rowLimit": 10000
     },
     "inputWidgets": {},
     "nuid": "7acaca1d-8648-4e27-88c0-03879eeb8b8e",
     "showTitle": false,
     "title": ""
    }
   },
   "outputs": [
    {
     "output_type": "display_data",
     "data": {
      "text/html": [
       "<style scoped>\n",
       "  .table-result-container {\n",
       "    max-height: 300px;\n",
       "    overflow: auto;\n",
       "  }\n",
       "  table, th, td {\n",
       "    border: 1px solid black;\n",
       "    border-collapse: collapse;\n",
       "  }\n",
       "  th, td {\n",
       "    padding: 5px;\n",
       "  }\n",
       "  th {\n",
       "    text-align: left;\n",
       "  }\n",
       "</style><div class='table-result-container'><table class='table-result'><thead style='background-color: white'><tr><th>ind</th><th>unique_id</th><th>title</th><th>description</th><th>follower_count</th><th>poster_name</th><th>tag_list</th><th>is_image_or_video</th><th>image_src</th><th>save_location</th><th>category</th></tr></thead><tbody><tr><td>2386</td><td>38c3e021-527e-4da6-8d43-c0aa07500d12</td><td>Christmas Five Senses Book</td><td>The sights, sounds and smells of Christmas stay with many of us for a lifetime. Perhaps cinnamon in your nasal cavity automatically takes you back to Grandma’s kitchen. Or at th… </td><td>79000</td><td>Life Over C's</td><td>Christmas Books,Christmas Themes,Kids Christmas,Xmas,Christmas Projects,Preschool Christmas Crafts,Christmas Activities,Kindergarten Christmas,Winter Activities</td><td>2386</td><td>2386</td><td>/data/christmas</td><td>christmas</td></tr><tr><td>2386</td><td>38c3e021-527e-4da6-8d43-c0aa07500d12</td><td>Christmas Five Senses Book</td><td>The sights, sounds and smells of Christmas stay with many of us for a lifetime. Perhaps cinnamon in your nasal cavity automatically takes you back to Grandma’s kitchen. Or at th… </td><td>79000</td><td>Life Over C's</td><td>Christmas Books,Christmas Themes,Kids Christmas,Xmas,Christmas Projects,Preschool Christmas Crafts,Christmas Activities,Kindergarten Christmas,Winter Activities</td><td>2386</td><td>2386</td><td>/data/christmas</td><td>christmas</td></tr><tr><td>2386</td><td>38c3e021-527e-4da6-8d43-c0aa07500d12</td><td>Christmas Five Senses Book</td><td>The sights, sounds and smells of Christmas stay with many of us for a lifetime. Perhaps cinnamon in your nasal cavity automatically takes you back to Grandma’s kitchen. Or at th… </td><td>79000</td><td>Life Over C's</td><td>Christmas Books,Christmas Themes,Kids Christmas,Xmas,Christmas Projects,Preschool Christmas Crafts,Christmas Activities,Kindergarten Christmas,Winter Activities</td><td>2386</td><td>2386</td><td>/data/christmas</td><td>christmas</td></tr><tr><td>2386</td><td>38c3e021-527e-4da6-8d43-c0aa07500d12</td><td>Christmas Five Senses Book</td><td>The sights, sounds and smells of Christmas stay with many of us for a lifetime. Perhaps cinnamon in your nasal cavity automatically takes you back to Grandma’s kitchen. Or at th… </td><td>79000</td><td>Life Over C's</td><td>Christmas Books,Christmas Themes,Kids Christmas,Xmas,Christmas Projects,Preschool Christmas Crafts,Christmas Activities,Kindergarten Christmas,Winter Activities</td><td>2386</td><td>2386</td><td>/data/christmas</td><td>christmas</td></tr><tr><td>2386</td><td>38c3e021-527e-4da6-8d43-c0aa07500d12</td><td>Christmas Five Senses Book</td><td>The sights, sounds and smells of Christmas stay with many of us for a lifetime. Perhaps cinnamon in your nasal cavity automatically takes you back to Grandma’s kitchen. Or at th… </td><td>79000</td><td>Life Over C's</td><td>Christmas Books,Christmas Themes,Kids Christmas,Xmas,Christmas Projects,Preschool Christmas Crafts,Christmas Activities,Kindergarten Christmas,Winter Activities</td><td>2386</td><td>2386</td><td>/data/christmas</td><td>christmas</td></tr><tr><td>2386</td><td>38c3e021-527e-4da6-8d43-c0aa07500d12</td><td>Christmas Five Senses Book</td><td>The sights, sounds and smells of Christmas stay with many of us for a lifetime. Perhaps cinnamon in your nasal cavity automatically takes you back to Grandma’s kitchen. Or at th… </td><td>79000</td><td>Life Over C's</td><td>Christmas Books,Christmas Themes,Kids Christmas,Xmas,Christmas Projects,Preschool Christmas Crafts,Christmas Activities,Kindergarten Christmas,Winter Activities</td><td>2386</td><td>2386</td><td>/data/christmas</td><td>christmas</td></tr><tr><td>7528</td><td>fbe53c66-3442-4773-b19e-d3ec6f54dddf</td><td>No Title Data Available</td><td>No description available Story format</td><td>null</td><td>User Info Error</td><td>N,o, ,T,a,g,s, ,A,v,a,i,l,a,b,l,e</td><td>7528</td><td>7528</td><td>/data/mens-fashion</td><td>mens-fashion</td></tr><tr><td>2863</td><td>9bf39437-42a6-4f02-99a0-9a0383d8cd70</td><td>25 Super Fun Summer Crafts for Kids - Of Life and Lisa</td><td>Keep the kids busy this summer with these easy diy crafts and projects. Creative and…</td><td>124000</td><td>Of Life & Lisa | Lifestyle Blog</td><td>Summer Crafts For Kids,Fun Crafts For Kids,Summer Kids,Toddler Crafts,Crafts To Do,Diy For Kids,Summer Snow,Diys For Summer,Craft Ideas For Girls</td><td>2863</td><td>2863</td><td>/data/diy-and-crafts</td><td>diy-and-crafts</td></tr><tr><td>5730</td><td>1e1f0c8b-9fcf-460b-9154-c775827206eb</td><td>Island Oasis Coupon Organizer</td><td>Description Coupon Organizer in a fun colorful fabric -island oasis, Great Size for the \"basic\" couponer - holds up to 500 coupons with ease, and is made long enough so that you… </td><td>0</td><td>Consuelo Aguirre</td><td>Grocery Items,Grocery Coupons,Care Organization,Coupon Organization,Extreme Couponing,Couponing 101,Life Binder,Save My Money,Love Coupons</td><td>5730</td><td>5730</td><td>/data/finance</td><td>finance</td></tr><tr><td>8304</td><td>5b6d0913-25e4-43ab-839d-85d5516f78a4</td><td>The #1 Reason You’re Not His Priority Anymore - Matthew Coast</td><td>#lovequotes #matchmaker #matchmadeinheaven #loveyourself #respectyourself</td><td>51000</td><td>Commitment Connection</td><td>Wise Quotes,Quotable Quotes,Words Quotes,Wise Words,Quotes To Live By,Great Quotes,Motivational Quotes,Inspirational Quotes,Funny Quotes</td><td>8304</td><td>8304</td><td>/data/quotes</td><td>quotes</td></tr><tr><td>8731</td><td>ea760f71-febf-4023-b592-d17396659039</td><td>20 Koi Fish Tattoos For Lucky Men</td><td>Koi fish tattoos are a popular choice for men who want to make a statement, thanks to their rich symbolism and bold design.</td><td>211000</td><td>TheTrendSpotter</td><td>Dr Tattoo,Wörter Tattoos,Pisces Tattoos,Tatoo Art,Dream Tattoos,Dope Tattoos,Mini Tattoos,Finger Tattoos,Body Art Tattoos</td><td>8731</td><td>8731</td><td>/data/tattoos</td><td>tattoos</td></tr><tr><td>1313</td><td>44662045-e891-4821-8a19-ebe7eedd371a</td><td>Liquid Lash Extensions Mascara</td><td>Instantly create the look of lash extensions with this award-winning, best-selling mascara that won't clump, flake or smudge. Available in 3 shades!</td><td>43000</td><td>Thrive Causemetics</td><td>N,o, ,T,a,g,s, ,A,v,a,i,l,a,b,l,e</td><td>1313</td><td>1313</td><td>/data/beauty</td><td>beauty</td></tr><tr><td>4315</td><td>21b59ba9-829d-4c33-8c27-4cd4c56d26b8</td><td>Podcasts for Teachers or Parents of Teenagers</td><td>Podcasts for Teachers or Parents of Teenagers: Teaching teens middle school and high school can feel joyful and rewarding most days, but can also frustrate you with one challeng… </td><td>25000</td><td>Math Giraffe</td><td>Middle School Classroom,High School Students,High School Teachers,Middle School Tips,High School Counseling,Ela Classroom,High School Science,Future Classroom,Google Classroom</td><td>4315</td><td>4315</td><td>/data/education</td><td>education</td></tr><tr><td>10794</td><td>c4bd2577-a7bb-4409-bb7a-17d5ed7e1cf1</td><td>TireBuyer</td><td>Nissan GT-R. Sick.</td><td>437</td><td>Ray Uyemura</td><td>Lowrider,Old Vintage Cars,Antique Cars,Austin Martin,Nissan Gtr Black,Jaguar,1959 Cadillac,Cadillac Ct6,Old School Cars</td><td>10794</td><td>10794</td><td>/data/vehicles</td><td>vehicles</td></tr><tr><td>5494</td><td>8fb2af68-543b-4639-8119-de33d28706ed</td><td>Dave Ramsey's 7 Baby Steps: What Are They And Will They Work For You</td><td>If you love budgeting, make sure to give Dave Ramsey's 7 Baby Steps a try. Follow these steps to begin your debt snowball, build an emergency fund, invest and reach riches. I ca… </td><td>26000</td><td>Living Low Key | Save Money, Make Money, & Frugal Living</td><td>Financial Peace,Financial Tips,Saving Money Quotes,Total Money Makeover,Budgeting Finances,Money Management,Wealth Management,Personal Finance,Making Ideas</td><td>5494</td><td>5494</td><td>/data/finance</td><td>finance</td></tr><tr><td>5069</td><td>b75b6f87-deb3-444f-b29e-ce9161b2df49</td><td>The Vault: Curated & Refined Wedding Inspiration</td><td>Sacramento California Wedding 2 Chic Events & Design Jodi Yorston Photography Wilson Vineyards Barn Miosa Couture Yellow Barn Vineyard Outdoor Candles DIY</td><td>null</td><td>Style Me Pretty</td><td>60th Anniversary Parties,Anniversary Decorations,Golden Anniversary,25th Wedding Anniversary,Anniversary Pictures,Anniversary Ideas,Birthday Decorations,Event Planning Design,Event Design</td><td>5069</td><td>5069</td><td>/data/event-planning</td><td>event-planning</td></tr><tr><td>2923</td><td>52fa3af5-24a4-4ccb-8f17-9c3eb12327ee</td><td>UFO Paper Plate Craft</td><td>A fun space activity for kids. Preshoolers and kindergartners will love making their own alien spacecraft!</td><td>192000</td><td>The Crafting Chicks</td><td>Paper Plate Crafts For Kids,Fun Crafts For Kids,Summer Crafts,Toddler Crafts,Art For Kids,Outer Space Crafts For Kids,Kid Crafts,Space Kids,Back To School Crafts For Kids</td><td>2923</td><td>2923</td><td>/data/diy-and-crafts</td><td>diy-and-crafts</td></tr><tr><td>3089</td><td>88f9227e-88d0-4b1c-b0be-bcfc3028b8e2</td><td>No Title Data Available</td><td>No description available Story format</td><td>null</td><td>User Info Error</td><td>N,o, ,T,a,g,s, ,A,v,a,i,l,a,b,l,e</td><td>3089</td><td>3089</td><td>/data/diy-and-crafts</td><td>diy-and-crafts</td></tr><tr><td>6063</td><td>60693727-4927-4bd6-a8c5-096a392d63e6</td><td>41 Gorgeous Fall Decor Ideas For Your Home - Chaylor & Mads</td><td>Beautiful and easy ways to update every room in your home with fall decor. Plus, my favorite finds in fall decor for 2020!</td><td>92000</td><td>Kristen | Lifestyle, Mom Tips & Teacher Stuff Blog</td><td>Fall Home Decor,Autumn Home,Fall Decor Outdoor,Front Porch Fall Decor,Home Decor Ideas,Porch Ideas For Fall,Fall Outdoor Decorating,Decorating Ideas For Fall,Fall Front Doors</td><td>6063</td><td>6063</td><td>/data/home-decor</td><td>home-decor</td></tr><tr><td>3454</td><td>46bd3f86-b09d-4e29-9033-7ff2df595e51</td><td>What can you use to color resin?</td><td>HELPFUL RESOURCES – Check out my resin colorants resources page here with links to all the products mentioned in this article (and more). Let me know if you have any that you lo… </td><td>6000</td><td>Mixed Media Crafts</td><td>Epoxy Resin Art,Diy Resin Art,Diy Resin Crafts,Resin Molds,Ice Resin,Resin Pour,Diy Epoxy,Diy Resin Painting,Diy Resin Dice</td><td>3454</td><td>3454</td><td>/data/diy-and-crafts</td><td>diy-and-crafts</td></tr><tr><td>7554</td><td>c6fa12f4-0d4a-4b07-a335-5bf9f37f8281</td><td>Craig Style</td><td>imgentleboss: “ - More about men’s fashion at @Gentleboss - GB’s Facebook - ”</td><td>940</td><td>iElylike ..✿◕‿◕✿ஐ✿◕‿◕✿</td><td>Mens Fashion Blog,Look Fashion,Autumn Fashion,Fashion News,Fashion Sale,80s Fashion,Paris Fashion,Runway Fashion,Fashion Trends</td><td>7554</td><td>7554</td><td>/data/mens-fashion</td><td>mens-fashion</td></tr><tr><td>6145</td><td>82e13a07-db99-43a3-b1c0-89a4b75821da</td><td>HOLIDAY MANTLE DECOR - @AMAZON & @TARGET FINDS</td><td>Holiday mantle decor, Christmas decor, metallic mercury glass style Christmas trees, eucalyptus vine, evergreen pine branches, white neutral holiday decor, cozy mantle for the h… </td><td>83000</td><td>Stylin by Aylin</td><td>Winter Home Decor,Christmas Living Room Decor,Living Room Decor Cozy,Christmas Decor,Cozy Fireplace,Rustic Fireplace Decor,Fireplace Decorations,Rustic Room,House Decorations</td><td>6145</td><td>6145</td><td>/data/home-decor</td><td>home-decor</td></tr><tr><td>10625</td><td>d31885b7-742a-4e2a-bbb7-ac5f9d334340</td><td>Jaguar Type E</td><td>1937 Jaguar SS100 - 2 1/2 Litre Roadster, one of the most sought after pre-war sports cars</td><td>8000</td><td>hobbyDB</td><td>Jaguar Type E,Jaguar Xk,Jaguar Cars,Jaguar Roadster,Jaguar Sport,Retro Cars,Vintage Cars,Antique Cars,British Sports Cars</td><td>10625</td><td>10625</td><td>/data/vehicles</td><td>vehicles</td></tr><tr><td>2959</td><td>439cac4b-18e8-4aaa-88c5-edb26a701111</td><td>The Cutest Toilet Paper Crafts</td><td>One thing I love about Crafts is how the evolve! These toilet paper rolls are adorable and modern. I love that something as simple as a recycled toilet paper roll can be taken t… </td><td>502000</td><td>CraftGossip.com</td><td>Toilet Paper Roll Crafts,Cardboard Crafts,Diy Paper,Paper Crafting,Toilet Paper Rolls,Cardboard Playhouse,Paper Art,Kids Crafts,Toddler Crafts</td><td>2959</td><td>2959</td><td>/data/diy-and-crafts</td><td>diy-and-crafts</td></tr><tr><td>9875</td><td>782dcbad-ff91-40a6-ba60-216efe29adb7</td><td>European Bucket List: 35 Things NOT To Miss When Traveling Europe</td><td>35 European bucket list destinations for any traveler heading to Europe. From Cinque Terre, Italy to Iceland - there are so many amazing sites to see in Europe.</td><td>28000</td><td>Nicki </td><td>Backpacking Europe,Europe Travel Guide,Travel Guides,Travel Packing,Traveling Europe,Travelling,Travel Backpack,Budget Travel,2 Week Europe Itinerary</td><td>9875</td><td>9875</td><td>/data/travel</td><td>travel</td></tr><tr><td>2418</td><td>da8745a6-5160-46c4-877d-181d50a729fd</td><td>100 DIY Christmas Centerpieces You'll Love To Decorate Your Home With For The Christmas Season - Hike n Dip</td><td>Here are the best DIY Christmas Centerpieces ideas perfect for your Christmas & holiday season home decor. From Christmas Vignettes to Table Centerpieces.</td><td>500000</td><td>HikenDip</td><td>Farmhouse Christmas Decor,Rustic Christmas,Christmas Time,Vintage Christmas,Xmas,Primitive Christmas Crafts,Christmas Vignette,Indoor Christmas Decorations,Diy Christmas Ornaments</td><td>2418</td><td>2418</td><td>/data/christmas</td><td>christmas</td></tr><tr><td>3156</td><td>fa6e31a4-18c2-4eca-a6d8-e903eee2c2a4</td><td>Handprint Reindeer Ornaments - Crafty Morning</td><td>This post may contain affiliate links, read our Disclosure Policy for more information. As an Amazon Associate I earn from qualifying purchases, thank you! Make some cute handpr… </td><td>892000</td><td>Michelle {CraftyMorning.com}</td><td>Christmas Gifts For Parents,Christmas Decorations For Kids,Christmas Crafts For Toddlers,Preschool Christmas,Christmas Crafts For Gifts,Christmas Activities,Toddler Crafts,Kids Christmas,Christmas Feeling</td><td>3156</td><td>3156</td><td>/data/diy-and-crafts</td><td>diy-and-crafts</td></tr></tbody></table></div>"
      ]
     },
     "metadata": {
      "application/vnd.databricks.v1+output": {
       "addedWidgets": {},
       "aggData": [],
       "aggError": "",
       "aggOverflow": false,
       "aggSchema": [],
       "aggSeriesLimitReached": false,
       "aggType": "",
       "arguments": {},
       "columnCustomDisplayInfos": {},
       "data": [
        [
         "2386",
         "38c3e021-527e-4da6-8d43-c0aa07500d12",
         "Christmas Five Senses Book",
         "The sights, sounds and smells of Christmas stay with many of us for a lifetime. Perhaps cinnamon in your nasal cavity automatically takes you back to Grandma’s kitchen. Or at th… ",
         79000,
         "Life Over C's",
         "Christmas Books,Christmas Themes,Kids Christmas,Xmas,Christmas Projects,Preschool Christmas Crafts,Christmas Activities,Kindergarten Christmas,Winter Activities",
         "2386",
         "2386",
         "/data/christmas",
         "christmas"
        ],
        [
         "2386",
         "38c3e021-527e-4da6-8d43-c0aa07500d12",
         "Christmas Five Senses Book",
         "The sights, sounds and smells of Christmas stay with many of us for a lifetime. Perhaps cinnamon in your nasal cavity automatically takes you back to Grandma’s kitchen. Or at th… ",
         79000,
         "Life Over C's",
         "Christmas Books,Christmas Themes,Kids Christmas,Xmas,Christmas Projects,Preschool Christmas Crafts,Christmas Activities,Kindergarten Christmas,Winter Activities",
         "2386",
         "2386",
         "/data/christmas",
         "christmas"
        ],
        [
         "2386",
         "38c3e021-527e-4da6-8d43-c0aa07500d12",
         "Christmas Five Senses Book",
         "The sights, sounds and smells of Christmas stay with many of us for a lifetime. Perhaps cinnamon in your nasal cavity automatically takes you back to Grandma’s kitchen. Or at th… ",
         79000,
         "Life Over C's",
         "Christmas Books,Christmas Themes,Kids Christmas,Xmas,Christmas Projects,Preschool Christmas Crafts,Christmas Activities,Kindergarten Christmas,Winter Activities",
         "2386",
         "2386",
         "/data/christmas",
         "christmas"
        ],
        [
         "2386",
         "38c3e021-527e-4da6-8d43-c0aa07500d12",
         "Christmas Five Senses Book",
         "The sights, sounds and smells of Christmas stay with many of us for a lifetime. Perhaps cinnamon in your nasal cavity automatically takes you back to Grandma’s kitchen. Or at th… ",
         79000,
         "Life Over C's",
         "Christmas Books,Christmas Themes,Kids Christmas,Xmas,Christmas Projects,Preschool Christmas Crafts,Christmas Activities,Kindergarten Christmas,Winter Activities",
         "2386",
         "2386",
         "/data/christmas",
         "christmas"
        ],
        [
         "2386",
         "38c3e021-527e-4da6-8d43-c0aa07500d12",
         "Christmas Five Senses Book",
         "The sights, sounds and smells of Christmas stay with many of us for a lifetime. Perhaps cinnamon in your nasal cavity automatically takes you back to Grandma’s kitchen. Or at th… ",
         79000,
         "Life Over C's",
         "Christmas Books,Christmas Themes,Kids Christmas,Xmas,Christmas Projects,Preschool Christmas Crafts,Christmas Activities,Kindergarten Christmas,Winter Activities",
         "2386",
         "2386",
         "/data/christmas",
         "christmas"
        ],
        [
         "2386",
         "38c3e021-527e-4da6-8d43-c0aa07500d12",
         "Christmas Five Senses Book",
         "The sights, sounds and smells of Christmas stay with many of us for a lifetime. Perhaps cinnamon in your nasal cavity automatically takes you back to Grandma’s kitchen. Or at th… ",
         79000,
         "Life Over C's",
         "Christmas Books,Christmas Themes,Kids Christmas,Xmas,Christmas Projects,Preschool Christmas Crafts,Christmas Activities,Kindergarten Christmas,Winter Activities",
         "2386",
         "2386",
         "/data/christmas",
         "christmas"
        ],
        [
         "7528",
         "fbe53c66-3442-4773-b19e-d3ec6f54dddf",
         "No Title Data Available",
         "No description available Story format",
         null,
         "User Info Error",
         "N,o, ,T,a,g,s, ,A,v,a,i,l,a,b,l,e",
         "7528",
         "7528",
         "/data/mens-fashion",
         "mens-fashion"
        ],
        [
         "2863",
         "9bf39437-42a6-4f02-99a0-9a0383d8cd70",
         "25 Super Fun Summer Crafts for Kids - Of Life and Lisa",
         "Keep the kids busy this summer with these easy diy crafts and projects. Creative and…",
         124000,
         "Of Life & Lisa | Lifestyle Blog",
         "Summer Crafts For Kids,Fun Crafts For Kids,Summer Kids,Toddler Crafts,Crafts To Do,Diy For Kids,Summer Snow,Diys For Summer,Craft Ideas For Girls",
         "2863",
         "2863",
         "/data/diy-and-crafts",
         "diy-and-crafts"
        ],
        [
         "5730",
         "1e1f0c8b-9fcf-460b-9154-c775827206eb",
         "Island Oasis Coupon Organizer",
         "Description Coupon Organizer in a fun colorful fabric -island oasis, Great Size for the \"basic\" couponer - holds up to 500 coupons with ease, and is made long enough so that you… ",
         0,
         "Consuelo Aguirre",
         "Grocery Items,Grocery Coupons,Care Organization,Coupon Organization,Extreme Couponing,Couponing 101,Life Binder,Save My Money,Love Coupons",
         "5730",
         "5730",
         "/data/finance",
         "finance"
        ],
        [
         "8304",
         "5b6d0913-25e4-43ab-839d-85d5516f78a4",
         "The #1 Reason You’re Not His Priority Anymore - Matthew Coast",
         "#lovequotes #matchmaker #matchmadeinheaven #loveyourself #respectyourself",
         51000,
         "Commitment Connection",
         "Wise Quotes,Quotable Quotes,Words Quotes,Wise Words,Quotes To Live By,Great Quotes,Motivational Quotes,Inspirational Quotes,Funny Quotes",
         "8304",
         "8304",
         "/data/quotes",
         "quotes"
        ],
        [
         "8731",
         "ea760f71-febf-4023-b592-d17396659039",
         "20 Koi Fish Tattoos For Lucky Men",
         "Koi fish tattoos are a popular choice for men who want to make a statement, thanks to their rich symbolism and bold design.",
         211000,
         "TheTrendSpotter",
         "Dr Tattoo,Wörter Tattoos,Pisces Tattoos,Tatoo Art,Dream Tattoos,Dope Tattoos,Mini Tattoos,Finger Tattoos,Body Art Tattoos",
         "8731",
         "8731",
         "/data/tattoos",
         "tattoos"
        ],
        [
         "1313",
         "44662045-e891-4821-8a19-ebe7eedd371a",
         "Liquid Lash Extensions Mascara",
         "Instantly create the look of lash extensions with this award-winning, best-selling mascara that won't clump, flake or smudge. Available in 3 shades!",
         43000,
         "Thrive Causemetics",
         "N,o, ,T,a,g,s, ,A,v,a,i,l,a,b,l,e",
         "1313",
         "1313",
         "/data/beauty",
         "beauty"
        ],
        [
         "4315",
         "21b59ba9-829d-4c33-8c27-4cd4c56d26b8",
         "Podcasts for Teachers or Parents of Teenagers",
         "Podcasts for Teachers or Parents of Teenagers: Teaching teens middle school and high school can feel joyful and rewarding most days, but can also frustrate you with one challeng… ",
         25000,
         "Math Giraffe",
         "Middle School Classroom,High School Students,High School Teachers,Middle School Tips,High School Counseling,Ela Classroom,High School Science,Future Classroom,Google Classroom",
         "4315",
         "4315",
         "/data/education",
         "education"
        ],
        [
         "10794",
         "c4bd2577-a7bb-4409-bb7a-17d5ed7e1cf1",
         "TireBuyer",
         "Nissan GT-R. Sick.",
         437,
         "Ray Uyemura",
         "Lowrider,Old Vintage Cars,Antique Cars,Austin Martin,Nissan Gtr Black,Jaguar,1959 Cadillac,Cadillac Ct6,Old School Cars",
         "10794",
         "10794",
         "/data/vehicles",
         "vehicles"
        ],
        [
         "5494",
         "8fb2af68-543b-4639-8119-de33d28706ed",
         "Dave Ramsey's 7 Baby Steps: What Are They And Will They Work For You",
         "If you love budgeting, make sure to give Dave Ramsey's 7 Baby Steps a try. Follow these steps to begin your debt snowball, build an emergency fund, invest and reach riches. I ca… ",
         26000,
         "Living Low Key | Save Money, Make Money, & Frugal Living",
         "Financial Peace,Financial Tips,Saving Money Quotes,Total Money Makeover,Budgeting Finances,Money Management,Wealth Management,Personal Finance,Making Ideas",
         "5494",
         "5494",
         "/data/finance",
         "finance"
        ],
        [
         "5069",
         "b75b6f87-deb3-444f-b29e-ce9161b2df49",
         "The Vault: Curated & Refined Wedding Inspiration",
         "Sacramento California Wedding 2 Chic Events & Design Jodi Yorston Photography Wilson Vineyards Barn Miosa Couture Yellow Barn Vineyard Outdoor Candles DIY",
         null,
         "Style Me Pretty",
         "60th Anniversary Parties,Anniversary Decorations,Golden Anniversary,25th Wedding Anniversary,Anniversary Pictures,Anniversary Ideas,Birthday Decorations,Event Planning Design,Event Design",
         "5069",
         "5069",
         "/data/event-planning",
         "event-planning"
        ],
        [
         "2923",
         "52fa3af5-24a4-4ccb-8f17-9c3eb12327ee",
         "UFO Paper Plate Craft",
         "A fun space activity for kids. Preshoolers and kindergartners will love making their own alien spacecraft!",
         192000,
         "The Crafting Chicks",
         "Paper Plate Crafts For Kids,Fun Crafts For Kids,Summer Crafts,Toddler Crafts,Art For Kids,Outer Space Crafts For Kids,Kid Crafts,Space Kids,Back To School Crafts For Kids",
         "2923",
         "2923",
         "/data/diy-and-crafts",
         "diy-and-crafts"
        ],
        [
         "3089",
         "88f9227e-88d0-4b1c-b0be-bcfc3028b8e2",
         "No Title Data Available",
         "No description available Story format",
         null,
         "User Info Error",
         "N,o, ,T,a,g,s, ,A,v,a,i,l,a,b,l,e",
         "3089",
         "3089",
         "/data/diy-and-crafts",
         "diy-and-crafts"
        ],
        [
         "6063",
         "60693727-4927-4bd6-a8c5-096a392d63e6",
         "41 Gorgeous Fall Decor Ideas For Your Home - Chaylor & Mads",
         "Beautiful and easy ways to update every room in your home with fall decor. Plus, my favorite finds in fall decor for 2020!",
         92000,
         "Kristen | Lifestyle, Mom Tips & Teacher Stuff Blog",
         "Fall Home Decor,Autumn Home,Fall Decor Outdoor,Front Porch Fall Decor,Home Decor Ideas,Porch Ideas For Fall,Fall Outdoor Decorating,Decorating Ideas For Fall,Fall Front Doors",
         "6063",
         "6063",
         "/data/home-decor",
         "home-decor"
        ],
        [
         "3454",
         "46bd3f86-b09d-4e29-9033-7ff2df595e51",
         "What can you use to color resin?",
         "HELPFUL RESOURCES – Check out my resin colorants resources page here with links to all the products mentioned in this article (and more). Let me know if you have any that you lo… ",
         6000,
         "Mixed Media Crafts",
         "Epoxy Resin Art,Diy Resin Art,Diy Resin Crafts,Resin Molds,Ice Resin,Resin Pour,Diy Epoxy,Diy Resin Painting,Diy Resin Dice",
         "3454",
         "3454",
         "/data/diy-and-crafts",
         "diy-and-crafts"
        ],
        [
         "7554",
         "c6fa12f4-0d4a-4b07-a335-5bf9f37f8281",
         "Craig Style",
         "imgentleboss: “ - More about men’s fashion at @Gentleboss - GB’s Facebook - ”",
         940,
         "iElylike ..✿◕‿◕✿ஐ✿◕‿◕✿",
         "Mens Fashion Blog,Look Fashion,Autumn Fashion,Fashion News,Fashion Sale,80s Fashion,Paris Fashion,Runway Fashion,Fashion Trends",
         "7554",
         "7554",
         "/data/mens-fashion",
         "mens-fashion"
        ],
        [
         "6145",
         "82e13a07-db99-43a3-b1c0-89a4b75821da",
         "HOLIDAY MANTLE DECOR - @AMAZON & @TARGET FINDS",
         "Holiday mantle decor, Christmas decor, metallic mercury glass style Christmas trees, eucalyptus vine, evergreen pine branches, white neutral holiday decor, cozy mantle for the h… ",
         83000,
         "Stylin by Aylin",
         "Winter Home Decor,Christmas Living Room Decor,Living Room Decor Cozy,Christmas Decor,Cozy Fireplace,Rustic Fireplace Decor,Fireplace Decorations,Rustic Room,House Decorations",
         "6145",
         "6145",
         "/data/home-decor",
         "home-decor"
        ],
        [
         "10625",
         "d31885b7-742a-4e2a-bbb7-ac5f9d334340",
         "Jaguar Type E",
         "1937 Jaguar SS100 - 2 1/2 Litre Roadster, one of the most sought after pre-war sports cars",
         8000,
         "hobbyDB",
         "Jaguar Type E,Jaguar Xk,Jaguar Cars,Jaguar Roadster,Jaguar Sport,Retro Cars,Vintage Cars,Antique Cars,British Sports Cars",
         "10625",
         "10625",
         "/data/vehicles",
         "vehicles"
        ],
        [
         "2959",
         "439cac4b-18e8-4aaa-88c5-edb26a701111",
         "The Cutest Toilet Paper Crafts",
         "One thing I love about Crafts is how the evolve! These toilet paper rolls are adorable and modern. I love that something as simple as a recycled toilet paper roll can be taken t… ",
         502000,
         "CraftGossip.com",
         "Toilet Paper Roll Crafts,Cardboard Crafts,Diy Paper,Paper Crafting,Toilet Paper Rolls,Cardboard Playhouse,Paper Art,Kids Crafts,Toddler Crafts",
         "2959",
         "2959",
         "/data/diy-and-crafts",
         "diy-and-crafts"
        ],
        [
         "9875",
         "782dcbad-ff91-40a6-ba60-216efe29adb7",
         "European Bucket List: 35 Things NOT To Miss When Traveling Europe",
         "35 European bucket list destinations for any traveler heading to Europe. From Cinque Terre, Italy to Iceland - there are so many amazing sites to see in Europe.",
         28000,
         "Nicki ",
         "Backpacking Europe,Europe Travel Guide,Travel Guides,Travel Packing,Traveling Europe,Travelling,Travel Backpack,Budget Travel,2 Week Europe Itinerary",
         "9875",
         "9875",
         "/data/travel",
         "travel"
        ],
        [
         "2418",
         "da8745a6-5160-46c4-877d-181d50a729fd",
         "100 DIY Christmas Centerpieces You'll Love To Decorate Your Home With For The Christmas Season - Hike n Dip",
         "Here are the best DIY Christmas Centerpieces ideas perfect for your Christmas & holiday season home decor. From Christmas Vignettes to Table Centerpieces.",
         500000,
         "HikenDip",
         "Farmhouse Christmas Decor,Rustic Christmas,Christmas Time,Vintage Christmas,Xmas,Primitive Christmas Crafts,Christmas Vignette,Indoor Christmas Decorations,Diy Christmas Ornaments",
         "2418",
         "2418",
         "/data/christmas",
         "christmas"
        ],
        [
         "3156",
         "fa6e31a4-18c2-4eca-a6d8-e903eee2c2a4",
         "Handprint Reindeer Ornaments - Crafty Morning",
         "This post may contain affiliate links, read our Disclosure Policy for more information. As an Amazon Associate I earn from qualifying purchases, thank you! Make some cute handpr… ",
         892000,
         "Michelle {CraftyMorning.com}",
         "Christmas Gifts For Parents,Christmas Decorations For Kids,Christmas Crafts For Toddlers,Preschool Christmas,Christmas Crafts For Gifts,Christmas Activities,Toddler Crafts,Kids Christmas,Christmas Feeling",
         "3156",
         "3156",
         "/data/diy-and-crafts",
         "diy-and-crafts"
        ]
       ],
       "datasetInfos": [],
       "dbfsResultPath": null,
       "isJsonSchema": true,
       "metadata": {},
       "overflow": false,
       "plotOptions": {
        "customPlotOptions": {},
        "displayType": "table",
        "pivotAggregation": null,
        "pivotColumns": null,
        "xColumns": null,
        "yColumns": null
       },
       "removedWidgets": [],
       "schema": [
        {
         "metadata": "{}",
         "name": "ind",
         "type": "\"string\""
        },
        {
         "metadata": "{}",
         "name": "unique_id",
         "type": "\"string\""
        },
        {
         "metadata": "{}",
         "name": "title",
         "type": "\"string\""
        },
        {
         "metadata": "{}",
         "name": "description",
         "type": "\"string\""
        },
        {
         "metadata": "{}",
         "name": "follower_count",
         "type": "\"integer\""
        },
        {
         "metadata": "{}",
         "name": "poster_name",
         "type": "\"string\""
        },
        {
         "metadata": "{}",
         "name": "tag_list",
         "type": "\"string\""
        },
        {
         "metadata": "{}",
         "name": "is_image_or_video",
         "type": "\"string\""
        },
        {
         "metadata": "{}",
         "name": "image_src",
         "type": "\"string\""
        },
        {
         "metadata": "{}",
         "name": "save_location",
         "type": "\"string\""
        },
        {
         "metadata": "{}",
         "name": "category",
         "type": "\"string\""
        }
       ],
       "type": "table"
      }
     },
     "output_type": "display_data"
    }
   ],
   "source": [
    "dbutils.fs.rm(\"/tmp/kinesis/_checkpoints/\", True) #Deletes the checkpoint folder so that the write command can be run again\n",
    "\n",
    "def create_dataframe_from_stream_data(type_of_record):\n",
    "    '''\n",
    "    Creates a dataframe from the incoming streaming data and produces a dataframe in a json string format\n",
    "\n",
    "    Parameters\n",
    "    ----------\n",
    "    type_of_record: str\n",
    "        the type of record that is being added to the df e.g. \"pin\"\n",
    "\n",
    "    Returns\n",
    "    -------\n",
    "    df\n",
    "        the dataframe that has been created\n",
    "    '''\n",
    "    df = spark.readStream \\\n",
    "        .format(\"kinesis\") \\\n",
    "        .option(\"streamName\", f\"streaming-0a4e65e909bd-{type_of_record}\") \\\n",
    "        .option(\"region\", \"us-east-1\") \\\n",
    "        .option(\"initialPosition\", 'earliest') \\\n",
    "        .option(\"awsAccessKey\", ACCESS_KEY) \\\n",
    "        .option(\"awsSecretKey\", SECRET_KEY) \\\n",
    "        .load()\n",
    "    df = df.selectExpr(\"CAST(data as STRING)\")\n",
    "    return df\n",
    "\n",
    "def normalise_follower_count():\n",
    "    '''\n",
    "    Changes the follower count from a string, to an integer\n",
    "\n",
    "    Parameters\n",
    "    ----------\n",
    "    None\n",
    "\n",
    "    Returns\n",
    "    -------\n",
    "    None\n",
    "    '''\n",
    "    df = pin_df.withColumn(\"follower_count\", when(\n",
    "        col(\"follower_count\").rlike(\"\\\\d+k\"), #Checks if the value matches a pattern of one or more digits plus the letter k (e.g. 12k)\n",
    "        (regexp_extract(col(\"follower_count\"), \"(\\\\d+)\", 1).cast(\"integer\") * 1000) \n",
    "    ).otherwise(col(\"follower_count\").cast(\"integer\"))) \n",
    "    return df\n",
    "\n",
    "def create_delta_table(df, type_of_record):\n",
    "    df.writeStream \\\n",
    "    .format(\"delta\") \\\n",
    "    .outputMode(\"append\") \\\n",
    "    .option(\"checkpointLocation\", \"/tmp/kinesis/_checkpoints/\") \\\n",
    "    .table(f\"0a4e65e909bd_{type_of_record}_table\")\n",
    "\n",
    "schema = StructType([ #Gives the structure of the df for the table to be laid out \n",
    "    StructField(\"index\",StringType(),True), \n",
    "    StructField(\"unique_id\",StringType(),True), \n",
    "    StructField(\"title\",StringType(),True), \n",
    "    StructField(\"description\", StringType(), True),\n",
    "    StructField(\"poster_name\", StringType(), True),\n",
    "    StructField(\"follower_count\", StringType(), True),\n",
    "    StructField(\"tag_list\", StringType(), True),\n",
    "    StructField(\"is_image_or_video\", StringType(), True),\n",
    "    StructField(\"image_src\", StringType(), True),\n",
    "    StructField(\"downloaded\", StringType(), True),\n",
    "    StructField(\"save_location\", StringType(), True),\n",
    "    StructField(\"category\", StringType(), True)\n",
    "  ])\n",
    "\n",
    "pin_df = create_dataframe_from_stream_data(\"pin\")\n",
    "\n",
    "#Assembles data into df with separate columns\n",
    "pin_df = pin_df.withColumn(\"jsonData\",from_json(col(\"data\"),schema)) \\\n",
    "                   .select(\"jsonData.*\")\n",
    "\n",
    "pin_df = normalise_follower_count()\n",
    "pin_df = pin_df.withColumn(\"save_location\", regexp_extract(col(\"save_location\"), \"(/data/).*\", 0)) #Extracts the save location of the column \n",
    "pin_df = pin_df.withColumnRenamed(\"index\", \"ind\") #Renames the index column to ind to match the geo and user dfs\n",
    "# pin_df = pin_df.withColumn(\"ind\",col(\"ind\").cast(\"integer\")) #Ensures ind column is an integer\n",
    "\n",
    "column_structure = [\"ind\", \"unique_id\", \"title\", \"description\", \"follower_count\", \"poster_name\", \"tag_list\", \"is_image_or_video\", \"image_src\", \"save_location\", \"category\"]\n",
    "pin_df = pin_df.select(column_structure) #Rstructures the column to the order in column_structure\n",
    "\n",
    "display(pin_df)\n",
    "create_delta_table(pin_df, \"pin\")\n"
   ]
  },
  {
   "cell_type": "code",
   "execution_count": 0,
   "metadata": {
    "application/vnd.databricks.v1+cell": {
     "cellMetadata": {
      "byteLimit": 2048000,
      "rowLimit": 10000
     },
     "inputWidgets": {},
     "nuid": "1389e7f7-73f3-4bde-905d-2fdad15a92d4",
     "showTitle": false,
     "title": ""
    }
   },
   "outputs": [
    {
     "output_type": "display_data",
     "data": {
      "text/html": [
       "<style scoped>\n",
       "  .table-result-container {\n",
       "    max-height: 300px;\n",
       "    overflow: auto;\n",
       "  }\n",
       "  table, th, td {\n",
       "    border: 1px solid black;\n",
       "    border-collapse: collapse;\n",
       "  }\n",
       "  th, td {\n",
       "    padding: 5px;\n",
       "  }\n",
       "  th {\n",
       "    text-align: left;\n",
       "  }\n",
       "</style><div class='table-result-container'><table class='table-result'><thead style='background-color: white'><tr><th>ind</th><th>country</th><th>coordinates</th><th>timestamp</th></tr></thead><tbody><tr><td>2386</td><td>Montenegro</td><td>List(-153.293, 21.6023)</td><td>2019-02-22T20:21:06.000+0000</td></tr><tr><td>2386</td><td>Montenegro</td><td>List(-153.293, 21.6023)</td><td>2019-02-22T20:21:06.000+0000</td></tr><tr><td>2386</td><td>Montenegro</td><td>List(-153.293, 21.6023)</td><td>2019-02-22T20:21:06.000+0000</td></tr><tr><td>2386</td><td>Montenegro</td><td>List(-153.293, 21.6023)</td><td>2019-02-22T20:21:06.000+0000</td></tr><tr><td>2386</td><td>Montenegro</td><td>List(-153.293, 21.6023)</td><td>2019-02-22T20:21:06.000+0000</td></tr><tr><td>2386</td><td>Montenegro</td><td>List(-153.293, 21.6023)</td><td>2019-02-22T20:21:06.000+0000</td></tr><tr><td>2386</td><td>Montenegro</td><td>List(-153.293, 21.6023)</td><td>2019-02-22T20:21:06.000+0000</td></tr><tr><td>2386</td><td>Montenegro</td><td>List(-153.293, 21.6023)</td><td>2019-02-22T20:21:06.000+0000</td></tr><tr><td>2386</td><td>Montenegro</td><td>List(-153.293, 21.6023)</td><td>2019-02-22T20:21:06.000+0000</td></tr><tr><td>2386</td><td>Montenegro</td><td>List(-153.293, 21.6023)</td><td>2019-02-22T20:21:06.000+0000</td></tr><tr><td>2386</td><td>Montenegro</td><td>List(-153.293, 21.6023)</td><td>2019-02-22T20:21:06.000+0000</td></tr><tr><td>2386</td><td>Montenegro</td><td>List(-153.293, 21.6023)</td><td>2019-02-22T20:21:06.000+0000</td></tr><tr><td>7528</td><td>Albania</td><td>List(-173.293, -89.9787)</td><td>2020-08-28T03:52:47.000+0000</td></tr><tr><td>2863</td><td>Armenia</td><td>List(-177.924, -5.34445)</td><td>2020-04-27T13:34:16.000+0000</td></tr><tr><td>5730</td><td>Colombia</td><td>List(-101.437, -77.015)</td><td>2021-04-19T17:37:03.000+0000</td></tr><tr><td>8304</td><td>French Guiana</td><td>List(-164.87, -28.8852)</td><td>2019-09-13T04:50:29.000+0000</td></tr><tr><td>8731</td><td>Aruba</td><td>List(-171.302, -83.104)</td><td>2020-07-17T04:39:09.000+0000</td></tr><tr><td>1313</td><td>Maldives</td><td>List(61.9119, 77.0447)</td><td>2018-06-26T02:39:25.000+0000</td></tr><tr><td>4315</td><td>Cote d'Ivoire</td><td>List(66.1003, -45.8508)</td><td>2019-12-15T03:51:28.000+0000</td></tr><tr><td>10794</td><td>Cocos (Keeling) Islands</td><td>List(-154.567, -89.5236)</td><td>2022-01-01T02:26:50.000+0000</td></tr><tr><td>5494</td><td>Bulgaria</td><td>List(-129.202, -82.6768)</td><td>2021-07-21T02:02:35.000+0000</td></tr><tr><td>5069</td><td>Azerbaijan</td><td>List(-157.474, -63.0063)</td><td>2021-03-20T09:32:44.000+0000</td></tr><tr><td>2923</td><td>Cote d'Ivoire</td><td>List(-164.507, -84.6302)</td><td>2019-09-08T22:53:09.000+0000</td></tr><tr><td>3089</td><td>Albania</td><td>List(-173.293, -89.9787)</td><td>2018-02-28T05:31:29.000+0000</td></tr><tr><td>6063</td><td>Anguilla</td><td>List(-174.015, -89.1797)</td><td>2021-07-20T09:02:47.000+0000</td></tr><tr><td>3454</td><td>Cambodia</td><td>List(49.8106, -0.375174)</td><td>2021-07-25T02:20:29.000+0000</td></tr><tr><td>7554</td><td>Sudan</td><td>List(-77.9768, -51.2172)</td><td>2019-03-20T03:15:07.000+0000</td></tr><tr><td>6145</td><td>Mozambique</td><td>List(-143.845, -65.9079)</td><td>2019-12-05T02:09:44.000+0000</td></tr><tr><td>10625</td><td>Jamaica</td><td>List(-81.0613, -84.4944)</td><td>2018-07-13T11:51:15.000+0000</td></tr><tr><td>2959</td><td>Angola</td><td>List(-157.227, -68.0095)</td><td>2019-08-19T08:22:02.000+0000</td></tr><tr><td>9875</td><td>Barbados</td><td>List(-110.484, -74.3382)</td><td>2020-03-20T13:03:18.000+0000</td></tr><tr><td>2418</td><td>Antarctica (the territory South of 60 deg S)</td><td>List(-171.061, -88.4642)</td><td>2022-05-27T11:30:59.000+0000</td></tr><tr><td>3156</td><td>Armenia</td><td>List(-160.795, -84.738)</td><td>2018-01-13T19:33:49.000+0000</td></tr></tbody></table></div>"
      ]
     },
     "metadata": {
      "application/vnd.databricks.v1+output": {
       "addedWidgets": {},
       "aggData": [],
       "aggError": "",
       "aggOverflow": false,
       "aggSchema": [],
       "aggSeriesLimitReached": false,
       "aggType": "",
       "arguments": {},
       "columnCustomDisplayInfos": {},
       "data": [
        [
         "2386",
         "Montenegro",
         [
          "-153.293",
          "21.6023"
         ],
         "2019-02-22T20:21:06.000+0000"
        ],
        [
         "2386",
         "Montenegro",
         [
          "-153.293",
          "21.6023"
         ],
         "2019-02-22T20:21:06.000+0000"
        ],
        [
         "2386",
         "Montenegro",
         [
          "-153.293",
          "21.6023"
         ],
         "2019-02-22T20:21:06.000+0000"
        ],
        [
         "2386",
         "Montenegro",
         [
          "-153.293",
          "21.6023"
         ],
         "2019-02-22T20:21:06.000+0000"
        ],
        [
         "2386",
         "Montenegro",
         [
          "-153.293",
          "21.6023"
         ],
         "2019-02-22T20:21:06.000+0000"
        ],
        [
         "2386",
         "Montenegro",
         [
          "-153.293",
          "21.6023"
         ],
         "2019-02-22T20:21:06.000+0000"
        ],
        [
         "2386",
         "Montenegro",
         [
          "-153.293",
          "21.6023"
         ],
         "2019-02-22T20:21:06.000+0000"
        ],
        [
         "2386",
         "Montenegro",
         [
          "-153.293",
          "21.6023"
         ],
         "2019-02-22T20:21:06.000+0000"
        ],
        [
         "2386",
         "Montenegro",
         [
          "-153.293",
          "21.6023"
         ],
         "2019-02-22T20:21:06.000+0000"
        ],
        [
         "2386",
         "Montenegro",
         [
          "-153.293",
          "21.6023"
         ],
         "2019-02-22T20:21:06.000+0000"
        ],
        [
         "2386",
         "Montenegro",
         [
          "-153.293",
          "21.6023"
         ],
         "2019-02-22T20:21:06.000+0000"
        ],
        [
         "2386",
         "Montenegro",
         [
          "-153.293",
          "21.6023"
         ],
         "2019-02-22T20:21:06.000+0000"
        ],
        [
         "7528",
         "Albania",
         [
          "-173.293",
          "-89.9787"
         ],
         "2020-08-28T03:52:47.000+0000"
        ],
        [
         "2863",
         "Armenia",
         [
          "-177.924",
          "-5.34445"
         ],
         "2020-04-27T13:34:16.000+0000"
        ],
        [
         "5730",
         "Colombia",
         [
          "-101.437",
          "-77.015"
         ],
         "2021-04-19T17:37:03.000+0000"
        ],
        [
         "8304",
         "French Guiana",
         [
          "-164.87",
          "-28.8852"
         ],
         "2019-09-13T04:50:29.000+0000"
        ],
        [
         "8731",
         "Aruba",
         [
          "-171.302",
          "-83.104"
         ],
         "2020-07-17T04:39:09.000+0000"
        ],
        [
         "1313",
         "Maldives",
         [
          "61.9119",
          "77.0447"
         ],
         "2018-06-26T02:39:25.000+0000"
        ],
        [
         "4315",
         "Cote d'Ivoire",
         [
          "66.1003",
          "-45.8508"
         ],
         "2019-12-15T03:51:28.000+0000"
        ],
        [
         "10794",
         "Cocos (Keeling) Islands",
         [
          "-154.567",
          "-89.5236"
         ],
         "2022-01-01T02:26:50.000+0000"
        ],
        [
         "5494",
         "Bulgaria",
         [
          "-129.202",
          "-82.6768"
         ],
         "2021-07-21T02:02:35.000+0000"
        ],
        [
         "5069",
         "Azerbaijan",
         [
          "-157.474",
          "-63.0063"
         ],
         "2021-03-20T09:32:44.000+0000"
        ],
        [
         "2923",
         "Cote d'Ivoire",
         [
          "-164.507",
          "-84.6302"
         ],
         "2019-09-08T22:53:09.000+0000"
        ],
        [
         "3089",
         "Albania",
         [
          "-173.293",
          "-89.9787"
         ],
         "2018-02-28T05:31:29.000+0000"
        ],
        [
         "6063",
         "Anguilla",
         [
          "-174.015",
          "-89.1797"
         ],
         "2021-07-20T09:02:47.000+0000"
        ],
        [
         "3454",
         "Cambodia",
         [
          "49.8106",
          "-0.375174"
         ],
         "2021-07-25T02:20:29.000+0000"
        ],
        [
         "7554",
         "Sudan",
         [
          "-77.9768",
          "-51.2172"
         ],
         "2019-03-20T03:15:07.000+0000"
        ],
        [
         "6145",
         "Mozambique",
         [
          "-143.845",
          "-65.9079"
         ],
         "2019-12-05T02:09:44.000+0000"
        ],
        [
         "10625",
         "Jamaica",
         [
          "-81.0613",
          "-84.4944"
         ],
         "2018-07-13T11:51:15.000+0000"
        ],
        [
         "2959",
         "Angola",
         [
          "-157.227",
          "-68.0095"
         ],
         "2019-08-19T08:22:02.000+0000"
        ],
        [
         "9875",
         "Barbados",
         [
          "-110.484",
          "-74.3382"
         ],
         "2020-03-20T13:03:18.000+0000"
        ],
        [
         "2418",
         "Antarctica (the territory South of 60 deg S)",
         [
          "-171.061",
          "-88.4642"
         ],
         "2022-05-27T11:30:59.000+0000"
        ],
        [
         "3156",
         "Armenia",
         [
          "-160.795",
          "-84.738"
         ],
         "2018-01-13T19:33:49.000+0000"
        ]
       ],
       "datasetInfos": [],
       "dbfsResultPath": null,
       "isJsonSchema": true,
       "metadata": {
        "isDbfsCommandResult": false
       },
       "overflow": false,
       "plotOptions": {
        "customPlotOptions": {},
        "displayType": "table",
        "pivotAggregation": null,
        "pivotColumns": null,
        "xColumns": null,
        "yColumns": null
       },
       "removedWidgets": [],
       "schema": [
        {
         "metadata": "{}",
         "name": "ind",
         "type": "\"string\""
        },
        {
         "metadata": "{}",
         "name": "country",
         "type": "\"string\""
        },
        {
         "metadata": "{}",
         "name": "coordinates",
         "type": "{\"type\":\"array\",\"elementType\":\"string\",\"containsNull\":true}"
        },
        {
         "metadata": "{}",
         "name": "timestamp",
         "type": "\"timestamp\""
        }
       ],
       "type": "table"
      }
     },
     "output_type": "display_data"
    }
   ],
   "source": [
    "from pyspark.sql.types import StructType,StructField, StringType\n",
    "\n",
    "schema = StructType([ \n",
    "    StructField(\"ind\",StringType(),True), \n",
    "    StructField(\"latitude\",StringType(),True), \n",
    "    StructField(\"longitude\",StringType(),True), \n",
    "    StructField(\"country\", StringType(), True),\n",
    "    StructField(\"timestamp\", StringType(), True)\n",
    "  ])\n",
    "\n",
    "geo_df = create_dataframe_from_stream_data(\"geo\")\n",
    "geo_df = geo_df.withColumn(\"jsonData\",from_json(col(\"data\"),schema)) \\\n",
    "                   .select(\"jsonData.*\")\n",
    "\n",
    "geo_df = geo_df.withColumn(\"coordinates\", array(col(\"longitude\"), col(\"latitude\")))\n",
    "geo_df = geo_df.withColumn(\"timestamp\", col(\"timestamp\").cast(\"timestamp\"))\n",
    "column_structure = [\"ind\", \"country\", \"coordinates\", \"timestamp\"]\n",
    "geo_df = geo_df.select(column_structure)\n",
    "\n",
    "display(geo_df)\n",
    "create_delta_table(geo_df, \"geo\")"
   ]
  },
  {
   "cell_type": "code",
   "execution_count": 0,
   "metadata": {
    "application/vnd.databricks.v1+cell": {
     "cellMetadata": {
      "byteLimit": 2048000,
      "rowLimit": 10000
     },
     "inputWidgets": {},
     "nuid": "289ed220-add7-4334-876a-27e2844d897b",
     "showTitle": false,
     "title": ""
    }
   },
   "outputs": [
    {
     "output_type": "display_data",
     "data": {
      "text/html": [
       "<style scoped>\n",
       "  .table-result-container {\n",
       "    max-height: 300px;\n",
       "    overflow: auto;\n",
       "  }\n",
       "  table, th, td {\n",
       "    border: 1px solid black;\n",
       "    border-collapse: collapse;\n",
       "  }\n",
       "  th, td {\n",
       "    padding: 5px;\n",
       "  }\n",
       "  th {\n",
       "    text-align: left;\n",
       "  }\n",
       "</style><div class='table-result-container'><table class='table-result'><thead style='background-color: white'><tr><th>ind</th><th>user_name</th><th>age</th><th>date_joined</th></tr></thead><tbody><tr><td>2386</td><td>MichelleLloyd</td><td>25</td><td>2017-06-09T01:37:22.000+0000</td></tr><tr><td>2386</td><td>MichelleLloyd</td><td>25</td><td>2017-06-09T01:37:22.000+0000</td></tr><tr><td>2386</td><td>MichelleLloyd</td><td>25</td><td>2017-06-09T01:37:22.000+0000</td></tr><tr><td>2386</td><td>MichelleLloyd</td><td>25</td><td>2017-06-09T01:37:22.000+0000</td></tr><tr><td>2386</td><td>MichelleLloyd</td><td>25</td><td>2017-06-09T01:37:22.000+0000</td></tr><tr><td>2386</td><td>MichelleLloyd</td><td>25</td><td>2017-06-09T01:37:22.000+0000</td></tr><tr><td>2386</td><td>MichelleLloyd</td><td>25</td><td>2017-06-09T01:37:22.000+0000</td></tr><tr><td>2386</td><td>MichelleLloyd</td><td>25</td><td>2017-06-09T01:37:22.000+0000</td></tr><tr><td>2386</td><td>MichelleLloyd</td><td>25</td><td>2017-06-09T01:37:22.000+0000</td></tr><tr><td>2386</td><td>MichelleLloyd</td><td>25</td><td>2017-06-09T01:37:22.000+0000</td></tr><tr><td>2386</td><td>MichelleLloyd</td><td>25</td><td>2017-06-09T01:37:22.000+0000</td></tr><tr><td>2386</td><td>MichelleLloyd</td><td>25</td><td>2017-06-09T01:37:22.000+0000</td></tr><tr><td>7528</td><td>AbigailAli</td><td>20</td><td>2015-10-24T11:23:51.000+0000</td></tr><tr><td>2863</td><td>DylanHolmes</td><td>32</td><td>2016-10-23T14:06:51.000+0000</td></tr><tr><td>5730</td><td>RachelDavis</td><td>36</td><td>2015-12-08T20:02:43.000+0000</td></tr><tr><td>8304</td><td>CharlesBerry</td><td>25</td><td>2015-12-28T04:21:39.000+0000</td></tr><tr><td>8731</td><td>AndreaAlexander</td><td>21</td><td>2015-11-10T09:27:42.000+0000</td></tr><tr><td>1313</td><td>BrittanyJones</td><td>32</td><td>2016-04-02T03:51:23.000+0000</td></tr><tr><td>4315</td><td>MichellePrince</td><td>36</td><td>2015-12-20T16:38:13.000+0000</td></tr><tr><td>10794</td><td>ThomasTurner</td><td>34</td><td>2016-12-22T00:02:02.000+0000</td></tr><tr><td>5494</td><td>AnneAllen</td><td>27</td><td>2015-12-16T15:20:05.000+0000</td></tr><tr><td>5069</td><td>AmandaBall</td><td>25</td><td>2016-01-13T17:36:30.000+0000</td></tr><tr><td>2923</td><td>BrianNelson</td><td>26</td><td>2015-11-11T03:20:57.000+0000</td></tr><tr><td>3089</td><td>AbigailAli</td><td>20</td><td>2015-10-24T11:23:51.000+0000</td></tr><tr><td>6063</td><td>CoreyAndrews</td><td>23</td><td>2015-11-25T13:36:22.000+0000</td></tr><tr><td>3454</td><td>RobertMurphy</td><td>48</td><td>2017-09-26T16:31:56.000+0000</td></tr><tr><td>7554</td><td>CherylHuerta</td><td>20</td><td>2017-04-11T16:35:33.000+0000</td></tr><tr><td>6145</td><td>EmilyHawkins</td><td>30</td><td>2015-12-25T20:24:37.000+0000</td></tr><tr><td>10625</td><td>ChristianLang</td><td>32</td><td>2017-10-10T20:09:33.000+0000</td></tr><tr><td>2959</td><td>DavidGriffith</td><td>20</td><td>2016-01-07T19:49:22.000+0000</td></tr><tr><td>9875</td><td>BrendanJoseph</td><td>26</td><td>2015-12-20T10:28:00.000+0000</td></tr><tr><td>2418</td><td>AmandaAdams</td><td>20</td><td>2015-10-21T08:27:36.000+0000</td></tr><tr><td>3156</td><td>AndrewBaker</td><td>22</td><td>2015-12-21T08:06:54.000+0000</td></tr></tbody></table></div>"
      ]
     },
     "metadata": {
      "application/vnd.databricks.v1+output": {
       "addedWidgets": {},
       "aggData": [],
       "aggError": "",
       "aggOverflow": false,
       "aggSchema": [],
       "aggSeriesLimitReached": false,
       "aggType": "",
       "arguments": {},
       "columnCustomDisplayInfos": {},
       "data": [
        [
         "2386",
         "MichelleLloyd",
         "25",
         "2017-06-09T01:37:22.000+0000"
        ],
        [
         "2386",
         "MichelleLloyd",
         "25",
         "2017-06-09T01:37:22.000+0000"
        ],
        [
         "2386",
         "MichelleLloyd",
         "25",
         "2017-06-09T01:37:22.000+0000"
        ],
        [
         "2386",
         "MichelleLloyd",
         "25",
         "2017-06-09T01:37:22.000+0000"
        ],
        [
         "2386",
         "MichelleLloyd",
         "25",
         "2017-06-09T01:37:22.000+0000"
        ],
        [
         "2386",
         "MichelleLloyd",
         "25",
         "2017-06-09T01:37:22.000+0000"
        ],
        [
         "2386",
         "MichelleLloyd",
         "25",
         "2017-06-09T01:37:22.000+0000"
        ],
        [
         "2386",
         "MichelleLloyd",
         "25",
         "2017-06-09T01:37:22.000+0000"
        ],
        [
         "2386",
         "MichelleLloyd",
         "25",
         "2017-06-09T01:37:22.000+0000"
        ],
        [
         "2386",
         "MichelleLloyd",
         "25",
         "2017-06-09T01:37:22.000+0000"
        ],
        [
         "2386",
         "MichelleLloyd",
         "25",
         "2017-06-09T01:37:22.000+0000"
        ],
        [
         "2386",
         "MichelleLloyd",
         "25",
         "2017-06-09T01:37:22.000+0000"
        ],
        [
         "7528",
         "AbigailAli",
         "20",
         "2015-10-24T11:23:51.000+0000"
        ],
        [
         "2863",
         "DylanHolmes",
         "32",
         "2016-10-23T14:06:51.000+0000"
        ],
        [
         "5730",
         "RachelDavis",
         "36",
         "2015-12-08T20:02:43.000+0000"
        ],
        [
         "8304",
         "CharlesBerry",
         "25",
         "2015-12-28T04:21:39.000+0000"
        ],
        [
         "8731",
         "AndreaAlexander",
         "21",
         "2015-11-10T09:27:42.000+0000"
        ],
        [
         "1313",
         "BrittanyJones",
         "32",
         "2016-04-02T03:51:23.000+0000"
        ],
        [
         "4315",
         "MichellePrince",
         "36",
         "2015-12-20T16:38:13.000+0000"
        ],
        [
         "10794",
         "ThomasTurner",
         "34",
         "2016-12-22T00:02:02.000+0000"
        ],
        [
         "5494",
         "AnneAllen",
         "27",
         "2015-12-16T15:20:05.000+0000"
        ],
        [
         "5069",
         "AmandaBall",
         "25",
         "2016-01-13T17:36:30.000+0000"
        ],
        [
         "2923",
         "BrianNelson",
         "26",
         "2015-11-11T03:20:57.000+0000"
        ],
        [
         "3089",
         "AbigailAli",
         "20",
         "2015-10-24T11:23:51.000+0000"
        ],
        [
         "6063",
         "CoreyAndrews",
         "23",
         "2015-11-25T13:36:22.000+0000"
        ],
        [
         "3454",
         "RobertMurphy",
         "48",
         "2017-09-26T16:31:56.000+0000"
        ],
        [
         "7554",
         "CherylHuerta",
         "20",
         "2017-04-11T16:35:33.000+0000"
        ],
        [
         "6145",
         "EmilyHawkins",
         "30",
         "2015-12-25T20:24:37.000+0000"
        ],
        [
         "10625",
         "ChristianLang",
         "32",
         "2017-10-10T20:09:33.000+0000"
        ],
        [
         "2959",
         "DavidGriffith",
         "20",
         "2016-01-07T19:49:22.000+0000"
        ],
        [
         "9875",
         "BrendanJoseph",
         "26",
         "2015-12-20T10:28:00.000+0000"
        ],
        [
         "2418",
         "AmandaAdams",
         "20",
         "2015-10-21T08:27:36.000+0000"
        ],
        [
         "3156",
         "AndrewBaker",
         "22",
         "2015-12-21T08:06:54.000+0000"
        ]
       ],
       "datasetInfos": [],
       "dbfsResultPath": null,
       "isJsonSchema": true,
       "metadata": {
        "isDbfsCommandResult": false
       },
       "overflow": false,
       "plotOptions": {
        "customPlotOptions": {},
        "displayType": "table",
        "pivotAggregation": null,
        "pivotColumns": null,
        "xColumns": null,
        "yColumns": null
       },
       "removedWidgets": [],
       "schema": [
        {
         "metadata": "{}",
         "name": "ind",
         "type": "\"string\""
        },
        {
         "metadata": "{}",
         "name": "user_name",
         "type": "\"string\""
        },
        {
         "metadata": "{}",
         "name": "age",
         "type": "\"string\""
        },
        {
         "metadata": "{}",
         "name": "date_joined",
         "type": "\"timestamp\""
        }
       ],
       "type": "table"
      }
     },
     "output_type": "display_data"
    }
   ],
   "source": [
    "schema = StructType([ \n",
    "    StructField(\"ind\",StringType(),True), \n",
    "    StructField(\"first_name\",StringType(),True), \n",
    "    StructField(\"last_name\",StringType(),True), \n",
    "    StructField(\"age\", StringType(), True),\n",
    "    StructField(\"date_joined\", StringType(), True)\n",
    "  ])\n",
    "\n",
    "user_df = create_dataframe_from_stream_data(\"user\")\n",
    "user_df = user_df.withColumn(\"jsonData\",from_json(col(\"data\"),schema)) \\\n",
    "                   .select(\"jsonData.*\")\n",
    "\n",
    "user_df = user_df.withColumn(\"user_name\", concat(col(\"first_name\"),col(\"last_name\")))\n",
    "user_df = user_df.drop(\"first_name\", \"last_name\")\n",
    "user_df = user_df.withColumn(\"date_joined\", col(\"date_joined\").cast(\"timestamp\"))\n",
    "\n",
    "column_structure = [\"ind\", \"user_name\", \"age\", \"date_joined\"]\n",
    "user_df = user_df.select(column_structure)\n",
    "\n",
    "display(user_df)\n",
    "create_delta_table(user_df, \"user\")"
   ]
  },
  {
   "cell_type": "code",
   "execution_count": 0,
   "metadata": {
    "application/vnd.databricks.v1+cell": {
     "cellMetadata": {},
     "inputWidgets": {},
     "nuid": "0e413112-a952-41ee-83bd-79517cae7f17",
     "showTitle": false,
     "title": ""
    }
   },
   "outputs": [],
   "source": []
  }
 ],
 "metadata": {
  "application/vnd.databricks.v1+notebook": {
   "dashboards": [],
   "language": "python",
   "notebookMetadata": {
    "pythonIndentUnit": 4
   },
   "notebookName": "streaming_transformation",
   "widgets": {}
  }
 },
 "nbformat": 4,
 "nbformat_minor": 0
}
